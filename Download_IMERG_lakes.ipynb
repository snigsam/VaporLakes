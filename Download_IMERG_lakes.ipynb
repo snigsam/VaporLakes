{
 "cells": [
  {
   "cell_type": "markdown",
   "id": "1e621921-a910-4361-9a2a-c451f84211cd",
   "metadata": {},
   "source": [
    "# grab IMERG fields for the bounding box +/- 5 degrees and write out \n"
   ]
  },
  {
   "cell_type": "code",
   "execution_count": 1,
   "id": "31300c9e-fd42-4360-87e4-e108dc43f480",
   "metadata": {},
   "outputs": [],
   "source": [
    "import xarray as xr\n",
    "import matplotlib.pyplot as plt\n",
    "import numpy as np\n",
    "import pandas as pd\n",
    "\n",
    "import geopandas as gp\n",
    "\n",
    "from shapely.geometry import Point\n",
    "import pyproj\n",
    "geodesic = pyproj.Geod(ellps='WGS84')\n",
    "\n",
    "import warnings\n",
    "warnings.filterwarnings('ignore')"
   ]
  },
  {
   "cell_type": "markdown",
   "id": "53036a8b-6644-4f4d-9fed-7ee8550b4517",
   "metadata": {},
   "source": [
    "## Read all lakes in 2014-2018 \n",
    "#### lakes dataframe was \"improved\" in LakeCaseStudy.ipynb with firsttime added"
   ]
  },
  {
   "cell_type": "code",
   "execution_count": 2,
   "id": "a1ec77ac-3dd7-4f5b-8d12-0094f0c43289",
   "metadata": {},
   "outputs": [],
   "source": [
    "df = pd.read_csv('ccvls_stats_2014-2018.improved.csv')\n",
    "# df"
   ]
  },
  {
   "cell_type": "code",
   "execution_count": 3,
   "id": "dd27b987-4769-471f-bd21-225888ca2013",
   "metadata": {},
   "outputs": [
    {
     "data": {
      "text/plain": [
       "39"
      ]
     },
     "execution_count": 3,
     "metadata": {},
     "output_type": "execute_result"
    }
   ],
   "source": [
    "equatorcases = df[ abs(df.coastlat) < 10 ] # 162 of them exceeding 1 day \n",
    "eq7cases = equatorcases[ equatorcases.dur_days > 6 ]  # 39 of them exceeding a week (more than 6 in days) \n",
    "eq7cases.maxarea.size"
   ]
  },
  {
   "cell_type": "markdown",
   "id": "b8f8b864-41f8-4bde-8c2f-aa51019062ae",
   "metadata": {
    "tags": []
   },
   "source": [
    "# Grab IMERG for the event bounding box"
   ]
  },
  {
   "cell_type": "code",
   "execution_count": 4,
   "id": "cecf9cc7-68c4-4fb3-9ad0-4ebc0ee4ab9e",
   "metadata": {},
   "outputs": [
    {
     "data": {
      "text/html": [
       "<div><svg style=\"position: absolute; width: 0; height: 0; overflow: hidden\">\n",
       "<defs>\n",
       "<symbol id=\"icon-database\" viewBox=\"0 0 32 32\">\n",
       "<path d=\"M16 0c-8.837 0-16 2.239-16 5v4c0 2.761 7.163 5 16 5s16-2.239 16-5v-4c0-2.761-7.163-5-16-5z\"></path>\n",
       "<path d=\"M16 17c-8.837 0-16-2.239-16-5v6c0 2.761 7.163 5 16 5s16-2.239 16-5v-6c0 2.761-7.163 5-16 5z\"></path>\n",
       "<path d=\"M16 26c-8.837 0-16-2.239-16-5v6c0 2.761 7.163 5 16 5s16-2.239 16-5v-6c0 2.761-7.163 5-16 5z\"></path>\n",
       "</symbol>\n",
       "<symbol id=\"icon-file-text2\" viewBox=\"0 0 32 32\">\n",
       "<path d=\"M28.681 7.159c-0.694-0.947-1.662-2.053-2.724-3.116s-2.169-2.030-3.116-2.724c-1.612-1.182-2.393-1.319-2.841-1.319h-15.5c-1.378 0-2.5 1.121-2.5 2.5v27c0 1.378 1.122 2.5 2.5 2.5h23c1.378 0 2.5-1.122 2.5-2.5v-19.5c0-0.448-0.137-1.23-1.319-2.841zM24.543 5.457c0.959 0.959 1.712 1.825 2.268 2.543h-4.811v-4.811c0.718 0.556 1.584 1.309 2.543 2.268zM28 29.5c0 0.271-0.229 0.5-0.5 0.5h-23c-0.271 0-0.5-0.229-0.5-0.5v-27c0-0.271 0.229-0.5 0.5-0.5 0 0 15.499-0 15.5 0v7c0 0.552 0.448 1 1 1h7v19.5z\"></path>\n",
       "<path d=\"M23 26h-14c-0.552 0-1-0.448-1-1s0.448-1 1-1h14c0.552 0 1 0.448 1 1s-0.448 1-1 1z\"></path>\n",
       "<path d=\"M23 22h-14c-0.552 0-1-0.448-1-1s0.448-1 1-1h14c0.552 0 1 0.448 1 1s-0.448 1-1 1z\"></path>\n",
       "<path d=\"M23 18h-14c-0.552 0-1-0.448-1-1s0.448-1 1-1h14c0.552 0 1 0.448 1 1s-0.448 1-1 1z\"></path>\n",
       "</symbol>\n",
       "</defs>\n",
       "</svg>\n",
       "<style>/* CSS stylesheet for displaying xarray objects in jupyterlab.\n",
       " *\n",
       " */\n",
       "\n",
       ":root {\n",
       "  --xr-font-color0: var(--jp-content-font-color0, rgba(0, 0, 0, 1));\n",
       "  --xr-font-color2: var(--jp-content-font-color2, rgba(0, 0, 0, 0.54));\n",
       "  --xr-font-color3: var(--jp-content-font-color3, rgba(0, 0, 0, 0.38));\n",
       "  --xr-border-color: var(--jp-border-color2, #e0e0e0);\n",
       "  --xr-disabled-color: var(--jp-layout-color3, #bdbdbd);\n",
       "  --xr-background-color: var(--jp-layout-color0, white);\n",
       "  --xr-background-color-row-even: var(--jp-layout-color1, white);\n",
       "  --xr-background-color-row-odd: var(--jp-layout-color2, #eeeeee);\n",
       "}\n",
       "\n",
       "html[theme=dark],\n",
       "body.vscode-dark {\n",
       "  --xr-font-color0: rgba(255, 255, 255, 1);\n",
       "  --xr-font-color2: rgba(255, 255, 255, 0.54);\n",
       "  --xr-font-color3: rgba(255, 255, 255, 0.38);\n",
       "  --xr-border-color: #1F1F1F;\n",
       "  --xr-disabled-color: #515151;\n",
       "  --xr-background-color: #111111;\n",
       "  --xr-background-color-row-even: #111111;\n",
       "  --xr-background-color-row-odd: #313131;\n",
       "}\n",
       "\n",
       ".xr-wrap {\n",
       "  display: block !important;\n",
       "  min-width: 300px;\n",
       "  max-width: 700px;\n",
       "}\n",
       "\n",
       ".xr-text-repr-fallback {\n",
       "  /* fallback to plain text repr when CSS is not injected (untrusted notebook) */\n",
       "  display: none;\n",
       "}\n",
       "\n",
       ".xr-header {\n",
       "  padding-top: 6px;\n",
       "  padding-bottom: 6px;\n",
       "  margin-bottom: 4px;\n",
       "  border-bottom: solid 1px var(--xr-border-color);\n",
       "}\n",
       "\n",
       ".xr-header > div,\n",
       ".xr-header > ul {\n",
       "  display: inline;\n",
       "  margin-top: 0;\n",
       "  margin-bottom: 0;\n",
       "}\n",
       "\n",
       ".xr-obj-type,\n",
       ".xr-array-name {\n",
       "  margin-left: 2px;\n",
       "  margin-right: 10px;\n",
       "}\n",
       "\n",
       ".xr-obj-type {\n",
       "  color: var(--xr-font-color2);\n",
       "}\n",
       "\n",
       ".xr-sections {\n",
       "  padding-left: 0 !important;\n",
       "  display: grid;\n",
       "  grid-template-columns: 150px auto auto 1fr 20px 20px;\n",
       "}\n",
       "\n",
       ".xr-section-item {\n",
       "  display: contents;\n",
       "}\n",
       "\n",
       ".xr-section-item input {\n",
       "  display: none;\n",
       "}\n",
       "\n",
       ".xr-section-item input + label {\n",
       "  color: var(--xr-disabled-color);\n",
       "}\n",
       "\n",
       ".xr-section-item input:enabled + label {\n",
       "  cursor: pointer;\n",
       "  color: var(--xr-font-color2);\n",
       "}\n",
       "\n",
       ".xr-section-item input:enabled + label:hover {\n",
       "  color: var(--xr-font-color0);\n",
       "}\n",
       "\n",
       ".xr-section-summary {\n",
       "  grid-column: 1;\n",
       "  color: var(--xr-font-color2);\n",
       "  font-weight: 500;\n",
       "}\n",
       "\n",
       ".xr-section-summary > span {\n",
       "  display: inline-block;\n",
       "  padding-left: 0.5em;\n",
       "}\n",
       "\n",
       ".xr-section-summary-in:disabled + label {\n",
       "  color: var(--xr-font-color2);\n",
       "}\n",
       "\n",
       ".xr-section-summary-in + label:before {\n",
       "  display: inline-block;\n",
       "  content: '►';\n",
       "  font-size: 11px;\n",
       "  width: 15px;\n",
       "  text-align: center;\n",
       "}\n",
       "\n",
       ".xr-section-summary-in:disabled + label:before {\n",
       "  color: var(--xr-disabled-color);\n",
       "}\n",
       "\n",
       ".xr-section-summary-in:checked + label:before {\n",
       "  content: '▼';\n",
       "}\n",
       "\n",
       ".xr-section-summary-in:checked + label > span {\n",
       "  display: none;\n",
       "}\n",
       "\n",
       ".xr-section-summary,\n",
       ".xr-section-inline-details {\n",
       "  padding-top: 4px;\n",
       "  padding-bottom: 4px;\n",
       "}\n",
       "\n",
       ".xr-section-inline-details {\n",
       "  grid-column: 2 / -1;\n",
       "}\n",
       "\n",
       ".xr-section-details {\n",
       "  display: none;\n",
       "  grid-column: 1 / -1;\n",
       "  margin-bottom: 5px;\n",
       "}\n",
       "\n",
       ".xr-section-summary-in:checked ~ .xr-section-details {\n",
       "  display: contents;\n",
       "}\n",
       "\n",
       ".xr-array-wrap {\n",
       "  grid-column: 1 / -1;\n",
       "  display: grid;\n",
       "  grid-template-columns: 20px auto;\n",
       "}\n",
       "\n",
       ".xr-array-wrap > label {\n",
       "  grid-column: 1;\n",
       "  vertical-align: top;\n",
       "}\n",
       "\n",
       ".xr-preview {\n",
       "  color: var(--xr-font-color3);\n",
       "}\n",
       "\n",
       ".xr-array-preview,\n",
       ".xr-array-data {\n",
       "  padding: 0 5px !important;\n",
       "  grid-column: 2;\n",
       "}\n",
       "\n",
       ".xr-array-data,\n",
       ".xr-array-in:checked ~ .xr-array-preview {\n",
       "  display: none;\n",
       "}\n",
       "\n",
       ".xr-array-in:checked ~ .xr-array-data,\n",
       ".xr-array-preview {\n",
       "  display: inline-block;\n",
       "}\n",
       "\n",
       ".xr-dim-list {\n",
       "  display: inline-block !important;\n",
       "  list-style: none;\n",
       "  padding: 0 !important;\n",
       "  margin: 0;\n",
       "}\n",
       "\n",
       ".xr-dim-list li {\n",
       "  display: inline-block;\n",
       "  padding: 0;\n",
       "  margin: 0;\n",
       "}\n",
       "\n",
       ".xr-dim-list:before {\n",
       "  content: '(';\n",
       "}\n",
       "\n",
       ".xr-dim-list:after {\n",
       "  content: ')';\n",
       "}\n",
       "\n",
       ".xr-dim-list li:not(:last-child):after {\n",
       "  content: ',';\n",
       "  padding-right: 5px;\n",
       "}\n",
       "\n",
       ".xr-has-index {\n",
       "  font-weight: bold;\n",
       "}\n",
       "\n",
       ".xr-var-list,\n",
       ".xr-var-item {\n",
       "  display: contents;\n",
       "}\n",
       "\n",
       ".xr-var-item > div,\n",
       ".xr-var-item label,\n",
       ".xr-var-item > .xr-var-name span {\n",
       "  background-color: var(--xr-background-color-row-even);\n",
       "  margin-bottom: 0;\n",
       "}\n",
       "\n",
       ".xr-var-item > .xr-var-name:hover span {\n",
       "  padding-right: 5px;\n",
       "}\n",
       "\n",
       ".xr-var-list > li:nth-child(odd) > div,\n",
       ".xr-var-list > li:nth-child(odd) > label,\n",
       ".xr-var-list > li:nth-child(odd) > .xr-var-name span {\n",
       "  background-color: var(--xr-background-color-row-odd);\n",
       "}\n",
       "\n",
       ".xr-var-name {\n",
       "  grid-column: 1;\n",
       "}\n",
       "\n",
       ".xr-var-dims {\n",
       "  grid-column: 2;\n",
       "}\n",
       "\n",
       ".xr-var-dtype {\n",
       "  grid-column: 3;\n",
       "  text-align: right;\n",
       "  color: var(--xr-font-color2);\n",
       "}\n",
       "\n",
       ".xr-var-preview {\n",
       "  grid-column: 4;\n",
       "}\n",
       "\n",
       ".xr-var-name,\n",
       ".xr-var-dims,\n",
       ".xr-var-dtype,\n",
       ".xr-preview,\n",
       ".xr-attrs dt {\n",
       "  white-space: nowrap;\n",
       "  overflow: hidden;\n",
       "  text-overflow: ellipsis;\n",
       "  padding-right: 10px;\n",
       "}\n",
       "\n",
       ".xr-var-name:hover,\n",
       ".xr-var-dims:hover,\n",
       ".xr-var-dtype:hover,\n",
       ".xr-attrs dt:hover {\n",
       "  overflow: visible;\n",
       "  width: auto;\n",
       "  z-index: 1;\n",
       "}\n",
       "\n",
       ".xr-var-attrs,\n",
       ".xr-var-data {\n",
       "  display: none;\n",
       "  background-color: var(--xr-background-color) !important;\n",
       "  padding-bottom: 5px !important;\n",
       "}\n",
       "\n",
       ".xr-var-attrs-in:checked ~ .xr-var-attrs,\n",
       ".xr-var-data-in:checked ~ .xr-var-data {\n",
       "  display: block;\n",
       "}\n",
       "\n",
       ".xr-var-data > table {\n",
       "  float: right;\n",
       "}\n",
       "\n",
       ".xr-var-name span,\n",
       ".xr-var-data,\n",
       ".xr-attrs {\n",
       "  padding-left: 25px !important;\n",
       "}\n",
       "\n",
       ".xr-attrs,\n",
       ".xr-var-attrs,\n",
       ".xr-var-data {\n",
       "  grid-column: 1 / -1;\n",
       "}\n",
       "\n",
       "dl.xr-attrs {\n",
       "  padding: 0;\n",
       "  margin: 0;\n",
       "  display: grid;\n",
       "  grid-template-columns: 125px auto;\n",
       "}\n",
       "\n",
       ".xr-attrs dt,\n",
       ".xr-attrs dd {\n",
       "  padding: 0;\n",
       "  margin: 0;\n",
       "  float: left;\n",
       "  padding-right: 10px;\n",
       "  width: auto;\n",
       "}\n",
       "\n",
       ".xr-attrs dt {\n",
       "  font-weight: normal;\n",
       "  grid-column: 1;\n",
       "}\n",
       "\n",
       ".xr-attrs dt:hover span {\n",
       "  display: inline-block;\n",
       "  background: var(--xr-background-color);\n",
       "  padding-right: 10px;\n",
       "}\n",
       "\n",
       ".xr-attrs dd {\n",
       "  grid-column: 2;\n",
       "  white-space: pre-wrap;\n",
       "  word-break: break-all;\n",
       "}\n",
       "\n",
       ".xr-icon-database,\n",
       ".xr-icon-file-text2 {\n",
       "  display: inline-block;\n",
       "  vertical-align: middle;\n",
       "  width: 1em;\n",
       "  height: 1.5em !important;\n",
       "  stroke-width: 0;\n",
       "  stroke: currentColor;\n",
       "  fill: currentColor;\n",
       "}\n",
       "</style><pre class='xr-text-repr-fallback'>&lt;xarray.Dataset&gt;\n",
       "Dimensions:   (time: 374016, lat: 1800, lon: 3600)\n",
       "Coordinates:\n",
       "  * time      (time) datetime64[ns] 2000-06-01 ... 2021-09-30T23:30:00\n",
       "  * lat       (lat) float64 -89.95 -89.85 -89.75 -89.65 ... 89.75 89.85 89.95\n",
       "  * lon       (lon) float64 -179.9 -179.8 -179.8 -179.7 ... 179.8 179.8 179.9\n",
       "Data variables:\n",
       "    hqprecip  (time, lat, lon) float32 ...\n",
       "    precipc   (time, lat, lon) float32 ...\n",
       "Attributes:\n",
       "    title:        GPM IMERG Final Precipitation L3 Half Hourly 0.1 by 0.1 deg...\n",
       "    Conventions:  COARDS\\nGrADS\n",
       "    dataType:     Grid\n",
       "    history:      Sat Jun 17 07:42:41 GMT 2023 : imported by GrADS Data Serve...</pre><div class='xr-wrap' style='display:none'><div class='xr-header'><div class='xr-obj-type'>xarray.Dataset</div></div><ul class='xr-sections'><li class='xr-section-item'><input id='section-fbb5d353-5a3c-4f49-b701-fd0c0500b099' class='xr-section-summary-in' type='checkbox' disabled ><label for='section-fbb5d353-5a3c-4f49-b701-fd0c0500b099' class='xr-section-summary'  title='Expand/collapse section'>Dimensions:</label><div class='xr-section-inline-details'><ul class='xr-dim-list'><li><span class='xr-has-index'>time</span>: 374016</li><li><span class='xr-has-index'>lat</span>: 1800</li><li><span class='xr-has-index'>lon</span>: 3600</li></ul></div><div class='xr-section-details'></div></li><li class='xr-section-item'><input id='section-6e5a41cb-02ff-433e-9c5f-f502a31dde39' class='xr-section-summary-in' type='checkbox'  checked><label for='section-6e5a41cb-02ff-433e-9c5f-f502a31dde39' class='xr-section-summary' >Coordinates: <span>(3)</span></label><div class='xr-section-inline-details'></div><div class='xr-section-details'><ul class='xr-var-list'><li class='xr-var-item'><div class='xr-var-name'><span class='xr-has-index'>time</span></div><div class='xr-var-dims'>(time)</div><div class='xr-var-dtype'>datetime64[ns]</div><div class='xr-var-preview xr-preview'>2000-06-01 ... 2021-09-30T23:30:00</div><input id='attrs-bd8f7f74-ef94-492b-85f2-e709e87c5acf' class='xr-var-attrs-in' type='checkbox' ><label for='attrs-bd8f7f74-ef94-492b-85f2-e709e87c5acf' title='Show/Hide attributes'><svg class='icon xr-icon-file-text2'><use xlink:href='#icon-file-text2'></use></svg></label><input id='data-f1eac7a5-8e36-4581-9b8c-fddcabe2ca70' class='xr-var-data-in' type='checkbox'><label for='data-f1eac7a5-8e36-4581-9b8c-fddcabe2ca70' title='Show/Hide data repr'><svg class='icon xr-icon-database'><use xlink:href='#icon-database'></use></svg></label><div class='xr-var-attrs'><dl class='xr-attrs'><dt><span>grads_dim :</span></dt><dd>t</dd><dt><span>grads_mapping :</span></dt><dd>linear</dd><dt><span>grads_size :</span></dt><dd>374016</dd><dt><span>grads_min :</span></dt><dd>00z01jun2000</dd><dt><span>grads_step :</span></dt><dd>30mn</dd><dt><span>long_name :</span></dt><dd>time</dd><dt><span>minimum :</span></dt><dd>00z01jun2000</dd><dt><span>maximum :</span></dt><dd>23:30z30sep2021</dd><dt><span>resolution :</span></dt><dd>0.020833334</dd></dl></div><div class='xr-var-data'><pre>array([&#x27;2000-06-01T00:00:00.000000000&#x27;, &#x27;2000-06-01T00:30:00.000000000&#x27;,\n",
       "       &#x27;2000-06-01T01:00:00.000000000&#x27;, ..., &#x27;2021-09-30T22:30:00.000000000&#x27;,\n",
       "       &#x27;2021-09-30T23:00:00.000000000&#x27;, &#x27;2021-09-30T23:30:00.000000000&#x27;],\n",
       "      dtype=&#x27;datetime64[ns]&#x27;)</pre></div></li><li class='xr-var-item'><div class='xr-var-name'><span class='xr-has-index'>lat</span></div><div class='xr-var-dims'>(lat)</div><div class='xr-var-dtype'>float64</div><div class='xr-var-preview xr-preview'>-89.95 -89.85 ... 89.85 89.95</div><input id='attrs-684fd8a8-4347-4307-8853-35c91f7a7d91' class='xr-var-attrs-in' type='checkbox' ><label for='attrs-684fd8a8-4347-4307-8853-35c91f7a7d91' title='Show/Hide attributes'><svg class='icon xr-icon-file-text2'><use xlink:href='#icon-file-text2'></use></svg></label><input id='data-2773f9e1-0aa6-4cfc-b03c-9a49d52c7555' class='xr-var-data-in' type='checkbox'><label for='data-2773f9e1-0aa6-4cfc-b03c-9a49d52c7555' title='Show/Hide data repr'><svg class='icon xr-icon-database'><use xlink:href='#icon-database'></use></svg></label><div class='xr-var-attrs'><dl class='xr-attrs'><dt><span>grads_dim :</span></dt><dd>y</dd><dt><span>grads_mapping :</span></dt><dd>linear</dd><dt><span>grads_size :</span></dt><dd>1800</dd><dt><span>units :</span></dt><dd>degrees_north</dd><dt><span>long_name :</span></dt><dd>latitude</dd><dt><span>minimum :</span></dt><dd>-89.95</dd><dt><span>maximum :</span></dt><dd>89.95</dd><dt><span>resolution :</span></dt><dd>0.1</dd></dl></div><div class='xr-var-data'><pre>array([-89.95, -89.85, -89.75, ...,  89.75,  89.85,  89.95])</pre></div></li><li class='xr-var-item'><div class='xr-var-name'><span class='xr-has-index'>lon</span></div><div class='xr-var-dims'>(lon)</div><div class='xr-var-dtype'>float64</div><div class='xr-var-preview xr-preview'>-179.9 -179.8 ... 179.8 179.9</div><input id='attrs-a781f1b0-0208-4b95-b248-3021a8cbe1d8' class='xr-var-attrs-in' type='checkbox' ><label for='attrs-a781f1b0-0208-4b95-b248-3021a8cbe1d8' title='Show/Hide attributes'><svg class='icon xr-icon-file-text2'><use xlink:href='#icon-file-text2'></use></svg></label><input id='data-7932ca94-3ecc-4560-8aeb-71c78363f1ab' class='xr-var-data-in' type='checkbox'><label for='data-7932ca94-3ecc-4560-8aeb-71c78363f1ab' title='Show/Hide data repr'><svg class='icon xr-icon-database'><use xlink:href='#icon-database'></use></svg></label><div class='xr-var-attrs'><dl class='xr-attrs'><dt><span>grads_dim :</span></dt><dd>x</dd><dt><span>grads_mapping :</span></dt><dd>linear</dd><dt><span>grads_size :</span></dt><dd>3600</dd><dt><span>units :</span></dt><dd>degrees_east</dd><dt><span>long_name :</span></dt><dd>longitude</dd><dt><span>minimum :</span></dt><dd>-179.95</dd><dt><span>maximum :</span></dt><dd>179.95</dd><dt><span>resolution :</span></dt><dd>0.1</dd></dl></div><div class='xr-var-data'><pre>array([-179.95, -179.85, -179.75, ...,  179.75,  179.85,  179.95])</pre></div></li></ul></div></li><li class='xr-section-item'><input id='section-827bd6bd-a18c-4676-8141-9230714e749a' class='xr-section-summary-in' type='checkbox'  checked><label for='section-827bd6bd-a18c-4676-8141-9230714e749a' class='xr-section-summary' >Data variables: <span>(2)</span></label><div class='xr-section-inline-details'></div><div class='xr-section-details'><ul class='xr-var-list'><li class='xr-var-item'><div class='xr-var-name'><span>hqprecip</span></div><div class='xr-var-dims'>(time, lat, lon)</div><div class='xr-var-dtype'>float32</div><div class='xr-var-preview xr-preview'>...</div><input id='attrs-86871b6b-80f2-4a48-92f2-c0538eea9919' class='xr-var-attrs-in' type='checkbox' ><label for='attrs-86871b6b-80f2-4a48-92f2-c0538eea9919' title='Show/Hide attributes'><svg class='icon xr-icon-file-text2'><use xlink:href='#icon-file-text2'></use></svg></label><input id='data-e68698e8-d43a-4437-9b2a-c3c449ac91c3' class='xr-var-data-in' type='checkbox'><label for='data-e68698e8-d43a-4437-9b2a-c3c449ac91c3' title='Show/Hide data repr'><svg class='icon xr-icon-database'><use xlink:href='#icon-database'></use></svg></label><div class='xr-var-attrs'><dl class='xr-attrs'><dt><span>long_name :</span></dt><dd>precipitation [mm/hr] </dd></dl></div><div class='xr-var-data'><pre>[2423623680000 values with dtype=float32]</pre></div></li><li class='xr-var-item'><div class='xr-var-name'><span>precipc</span></div><div class='xr-var-dims'>(time, lat, lon)</div><div class='xr-var-dtype'>float32</div><div class='xr-var-preview xr-preview'>...</div><input id='attrs-8213b9c5-431c-4857-9c63-30265b28f84c' class='xr-var-attrs-in' type='checkbox' ><label for='attrs-8213b9c5-431c-4857-9c63-30265b28f84c' title='Show/Hide attributes'><svg class='icon xr-icon-file-text2'><use xlink:href='#icon-file-text2'></use></svg></label><input id='data-8a517ea3-0edd-494f-8d14-01d2145887fd' class='xr-var-data-in' type='checkbox'><label for='data-8a517ea3-0edd-494f-8d14-01d2145887fd' title='Show/Hide data repr'><svg class='icon xr-icon-database'><use xlink:href='#icon-database'></use></svg></label><div class='xr-var-attrs'><dl class='xr-attrs'><dt><span>long_name :</span></dt><dd>precipitationcal [mm/hr] </dd></dl></div><div class='xr-var-data'><pre>[2423623680000 values with dtype=float32]</pre></div></li></ul></div></li><li class='xr-section-item'><input id='section-e12ec8a3-2896-47e1-b66c-c1c3077b21e6' class='xr-section-summary-in' type='checkbox'  checked><label for='section-e12ec8a3-2896-47e1-b66c-c1c3077b21e6' class='xr-section-summary' >Attributes: <span>(4)</span></label><div class='xr-section-inline-details'></div><div class='xr-section-details'><dl class='xr-attrs'><dt><span>title :</span></dt><dd>GPM IMERG Final Precipitation L3 Half Hourly 0.1 by 0.1 degree V06 (GPM_3IMERGHH)</dd><dt><span>Conventions :</span></dt><dd>COARDS\n",
       "GrADS</dd><dt><span>dataType :</span></dt><dd>Grid</dd><dt><span>history :</span></dt><dd>Sat Jun 17 07:42:41 GMT 2023 : imported by GrADS Data Server 2.2</dd></dl></div></li></ul></div></div>"
      ],
      "text/plain": [
       "<xarray.Dataset>\n",
       "Dimensions:   (time: 374016, lat: 1800, lon: 3600)\n",
       "Coordinates:\n",
       "  * time      (time) datetime64[ns] 2000-06-01 ... 2021-09-30T23:30:00\n",
       "  * lat       (lat) float64 -89.95 -89.85 -89.75 -89.65 ... 89.75 89.85 89.95\n",
       "  * lon       (lon) float64 -179.9 -179.8 -179.8 -179.7 ... 179.8 179.8 179.9\n",
       "Data variables:\n",
       "    hqprecip  (time, lat, lon) float32 ...\n",
       "    precipc   (time, lat, lon) float32 ...\n",
       "Attributes:\n",
       "    title:        GPM IMERG Final Precipitation L3 Half Hourly 0.1 by 0.1 deg...\n",
       "    Conventions:  COARDS\\nGrADS\n",
       "    dataType:     Grid\n",
       "    history:      Sat Jun 17 07:42:41 GMT 2023 : imported by GrADS Data Serve..."
      ]
     },
     "execution_count": 4,
     "metadata": {},
     "output_type": "execute_result"
    }
   ],
   "source": [
    "IMERG = xr.open_dataset('https://gpm1.gesdisc.eosdis.nasa.gov:443/dods/GPM_3IMERGHH_06')\n",
    "IMERG"
   ]
  },
  {
   "cell_type": "code",
   "execution_count": 5,
   "id": "36c833fd-3510-478a-a467-c662e26f87ce",
   "metadata": {},
   "outputs": [
    {
     "data": {
      "text/html": [
       "<div><svg style=\"position: absolute; width: 0; height: 0; overflow: hidden\">\n",
       "<defs>\n",
       "<symbol id=\"icon-database\" viewBox=\"0 0 32 32\">\n",
       "<path d=\"M16 0c-8.837 0-16 2.239-16 5v4c0 2.761 7.163 5 16 5s16-2.239 16-5v-4c0-2.761-7.163-5-16-5z\"></path>\n",
       "<path d=\"M16 17c-8.837 0-16-2.239-16-5v6c0 2.761 7.163 5 16 5s16-2.239 16-5v-6c0 2.761-7.163 5-16 5z\"></path>\n",
       "<path d=\"M16 26c-8.837 0-16-2.239-16-5v6c0 2.761 7.163 5 16 5s16-2.239 16-5v-6c0 2.761-7.163 5-16 5z\"></path>\n",
       "</symbol>\n",
       "<symbol id=\"icon-file-text2\" viewBox=\"0 0 32 32\">\n",
       "<path d=\"M28.681 7.159c-0.694-0.947-1.662-2.053-2.724-3.116s-2.169-2.030-3.116-2.724c-1.612-1.182-2.393-1.319-2.841-1.319h-15.5c-1.378 0-2.5 1.121-2.5 2.5v27c0 1.378 1.122 2.5 2.5 2.5h23c1.378 0 2.5-1.122 2.5-2.5v-19.5c0-0.448-0.137-1.23-1.319-2.841zM24.543 5.457c0.959 0.959 1.712 1.825 2.268 2.543h-4.811v-4.811c0.718 0.556 1.584 1.309 2.543 2.268zM28 29.5c0 0.271-0.229 0.5-0.5 0.5h-23c-0.271 0-0.5-0.229-0.5-0.5v-27c0-0.271 0.229-0.5 0.5-0.5 0 0 15.499-0 15.5 0v7c0 0.552 0.448 1 1 1h7v19.5z\"></path>\n",
       "<path d=\"M23 26h-14c-0.552 0-1-0.448-1-1s0.448-1 1-1h14c0.552 0 1 0.448 1 1s-0.448 1-1 1z\"></path>\n",
       "<path d=\"M23 22h-14c-0.552 0-1-0.448-1-1s0.448-1 1-1h14c0.552 0 1 0.448 1 1s-0.448 1-1 1z\"></path>\n",
       "<path d=\"M23 18h-14c-0.552 0-1-0.448-1-1s0.448-1 1-1h14c0.552 0 1 0.448 1 1s-0.448 1-1 1z\"></path>\n",
       "</symbol>\n",
       "</defs>\n",
       "</svg>\n",
       "<style>/* CSS stylesheet for displaying xarray objects in jupyterlab.\n",
       " *\n",
       " */\n",
       "\n",
       ":root {\n",
       "  --xr-font-color0: var(--jp-content-font-color0, rgba(0, 0, 0, 1));\n",
       "  --xr-font-color2: var(--jp-content-font-color2, rgba(0, 0, 0, 0.54));\n",
       "  --xr-font-color3: var(--jp-content-font-color3, rgba(0, 0, 0, 0.38));\n",
       "  --xr-border-color: var(--jp-border-color2, #e0e0e0);\n",
       "  --xr-disabled-color: var(--jp-layout-color3, #bdbdbd);\n",
       "  --xr-background-color: var(--jp-layout-color0, white);\n",
       "  --xr-background-color-row-even: var(--jp-layout-color1, white);\n",
       "  --xr-background-color-row-odd: var(--jp-layout-color2, #eeeeee);\n",
       "}\n",
       "\n",
       "html[theme=dark],\n",
       "body.vscode-dark {\n",
       "  --xr-font-color0: rgba(255, 255, 255, 1);\n",
       "  --xr-font-color2: rgba(255, 255, 255, 0.54);\n",
       "  --xr-font-color3: rgba(255, 255, 255, 0.38);\n",
       "  --xr-border-color: #1F1F1F;\n",
       "  --xr-disabled-color: #515151;\n",
       "  --xr-background-color: #111111;\n",
       "  --xr-background-color-row-even: #111111;\n",
       "  --xr-background-color-row-odd: #313131;\n",
       "}\n",
       "\n",
       ".xr-wrap {\n",
       "  display: block !important;\n",
       "  min-width: 300px;\n",
       "  max-width: 700px;\n",
       "}\n",
       "\n",
       ".xr-text-repr-fallback {\n",
       "  /* fallback to plain text repr when CSS is not injected (untrusted notebook) */\n",
       "  display: none;\n",
       "}\n",
       "\n",
       ".xr-header {\n",
       "  padding-top: 6px;\n",
       "  padding-bottom: 6px;\n",
       "  margin-bottom: 4px;\n",
       "  border-bottom: solid 1px var(--xr-border-color);\n",
       "}\n",
       "\n",
       ".xr-header > div,\n",
       ".xr-header > ul {\n",
       "  display: inline;\n",
       "  margin-top: 0;\n",
       "  margin-bottom: 0;\n",
       "}\n",
       "\n",
       ".xr-obj-type,\n",
       ".xr-array-name {\n",
       "  margin-left: 2px;\n",
       "  margin-right: 10px;\n",
       "}\n",
       "\n",
       ".xr-obj-type {\n",
       "  color: var(--xr-font-color2);\n",
       "}\n",
       "\n",
       ".xr-sections {\n",
       "  padding-left: 0 !important;\n",
       "  display: grid;\n",
       "  grid-template-columns: 150px auto auto 1fr 20px 20px;\n",
       "}\n",
       "\n",
       ".xr-section-item {\n",
       "  display: contents;\n",
       "}\n",
       "\n",
       ".xr-section-item input {\n",
       "  display: none;\n",
       "}\n",
       "\n",
       ".xr-section-item input + label {\n",
       "  color: var(--xr-disabled-color);\n",
       "}\n",
       "\n",
       ".xr-section-item input:enabled + label {\n",
       "  cursor: pointer;\n",
       "  color: var(--xr-font-color2);\n",
       "}\n",
       "\n",
       ".xr-section-item input:enabled + label:hover {\n",
       "  color: var(--xr-font-color0);\n",
       "}\n",
       "\n",
       ".xr-section-summary {\n",
       "  grid-column: 1;\n",
       "  color: var(--xr-font-color2);\n",
       "  font-weight: 500;\n",
       "}\n",
       "\n",
       ".xr-section-summary > span {\n",
       "  display: inline-block;\n",
       "  padding-left: 0.5em;\n",
       "}\n",
       "\n",
       ".xr-section-summary-in:disabled + label {\n",
       "  color: var(--xr-font-color2);\n",
       "}\n",
       "\n",
       ".xr-section-summary-in + label:before {\n",
       "  display: inline-block;\n",
       "  content: '►';\n",
       "  font-size: 11px;\n",
       "  width: 15px;\n",
       "  text-align: center;\n",
       "}\n",
       "\n",
       ".xr-section-summary-in:disabled + label:before {\n",
       "  color: var(--xr-disabled-color);\n",
       "}\n",
       "\n",
       ".xr-section-summary-in:checked + label:before {\n",
       "  content: '▼';\n",
       "}\n",
       "\n",
       ".xr-section-summary-in:checked + label > span {\n",
       "  display: none;\n",
       "}\n",
       "\n",
       ".xr-section-summary,\n",
       ".xr-section-inline-details {\n",
       "  padding-top: 4px;\n",
       "  padding-bottom: 4px;\n",
       "}\n",
       "\n",
       ".xr-section-inline-details {\n",
       "  grid-column: 2 / -1;\n",
       "}\n",
       "\n",
       ".xr-section-details {\n",
       "  display: none;\n",
       "  grid-column: 1 / -1;\n",
       "  margin-bottom: 5px;\n",
       "}\n",
       "\n",
       ".xr-section-summary-in:checked ~ .xr-section-details {\n",
       "  display: contents;\n",
       "}\n",
       "\n",
       ".xr-array-wrap {\n",
       "  grid-column: 1 / -1;\n",
       "  display: grid;\n",
       "  grid-template-columns: 20px auto;\n",
       "}\n",
       "\n",
       ".xr-array-wrap > label {\n",
       "  grid-column: 1;\n",
       "  vertical-align: top;\n",
       "}\n",
       "\n",
       ".xr-preview {\n",
       "  color: var(--xr-font-color3);\n",
       "}\n",
       "\n",
       ".xr-array-preview,\n",
       ".xr-array-data {\n",
       "  padding: 0 5px !important;\n",
       "  grid-column: 2;\n",
       "}\n",
       "\n",
       ".xr-array-data,\n",
       ".xr-array-in:checked ~ .xr-array-preview {\n",
       "  display: none;\n",
       "}\n",
       "\n",
       ".xr-array-in:checked ~ .xr-array-data,\n",
       ".xr-array-preview {\n",
       "  display: inline-block;\n",
       "}\n",
       "\n",
       ".xr-dim-list {\n",
       "  display: inline-block !important;\n",
       "  list-style: none;\n",
       "  padding: 0 !important;\n",
       "  margin: 0;\n",
       "}\n",
       "\n",
       ".xr-dim-list li {\n",
       "  display: inline-block;\n",
       "  padding: 0;\n",
       "  margin: 0;\n",
       "}\n",
       "\n",
       ".xr-dim-list:before {\n",
       "  content: '(';\n",
       "}\n",
       "\n",
       ".xr-dim-list:after {\n",
       "  content: ')';\n",
       "}\n",
       "\n",
       ".xr-dim-list li:not(:last-child):after {\n",
       "  content: ',';\n",
       "  padding-right: 5px;\n",
       "}\n",
       "\n",
       ".xr-has-index {\n",
       "  font-weight: bold;\n",
       "}\n",
       "\n",
       ".xr-var-list,\n",
       ".xr-var-item {\n",
       "  display: contents;\n",
       "}\n",
       "\n",
       ".xr-var-item > div,\n",
       ".xr-var-item label,\n",
       ".xr-var-item > .xr-var-name span {\n",
       "  background-color: var(--xr-background-color-row-even);\n",
       "  margin-bottom: 0;\n",
       "}\n",
       "\n",
       ".xr-var-item > .xr-var-name:hover span {\n",
       "  padding-right: 5px;\n",
       "}\n",
       "\n",
       ".xr-var-list > li:nth-child(odd) > div,\n",
       ".xr-var-list > li:nth-child(odd) > label,\n",
       ".xr-var-list > li:nth-child(odd) > .xr-var-name span {\n",
       "  background-color: var(--xr-background-color-row-odd);\n",
       "}\n",
       "\n",
       ".xr-var-name {\n",
       "  grid-column: 1;\n",
       "}\n",
       "\n",
       ".xr-var-dims {\n",
       "  grid-column: 2;\n",
       "}\n",
       "\n",
       ".xr-var-dtype {\n",
       "  grid-column: 3;\n",
       "  text-align: right;\n",
       "  color: var(--xr-font-color2);\n",
       "}\n",
       "\n",
       ".xr-var-preview {\n",
       "  grid-column: 4;\n",
       "}\n",
       "\n",
       ".xr-var-name,\n",
       ".xr-var-dims,\n",
       ".xr-var-dtype,\n",
       ".xr-preview,\n",
       ".xr-attrs dt {\n",
       "  white-space: nowrap;\n",
       "  overflow: hidden;\n",
       "  text-overflow: ellipsis;\n",
       "  padding-right: 10px;\n",
       "}\n",
       "\n",
       ".xr-var-name:hover,\n",
       ".xr-var-dims:hover,\n",
       ".xr-var-dtype:hover,\n",
       ".xr-attrs dt:hover {\n",
       "  overflow: visible;\n",
       "  width: auto;\n",
       "  z-index: 1;\n",
       "}\n",
       "\n",
       ".xr-var-attrs,\n",
       ".xr-var-data {\n",
       "  display: none;\n",
       "  background-color: var(--xr-background-color) !important;\n",
       "  padding-bottom: 5px !important;\n",
       "}\n",
       "\n",
       ".xr-var-attrs-in:checked ~ .xr-var-attrs,\n",
       ".xr-var-data-in:checked ~ .xr-var-data {\n",
       "  display: block;\n",
       "}\n",
       "\n",
       ".xr-var-data > table {\n",
       "  float: right;\n",
       "}\n",
       "\n",
       ".xr-var-name span,\n",
       ".xr-var-data,\n",
       ".xr-attrs {\n",
       "  padding-left: 25px !important;\n",
       "}\n",
       "\n",
       ".xr-attrs,\n",
       ".xr-var-attrs,\n",
       ".xr-var-data {\n",
       "  grid-column: 1 / -1;\n",
       "}\n",
       "\n",
       "dl.xr-attrs {\n",
       "  padding: 0;\n",
       "  margin: 0;\n",
       "  display: grid;\n",
       "  grid-template-columns: 125px auto;\n",
       "}\n",
       "\n",
       ".xr-attrs dt,\n",
       ".xr-attrs dd {\n",
       "  padding: 0;\n",
       "  margin: 0;\n",
       "  float: left;\n",
       "  padding-right: 10px;\n",
       "  width: auto;\n",
       "}\n",
       "\n",
       ".xr-attrs dt {\n",
       "  font-weight: normal;\n",
       "  grid-column: 1;\n",
       "}\n",
       "\n",
       ".xr-attrs dt:hover span {\n",
       "  display: inline-block;\n",
       "  background: var(--xr-background-color);\n",
       "  padding-right: 10px;\n",
       "}\n",
       "\n",
       ".xr-attrs dd {\n",
       "  grid-column: 2;\n",
       "  white-space: pre-wrap;\n",
       "  word-break: break-all;\n",
       "}\n",
       "\n",
       ".xr-icon-database,\n",
       ".xr-icon-file-text2 {\n",
       "  display: inline-block;\n",
       "  vertical-align: middle;\n",
       "  width: 1em;\n",
       "  height: 1.5em !important;\n",
       "  stroke-width: 0;\n",
       "  stroke: currentColor;\n",
       "  fill: currentColor;\n",
       "}\n",
       "</style><pre class='xr-text-repr-fallback'>&lt;xarray.DataArray &#x27;precipc&#x27; (time: 187008, lat: 1800, lon: 3600)&gt;\n",
       "[1211811840000 values with dtype=float32]\n",
       "Coordinates:\n",
       "  * time     (time) datetime64[ns] 2000-06-01 ... 2021-09-30T23:00:00\n",
       "  * lat      (lat) float64 -89.95 -89.85 -89.75 -89.65 ... 89.75 89.85 89.95\n",
       "  * lon      (lon) float64 -179.9 -179.8 -179.8 -179.7 ... 179.8 179.8 179.9\n",
       "Attributes:\n",
       "    long_name:  precipitationcal [mm/hr] </pre><div class='xr-wrap' style='display:none'><div class='xr-header'><div class='xr-obj-type'>xarray.DataArray</div><div class='xr-array-name'>'precipc'</div><ul class='xr-dim-list'><li><span class='xr-has-index'>time</span>: 187008</li><li><span class='xr-has-index'>lat</span>: 1800</li><li><span class='xr-has-index'>lon</span>: 3600</li></ul></div><ul class='xr-sections'><li class='xr-section-item'><div class='xr-array-wrap'><input id='section-63f8b67a-9296-4a7b-bd3c-eba30638d9b6' class='xr-array-in' type='checkbox' checked><label for='section-63f8b67a-9296-4a7b-bd3c-eba30638d9b6' title='Show/hide data repr'><svg class='icon xr-icon-database'><use xlink:href='#icon-database'></use></svg></label><div class='xr-array-preview xr-preview'><span>...</span></div><div class='xr-array-data'><pre>[1211811840000 values with dtype=float32]</pre></div></div></li><li class='xr-section-item'><input id='section-36cbb395-f616-4562-963a-e32001c083cd' class='xr-section-summary-in' type='checkbox'  checked><label for='section-36cbb395-f616-4562-963a-e32001c083cd' class='xr-section-summary' >Coordinates: <span>(3)</span></label><div class='xr-section-inline-details'></div><div class='xr-section-details'><ul class='xr-var-list'><li class='xr-var-item'><div class='xr-var-name'><span class='xr-has-index'>time</span></div><div class='xr-var-dims'>(time)</div><div class='xr-var-dtype'>datetime64[ns]</div><div class='xr-var-preview xr-preview'>2000-06-01 ... 2021-09-30T23:00:00</div><input id='attrs-2bf61025-5935-4d18-b933-2d38886e9775' class='xr-var-attrs-in' type='checkbox' ><label for='attrs-2bf61025-5935-4d18-b933-2d38886e9775' title='Show/Hide attributes'><svg class='icon xr-icon-file-text2'><use xlink:href='#icon-file-text2'></use></svg></label><input id='data-44d0832e-7605-46fa-b1f8-560c9a025713' class='xr-var-data-in' type='checkbox'><label for='data-44d0832e-7605-46fa-b1f8-560c9a025713' title='Show/Hide data repr'><svg class='icon xr-icon-database'><use xlink:href='#icon-database'></use></svg></label><div class='xr-var-attrs'><dl class='xr-attrs'><dt><span>grads_dim :</span></dt><dd>t</dd><dt><span>grads_mapping :</span></dt><dd>linear</dd><dt><span>grads_size :</span></dt><dd>374016</dd><dt><span>grads_min :</span></dt><dd>00z01jun2000</dd><dt><span>grads_step :</span></dt><dd>30mn</dd><dt><span>long_name :</span></dt><dd>time</dd><dt><span>minimum :</span></dt><dd>00z01jun2000</dd><dt><span>maximum :</span></dt><dd>23:30z30sep2021</dd><dt><span>resolution :</span></dt><dd>0.020833334</dd></dl></div><div class='xr-var-data'><pre>array([&#x27;2000-06-01T00:00:00.000000000&#x27;, &#x27;2000-06-01T01:00:00.000000000&#x27;,\n",
       "       &#x27;2000-06-01T02:00:00.000000000&#x27;, ..., &#x27;2021-09-30T21:00:00.000000000&#x27;,\n",
       "       &#x27;2021-09-30T22:00:00.000000000&#x27;, &#x27;2021-09-30T23:00:00.000000000&#x27;],\n",
       "      dtype=&#x27;datetime64[ns]&#x27;)</pre></div></li><li class='xr-var-item'><div class='xr-var-name'><span class='xr-has-index'>lat</span></div><div class='xr-var-dims'>(lat)</div><div class='xr-var-dtype'>float64</div><div class='xr-var-preview xr-preview'>-89.95 -89.85 ... 89.85 89.95</div><input id='attrs-6ddc1ebb-fe7e-484e-9833-2bdd59f3c943' class='xr-var-attrs-in' type='checkbox' ><label for='attrs-6ddc1ebb-fe7e-484e-9833-2bdd59f3c943' title='Show/Hide attributes'><svg class='icon xr-icon-file-text2'><use xlink:href='#icon-file-text2'></use></svg></label><input id='data-d943e659-6719-4d17-a45c-b2471f6ca467' class='xr-var-data-in' type='checkbox'><label for='data-d943e659-6719-4d17-a45c-b2471f6ca467' title='Show/Hide data repr'><svg class='icon xr-icon-database'><use xlink:href='#icon-database'></use></svg></label><div class='xr-var-attrs'><dl class='xr-attrs'><dt><span>grads_dim :</span></dt><dd>y</dd><dt><span>grads_mapping :</span></dt><dd>linear</dd><dt><span>grads_size :</span></dt><dd>1800</dd><dt><span>units :</span></dt><dd>degrees_north</dd><dt><span>long_name :</span></dt><dd>latitude</dd><dt><span>minimum :</span></dt><dd>-89.95</dd><dt><span>maximum :</span></dt><dd>89.95</dd><dt><span>resolution :</span></dt><dd>0.1</dd></dl></div><div class='xr-var-data'><pre>array([-89.95, -89.85, -89.75, ...,  89.75,  89.85,  89.95])</pre></div></li><li class='xr-var-item'><div class='xr-var-name'><span class='xr-has-index'>lon</span></div><div class='xr-var-dims'>(lon)</div><div class='xr-var-dtype'>float64</div><div class='xr-var-preview xr-preview'>-179.9 -179.8 ... 179.8 179.9</div><input id='attrs-26fdbc4a-63d4-4dd4-93be-509fa9dc6a7b' class='xr-var-attrs-in' type='checkbox' ><label for='attrs-26fdbc4a-63d4-4dd4-93be-509fa9dc6a7b' title='Show/Hide attributes'><svg class='icon xr-icon-file-text2'><use xlink:href='#icon-file-text2'></use></svg></label><input id='data-dde13140-8b7e-4af1-b7ef-f7b1a4bf7466' class='xr-var-data-in' type='checkbox'><label for='data-dde13140-8b7e-4af1-b7ef-f7b1a4bf7466' title='Show/Hide data repr'><svg class='icon xr-icon-database'><use xlink:href='#icon-database'></use></svg></label><div class='xr-var-attrs'><dl class='xr-attrs'><dt><span>grads_dim :</span></dt><dd>x</dd><dt><span>grads_mapping :</span></dt><dd>linear</dd><dt><span>grads_size :</span></dt><dd>3600</dd><dt><span>units :</span></dt><dd>degrees_east</dd><dt><span>long_name :</span></dt><dd>longitude</dd><dt><span>minimum :</span></dt><dd>-179.95</dd><dt><span>maximum :</span></dt><dd>179.95</dd><dt><span>resolution :</span></dt><dd>0.1</dd></dl></div><div class='xr-var-data'><pre>array([-179.95, -179.85, -179.75, ...,  179.75,  179.85,  179.95])</pre></div></li></ul></div></li><li class='xr-section-item'><input id='section-87a33e09-67d4-4ca2-9863-0be3882482ac' class='xr-section-summary-in' type='checkbox'  checked><label for='section-87a33e09-67d4-4ca2-9863-0be3882482ac' class='xr-section-summary' >Attributes: <span>(1)</span></label><div class='xr-section-inline-details'></div><div class='xr-section-details'><dl class='xr-attrs'><dt><span>long_name :</span></dt><dd>precipitationcal [mm/hr] </dd></dl></div></li></ul></div></div>"
      ],
      "text/plain": [
       "<xarray.DataArray 'precipc' (time: 187008, lat: 1800, lon: 3600)>\n",
       "[1211811840000 values with dtype=float32]\n",
       "Coordinates:\n",
       "  * time     (time) datetime64[ns] 2000-06-01 ... 2021-09-30T23:00:00\n",
       "  * lat      (lat) float64 -89.95 -89.85 -89.75 -89.65 ... 89.75 89.85 89.95\n",
       "  * lon      (lon) float64 -179.9 -179.8 -179.8 -179.7 ... 179.8 179.8 179.9\n",
       "Attributes:\n",
       "    long_name:  precipitationcal [mm/hr] "
      ]
     },
     "execution_count": 5,
     "metadata": {},
     "output_type": "execute_result"
    }
   ],
   "source": [
    "pchourly = IMERG.precipc[::2,:,:]\n",
    "pchourly"
   ]
  },
  {
   "cell_type": "code",
   "execution_count": 6,
   "id": "8d64a5c5-0e34-40de-a912-551cc32cf8b6",
   "metadata": {},
   "outputs": [
    {
     "data": {
      "text/html": [
       "<div><svg style=\"position: absolute; width: 0; height: 0; overflow: hidden\">\n",
       "<defs>\n",
       "<symbol id=\"icon-database\" viewBox=\"0 0 32 32\">\n",
       "<path d=\"M16 0c-8.837 0-16 2.239-16 5v4c0 2.761 7.163 5 16 5s16-2.239 16-5v-4c0-2.761-7.163-5-16-5z\"></path>\n",
       "<path d=\"M16 17c-8.837 0-16-2.239-16-5v6c0 2.761 7.163 5 16 5s16-2.239 16-5v-6c0 2.761-7.163 5-16 5z\"></path>\n",
       "<path d=\"M16 26c-8.837 0-16-2.239-16-5v6c0 2.761 7.163 5 16 5s16-2.239 16-5v-6c0 2.761-7.163 5-16 5z\"></path>\n",
       "</symbol>\n",
       "<symbol id=\"icon-file-text2\" viewBox=\"0 0 32 32\">\n",
       "<path d=\"M28.681 7.159c-0.694-0.947-1.662-2.053-2.724-3.116s-2.169-2.030-3.116-2.724c-1.612-1.182-2.393-1.319-2.841-1.319h-15.5c-1.378 0-2.5 1.121-2.5 2.5v27c0 1.378 1.122 2.5 2.5 2.5h23c1.378 0 2.5-1.122 2.5-2.5v-19.5c0-0.448-0.137-1.23-1.319-2.841zM24.543 5.457c0.959 0.959 1.712 1.825 2.268 2.543h-4.811v-4.811c0.718 0.556 1.584 1.309 2.543 2.268zM28 29.5c0 0.271-0.229 0.5-0.5 0.5h-23c-0.271 0-0.5-0.229-0.5-0.5v-27c0-0.271 0.229-0.5 0.5-0.5 0 0 15.499-0 15.5 0v7c0 0.552 0.448 1 1 1h7v19.5z\"></path>\n",
       "<path d=\"M23 26h-14c-0.552 0-1-0.448-1-1s0.448-1 1-1h14c0.552 0 1 0.448 1 1s-0.448 1-1 1z\"></path>\n",
       "<path d=\"M23 22h-14c-0.552 0-1-0.448-1-1s0.448-1 1-1h14c0.552 0 1 0.448 1 1s-0.448 1-1 1z\"></path>\n",
       "<path d=\"M23 18h-14c-0.552 0-1-0.448-1-1s0.448-1 1-1h14c0.552 0 1 0.448 1 1s-0.448 1-1 1z\"></path>\n",
       "</symbol>\n",
       "</defs>\n",
       "</svg>\n",
       "<style>/* CSS stylesheet for displaying xarray objects in jupyterlab.\n",
       " *\n",
       " */\n",
       "\n",
       ":root {\n",
       "  --xr-font-color0: var(--jp-content-font-color0, rgba(0, 0, 0, 1));\n",
       "  --xr-font-color2: var(--jp-content-font-color2, rgba(0, 0, 0, 0.54));\n",
       "  --xr-font-color3: var(--jp-content-font-color3, rgba(0, 0, 0, 0.38));\n",
       "  --xr-border-color: var(--jp-border-color2, #e0e0e0);\n",
       "  --xr-disabled-color: var(--jp-layout-color3, #bdbdbd);\n",
       "  --xr-background-color: var(--jp-layout-color0, white);\n",
       "  --xr-background-color-row-even: var(--jp-layout-color1, white);\n",
       "  --xr-background-color-row-odd: var(--jp-layout-color2, #eeeeee);\n",
       "}\n",
       "\n",
       "html[theme=dark],\n",
       "body.vscode-dark {\n",
       "  --xr-font-color0: rgba(255, 255, 255, 1);\n",
       "  --xr-font-color2: rgba(255, 255, 255, 0.54);\n",
       "  --xr-font-color3: rgba(255, 255, 255, 0.38);\n",
       "  --xr-border-color: #1F1F1F;\n",
       "  --xr-disabled-color: #515151;\n",
       "  --xr-background-color: #111111;\n",
       "  --xr-background-color-row-even: #111111;\n",
       "  --xr-background-color-row-odd: #313131;\n",
       "}\n",
       "\n",
       ".xr-wrap {\n",
       "  display: block !important;\n",
       "  min-width: 300px;\n",
       "  max-width: 700px;\n",
       "}\n",
       "\n",
       ".xr-text-repr-fallback {\n",
       "  /* fallback to plain text repr when CSS is not injected (untrusted notebook) */\n",
       "  display: none;\n",
       "}\n",
       "\n",
       ".xr-header {\n",
       "  padding-top: 6px;\n",
       "  padding-bottom: 6px;\n",
       "  margin-bottom: 4px;\n",
       "  border-bottom: solid 1px var(--xr-border-color);\n",
       "}\n",
       "\n",
       ".xr-header > div,\n",
       ".xr-header > ul {\n",
       "  display: inline;\n",
       "  margin-top: 0;\n",
       "  margin-bottom: 0;\n",
       "}\n",
       "\n",
       ".xr-obj-type,\n",
       ".xr-array-name {\n",
       "  margin-left: 2px;\n",
       "  margin-right: 10px;\n",
       "}\n",
       "\n",
       ".xr-obj-type {\n",
       "  color: var(--xr-font-color2);\n",
       "}\n",
       "\n",
       ".xr-sections {\n",
       "  padding-left: 0 !important;\n",
       "  display: grid;\n",
       "  grid-template-columns: 150px auto auto 1fr 20px 20px;\n",
       "}\n",
       "\n",
       ".xr-section-item {\n",
       "  display: contents;\n",
       "}\n",
       "\n",
       ".xr-section-item input {\n",
       "  display: none;\n",
       "}\n",
       "\n",
       ".xr-section-item input + label {\n",
       "  color: var(--xr-disabled-color);\n",
       "}\n",
       "\n",
       ".xr-section-item input:enabled + label {\n",
       "  cursor: pointer;\n",
       "  color: var(--xr-font-color2);\n",
       "}\n",
       "\n",
       ".xr-section-item input:enabled + label:hover {\n",
       "  color: var(--xr-font-color0);\n",
       "}\n",
       "\n",
       ".xr-section-summary {\n",
       "  grid-column: 1;\n",
       "  color: var(--xr-font-color2);\n",
       "  font-weight: 500;\n",
       "}\n",
       "\n",
       ".xr-section-summary > span {\n",
       "  display: inline-block;\n",
       "  padding-left: 0.5em;\n",
       "}\n",
       "\n",
       ".xr-section-summary-in:disabled + label {\n",
       "  color: var(--xr-font-color2);\n",
       "}\n",
       "\n",
       ".xr-section-summary-in + label:before {\n",
       "  display: inline-block;\n",
       "  content: '►';\n",
       "  font-size: 11px;\n",
       "  width: 15px;\n",
       "  text-align: center;\n",
       "}\n",
       "\n",
       ".xr-section-summary-in:disabled + label:before {\n",
       "  color: var(--xr-disabled-color);\n",
       "}\n",
       "\n",
       ".xr-section-summary-in:checked + label:before {\n",
       "  content: '▼';\n",
       "}\n",
       "\n",
       ".xr-section-summary-in:checked + label > span {\n",
       "  display: none;\n",
       "}\n",
       "\n",
       ".xr-section-summary,\n",
       ".xr-section-inline-details {\n",
       "  padding-top: 4px;\n",
       "  padding-bottom: 4px;\n",
       "}\n",
       "\n",
       ".xr-section-inline-details {\n",
       "  grid-column: 2 / -1;\n",
       "}\n",
       "\n",
       ".xr-section-details {\n",
       "  display: none;\n",
       "  grid-column: 1 / -1;\n",
       "  margin-bottom: 5px;\n",
       "}\n",
       "\n",
       ".xr-section-summary-in:checked ~ .xr-section-details {\n",
       "  display: contents;\n",
       "}\n",
       "\n",
       ".xr-array-wrap {\n",
       "  grid-column: 1 / -1;\n",
       "  display: grid;\n",
       "  grid-template-columns: 20px auto;\n",
       "}\n",
       "\n",
       ".xr-array-wrap > label {\n",
       "  grid-column: 1;\n",
       "  vertical-align: top;\n",
       "}\n",
       "\n",
       ".xr-preview {\n",
       "  color: var(--xr-font-color3);\n",
       "}\n",
       "\n",
       ".xr-array-preview,\n",
       ".xr-array-data {\n",
       "  padding: 0 5px !important;\n",
       "  grid-column: 2;\n",
       "}\n",
       "\n",
       ".xr-array-data,\n",
       ".xr-array-in:checked ~ .xr-array-preview {\n",
       "  display: none;\n",
       "}\n",
       "\n",
       ".xr-array-in:checked ~ .xr-array-data,\n",
       ".xr-array-preview {\n",
       "  display: inline-block;\n",
       "}\n",
       "\n",
       ".xr-dim-list {\n",
       "  display: inline-block !important;\n",
       "  list-style: none;\n",
       "  padding: 0 !important;\n",
       "  margin: 0;\n",
       "}\n",
       "\n",
       ".xr-dim-list li {\n",
       "  display: inline-block;\n",
       "  padding: 0;\n",
       "  margin: 0;\n",
       "}\n",
       "\n",
       ".xr-dim-list:before {\n",
       "  content: '(';\n",
       "}\n",
       "\n",
       ".xr-dim-list:after {\n",
       "  content: ')';\n",
       "}\n",
       "\n",
       ".xr-dim-list li:not(:last-child):after {\n",
       "  content: ',';\n",
       "  padding-right: 5px;\n",
       "}\n",
       "\n",
       ".xr-has-index {\n",
       "  font-weight: bold;\n",
       "}\n",
       "\n",
       ".xr-var-list,\n",
       ".xr-var-item {\n",
       "  display: contents;\n",
       "}\n",
       "\n",
       ".xr-var-item > div,\n",
       ".xr-var-item label,\n",
       ".xr-var-item > .xr-var-name span {\n",
       "  background-color: var(--xr-background-color-row-even);\n",
       "  margin-bottom: 0;\n",
       "}\n",
       "\n",
       ".xr-var-item > .xr-var-name:hover span {\n",
       "  padding-right: 5px;\n",
       "}\n",
       "\n",
       ".xr-var-list > li:nth-child(odd) > div,\n",
       ".xr-var-list > li:nth-child(odd) > label,\n",
       ".xr-var-list > li:nth-child(odd) > .xr-var-name span {\n",
       "  background-color: var(--xr-background-color-row-odd);\n",
       "}\n",
       "\n",
       ".xr-var-name {\n",
       "  grid-column: 1;\n",
       "}\n",
       "\n",
       ".xr-var-dims {\n",
       "  grid-column: 2;\n",
       "}\n",
       "\n",
       ".xr-var-dtype {\n",
       "  grid-column: 3;\n",
       "  text-align: right;\n",
       "  color: var(--xr-font-color2);\n",
       "}\n",
       "\n",
       ".xr-var-preview {\n",
       "  grid-column: 4;\n",
       "}\n",
       "\n",
       ".xr-var-name,\n",
       ".xr-var-dims,\n",
       ".xr-var-dtype,\n",
       ".xr-preview,\n",
       ".xr-attrs dt {\n",
       "  white-space: nowrap;\n",
       "  overflow: hidden;\n",
       "  text-overflow: ellipsis;\n",
       "  padding-right: 10px;\n",
       "}\n",
       "\n",
       ".xr-var-name:hover,\n",
       ".xr-var-dims:hover,\n",
       ".xr-var-dtype:hover,\n",
       ".xr-attrs dt:hover {\n",
       "  overflow: visible;\n",
       "  width: auto;\n",
       "  z-index: 1;\n",
       "}\n",
       "\n",
       ".xr-var-attrs,\n",
       ".xr-var-data {\n",
       "  display: none;\n",
       "  background-color: var(--xr-background-color) !important;\n",
       "  padding-bottom: 5px !important;\n",
       "}\n",
       "\n",
       ".xr-var-attrs-in:checked ~ .xr-var-attrs,\n",
       ".xr-var-data-in:checked ~ .xr-var-data {\n",
       "  display: block;\n",
       "}\n",
       "\n",
       ".xr-var-data > table {\n",
       "  float: right;\n",
       "}\n",
       "\n",
       ".xr-var-name span,\n",
       ".xr-var-data,\n",
       ".xr-attrs {\n",
       "  padding-left: 25px !important;\n",
       "}\n",
       "\n",
       ".xr-attrs,\n",
       ".xr-var-attrs,\n",
       ".xr-var-data {\n",
       "  grid-column: 1 / -1;\n",
       "}\n",
       "\n",
       "dl.xr-attrs {\n",
       "  padding: 0;\n",
       "  margin: 0;\n",
       "  display: grid;\n",
       "  grid-template-columns: 125px auto;\n",
       "}\n",
       "\n",
       ".xr-attrs dt,\n",
       ".xr-attrs dd {\n",
       "  padding: 0;\n",
       "  margin: 0;\n",
       "  float: left;\n",
       "  padding-right: 10px;\n",
       "  width: auto;\n",
       "}\n",
       "\n",
       ".xr-attrs dt {\n",
       "  font-weight: normal;\n",
       "  grid-column: 1;\n",
       "}\n",
       "\n",
       ".xr-attrs dt:hover span {\n",
       "  display: inline-block;\n",
       "  background: var(--xr-background-color);\n",
       "  padding-right: 10px;\n",
       "}\n",
       "\n",
       ".xr-attrs dd {\n",
       "  grid-column: 2;\n",
       "  white-space: pre-wrap;\n",
       "  word-break: break-all;\n",
       "}\n",
       "\n",
       ".xr-icon-database,\n",
       ".xr-icon-file-text2 {\n",
       "  display: inline-block;\n",
       "  vertical-align: middle;\n",
       "  width: 1em;\n",
       "  height: 1.5em !important;\n",
       "  stroke-width: 0;\n",
       "  stroke: currentColor;\n",
       "  fill: currentColor;\n",
       "}\n",
       "</style><pre class='xr-text-repr-fallback'>&lt;xarray.DataArray &#x27;precipc&#x27; (time: 62336, lat: 1800, lon: 3600)&gt;\n",
       "[403937280000 values with dtype=float32]\n",
       "Coordinates:\n",
       "  * time     (time) datetime64[ns] 2000-06-01 ... 2021-09-30T21:00:00\n",
       "  * lat      (lat) float64 -89.95 -89.85 -89.75 -89.65 ... 89.75 89.85 89.95\n",
       "  * lon      (lon) float64 -179.9 -179.8 -179.8 -179.7 ... 179.8 179.8 179.9\n",
       "Attributes:\n",
       "    long_name:  precipitationcal [mm/hr] </pre><div class='xr-wrap' style='display:none'><div class='xr-header'><div class='xr-obj-type'>xarray.DataArray</div><div class='xr-array-name'>'precipc'</div><ul class='xr-dim-list'><li><span class='xr-has-index'>time</span>: 62336</li><li><span class='xr-has-index'>lat</span>: 1800</li><li><span class='xr-has-index'>lon</span>: 3600</li></ul></div><ul class='xr-sections'><li class='xr-section-item'><div class='xr-array-wrap'><input id='section-8cda0e1d-f7d3-4357-9db5-8ca75912f44c' class='xr-array-in' type='checkbox' checked><label for='section-8cda0e1d-f7d3-4357-9db5-8ca75912f44c' title='Show/hide data repr'><svg class='icon xr-icon-database'><use xlink:href='#icon-database'></use></svg></label><div class='xr-array-preview xr-preview'><span>...</span></div><div class='xr-array-data'><pre>[403937280000 values with dtype=float32]</pre></div></div></li><li class='xr-section-item'><input id='section-7db8d447-e84a-4f5e-8d75-b97ca07a8e45' class='xr-section-summary-in' type='checkbox'  checked><label for='section-7db8d447-e84a-4f5e-8d75-b97ca07a8e45' class='xr-section-summary' >Coordinates: <span>(3)</span></label><div class='xr-section-inline-details'></div><div class='xr-section-details'><ul class='xr-var-list'><li class='xr-var-item'><div class='xr-var-name'><span class='xr-has-index'>time</span></div><div class='xr-var-dims'>(time)</div><div class='xr-var-dtype'>datetime64[ns]</div><div class='xr-var-preview xr-preview'>2000-06-01 ... 2021-09-30T21:00:00</div><input id='attrs-95ad2631-945c-4ed7-a7cb-03c6e1f507b9' class='xr-var-attrs-in' type='checkbox' ><label for='attrs-95ad2631-945c-4ed7-a7cb-03c6e1f507b9' title='Show/Hide attributes'><svg class='icon xr-icon-file-text2'><use xlink:href='#icon-file-text2'></use></svg></label><input id='data-bf518170-bb7a-4ef4-acb6-bec356a02d39' class='xr-var-data-in' type='checkbox'><label for='data-bf518170-bb7a-4ef4-acb6-bec356a02d39' title='Show/Hide data repr'><svg class='icon xr-icon-database'><use xlink:href='#icon-database'></use></svg></label><div class='xr-var-attrs'><dl class='xr-attrs'><dt><span>grads_dim :</span></dt><dd>t</dd><dt><span>grads_mapping :</span></dt><dd>linear</dd><dt><span>grads_size :</span></dt><dd>374016</dd><dt><span>grads_min :</span></dt><dd>00z01jun2000</dd><dt><span>grads_step :</span></dt><dd>30mn</dd><dt><span>long_name :</span></dt><dd>time</dd><dt><span>minimum :</span></dt><dd>00z01jun2000</dd><dt><span>maximum :</span></dt><dd>23:30z30sep2021</dd><dt><span>resolution :</span></dt><dd>0.020833334</dd></dl></div><div class='xr-var-data'><pre>array([&#x27;2000-06-01T00:00:00.000000000&#x27;, &#x27;2000-06-01T03:00:00.000000000&#x27;,\n",
       "       &#x27;2000-06-01T06:00:00.000000000&#x27;, ..., &#x27;2021-09-30T15:00:00.000000000&#x27;,\n",
       "       &#x27;2021-09-30T18:00:00.000000000&#x27;, &#x27;2021-09-30T21:00:00.000000000&#x27;],\n",
       "      dtype=&#x27;datetime64[ns]&#x27;)</pre></div></li><li class='xr-var-item'><div class='xr-var-name'><span class='xr-has-index'>lat</span></div><div class='xr-var-dims'>(lat)</div><div class='xr-var-dtype'>float64</div><div class='xr-var-preview xr-preview'>-89.95 -89.85 ... 89.85 89.95</div><input id='attrs-6da7006b-b08c-45cd-a301-ff1a659d67c8' class='xr-var-attrs-in' type='checkbox' ><label for='attrs-6da7006b-b08c-45cd-a301-ff1a659d67c8' title='Show/Hide attributes'><svg class='icon xr-icon-file-text2'><use xlink:href='#icon-file-text2'></use></svg></label><input id='data-bc214fb9-17bc-491d-acc5-e1efb4f01baf' class='xr-var-data-in' type='checkbox'><label for='data-bc214fb9-17bc-491d-acc5-e1efb4f01baf' title='Show/Hide data repr'><svg class='icon xr-icon-database'><use xlink:href='#icon-database'></use></svg></label><div class='xr-var-attrs'><dl class='xr-attrs'><dt><span>grads_dim :</span></dt><dd>y</dd><dt><span>grads_mapping :</span></dt><dd>linear</dd><dt><span>grads_size :</span></dt><dd>1800</dd><dt><span>units :</span></dt><dd>degrees_north</dd><dt><span>long_name :</span></dt><dd>latitude</dd><dt><span>minimum :</span></dt><dd>-89.95</dd><dt><span>maximum :</span></dt><dd>89.95</dd><dt><span>resolution :</span></dt><dd>0.1</dd></dl></div><div class='xr-var-data'><pre>array([-89.95, -89.85, -89.75, ...,  89.75,  89.85,  89.95])</pre></div></li><li class='xr-var-item'><div class='xr-var-name'><span class='xr-has-index'>lon</span></div><div class='xr-var-dims'>(lon)</div><div class='xr-var-dtype'>float64</div><div class='xr-var-preview xr-preview'>-179.9 -179.8 ... 179.8 179.9</div><input id='attrs-00e17d9e-f995-44f6-9dfa-dd9d10c36fb6' class='xr-var-attrs-in' type='checkbox' ><label for='attrs-00e17d9e-f995-44f6-9dfa-dd9d10c36fb6' title='Show/Hide attributes'><svg class='icon xr-icon-file-text2'><use xlink:href='#icon-file-text2'></use></svg></label><input id='data-4195ba98-48b6-4d03-a100-b1e9db6e7c6f' class='xr-var-data-in' type='checkbox'><label for='data-4195ba98-48b6-4d03-a100-b1e9db6e7c6f' title='Show/Hide data repr'><svg class='icon xr-icon-database'><use xlink:href='#icon-database'></use></svg></label><div class='xr-var-attrs'><dl class='xr-attrs'><dt><span>grads_dim :</span></dt><dd>x</dd><dt><span>grads_mapping :</span></dt><dd>linear</dd><dt><span>grads_size :</span></dt><dd>3600</dd><dt><span>units :</span></dt><dd>degrees_east</dd><dt><span>long_name :</span></dt><dd>longitude</dd><dt><span>minimum :</span></dt><dd>-179.95</dd><dt><span>maximum :</span></dt><dd>179.95</dd><dt><span>resolution :</span></dt><dd>0.1</dd></dl></div><div class='xr-var-data'><pre>array([-179.95, -179.85, -179.75, ...,  179.75,  179.85,  179.95])</pre></div></li></ul></div></li><li class='xr-section-item'><input id='section-65c212b1-c1c8-4d4e-b88f-0bb97c579f0e' class='xr-section-summary-in' type='checkbox'  checked><label for='section-65c212b1-c1c8-4d4e-b88f-0bb97c579f0e' class='xr-section-summary' >Attributes: <span>(1)</span></label><div class='xr-section-inline-details'></div><div class='xr-section-details'><dl class='xr-attrs'><dt><span>long_name :</span></dt><dd>precipitationcal [mm/hr] </dd></dl></div></li></ul></div></div>"
      ],
      "text/plain": [
       "<xarray.DataArray 'precipc' (time: 62336, lat: 1800, lon: 3600)>\n",
       "[403937280000 values with dtype=float32]\n",
       "Coordinates:\n",
       "  * time     (time) datetime64[ns] 2000-06-01 ... 2021-09-30T21:00:00\n",
       "  * lat      (lat) float64 -89.95 -89.85 -89.75 -89.65 ... 89.75 89.85 89.95\n",
       "  * lon      (lon) float64 -179.9 -179.8 -179.8 -179.7 ... 179.8 179.8 179.9\n",
       "Attributes:\n",
       "    long_name:  precipitationcal [mm/hr] "
      ]
     },
     "execution_count": 6,
     "metadata": {},
     "output_type": "execute_result"
    }
   ],
   "source": [
    "pc3hourly = IMERG.precipc[::6,:,:]\n",
    "pc3hourly"
   ]
  },
  {
   "cell_type": "code",
   "execution_count": 7,
   "id": "02ad25cb-ed3f-4436-99c9-94fe02e756a6",
   "metadata": {},
   "outputs": [
    {
     "name": "stdout",
     "output_type": "stream",
     "text": [
      "Sat Jun 17 02:24:09 MDT 2023\n"
     ]
    }
   ],
   "source": [
    "!date"
   ]
  },
  {
   "cell_type": "markdown",
   "id": "67066bb4-407e-4aa1-a350-14724302e70e",
   "metadata": {},
   "source": [
    "# 3 hourly, for speed "
   ]
  },
  {
   "cell_type": "code",
   "execution_count": 8,
   "id": "cf048b61-b26b-4e1c-8ee9-f55ff385f3e4",
   "metadata": {},
   "outputs": [
    {
     "name": "stdout",
     "output_type": "stream",
     "text": [
      "0  case, areatime  2018_11_20_11_lat4p616S.geojson 1892.647086291892\n",
      "1  case, areatime  2018_11_16_21_lat8p412S.geojson 2667.6861528738714\n",
      "2  case, areatime  2014_04_12_21_lat5p095N.geojson 5008.481114870546\n",
      "3  case, areatime  2018_10_22_15_lat9p781N.geojson 5261.462676095129\n",
      "4  case, areatime  2017_05_28_11_lat5p291S.geojson 5690.601727745032\n",
      "5  case, areatime  2014_05_11_15_lat4p404N.geojson 6050.818575241469\n",
      "6  case, areatime  2014_05_11_18_lat2p131S.geojson 6060.850142585366\n",
      "7  case, areatime  2017_12_01_11_lat9p845S.geojson 6534.053998839994\n",
      "8  case, areatime  2017_04_29_11_lat7p001S.geojson 7493.2953775304195\n",
      "9  case, areatime  2015_03_21_09_lat5p130N.geojson 8302.245634879724\n",
      "10  case, areatime  2015_03_21_17_lat5p987N.geojson 8398.895739251338\n",
      "11  case, areatime  2017_05_06_18_lat1p979S.geojson 8419.365461090125\n",
      "12  case, areatime  2017_05_06_20_lat3p790S.geojson 8426.735231012779\n",
      "13  case, areatime  2017_05_06_20_lat0p918N.geojson 8629.762051834938\n",
      "14  case, areatime  2017_04_29_11_lat0p732S.geojson 8972.043947479053\n"
     ]
    },
    {
     "name": "stderr",
     "output_type": "stream",
     "text": [
      "Error:curl error: Timeout was reached\n",
      "Error:DAP DATADDS packet is apparently too short\n"
     ]
    },
    {
     "name": "stdout",
     "output_type": "stream",
     "text": [
      "15  case, areatime  2016_04_10_23_lat8p819S.geojson 9290.8194783981\n",
      "16  case, areatime  2017_05_08_05_lat1p160N.geojson 9695.01861094522\n",
      "17  case, areatime  2016_04_29_17_lat1p821N.geojson 9754.70437103062\n",
      "18  case, areatime  2016_05_01_00_lat6p733S.geojson 10522.284848804758\n",
      "19  case, areatime  2016_05_02_05_lat1p551S.geojson 12023.310669858418\n",
      "20  case, areatime  2014_04_17_06_lat6p223S.geojson 12712.592277747774\n"
     ]
    },
    {
     "name": "stderr",
     "output_type": "stream",
     "text": [
      "Error:curl error: Timeout was reached\n",
      "Error:DAP DATADDS packet is apparently too short\n"
     ]
    },
    {
     "name": "stdout",
     "output_type": "stream",
     "text": [
      "21  case, areatime  2017_01_07_14_lat6p991S.geojson 12738.00772196208\n",
      "22  case, areatime  2017_05_09_01_lat3p355S.geojson 13759.444602992908\n"
     ]
    },
    {
     "name": "stderr",
     "output_type": "stream",
     "text": [
      "Error:curl error: Timeout was reached\n",
      "Error:DAP DATADDS packet is apparently too short\n"
     ]
    },
    {
     "name": "stdout",
     "output_type": "stream",
     "text": [
      "23  case, areatime  2014_04_19_22_lat7p255S.geojson 15066.05712579348\n"
     ]
    },
    {
     "name": "stderr",
     "output_type": "stream",
     "text": [
      "Error:curl error: Timeout was reached\n",
      "Error:DAP DATADDS packet is apparently too short\n"
     ]
    },
    {
     "name": "stdout",
     "output_type": "stream",
     "text": [
      "24  case, areatime  2016_04_15_08_lat5p477S.geojson 15284.772629794852\n",
      "25  case, areatime  2018_03_19_12_lat9p318S.geojson 16255.056978740182\n",
      "26  case, areatime  2015_04_30_02_lat0p276N.geojson 16980.65254657688\n",
      "27  case, areatime  2015_09_17_21_lat3p507N.geojson 17089.620527611874\n"
     ]
    },
    {
     "name": "stderr",
     "output_type": "stream",
     "text": [
      "Error:curl error: Timeout was reached\n",
      "Error:DAP DATADDS packet is apparently too short\n"
     ]
    },
    {
     "name": "stdout",
     "output_type": "stream",
     "text": [
      "28  case, areatime  2015_04_30_17_lat4p330S.geojson 17102.64201346905\n",
      "29  case, areatime  2015_04_29_21_lat5p196N.geojson 18766.16558642759\n",
      "30  case, areatime  2015_05_01_17_lat2p027N.geojson 19764.7244218712\n"
     ]
    },
    {
     "name": "stderr",
     "output_type": "stream",
     "text": [
      "Error:curl error: Timeout was reached\n",
      "Error:DAP DATADDS packet is apparently too short\n"
     ]
    },
    {
     "name": "stdout",
     "output_type": "stream",
     "text": [
      "31  case, areatime  2015_05_01_21_lat7p053N.geojson 20008.93062706516\n"
     ]
    },
    {
     "name": "stderr",
     "output_type": "stream",
     "text": [
      "Error:curl error: Timeout was reached\n",
      "Error:DAP DATADDS packet is apparently too short\n"
     ]
    },
    {
     "name": "stdout",
     "output_type": "stream",
     "text": [
      "32  case, areatime  2015_05_05_01_lat0p460S.geojson 22920.11494317842\n"
     ]
    },
    {
     "name": "stderr",
     "output_type": "stream",
     "text": [
      "Error:curl error: Timeout was reached\n",
      "Error:DAP DATADDS packet is apparently too short\n"
     ]
    },
    {
     "name": "stdout",
     "output_type": "stream",
     "text": [
      "33  case, areatime  2015_05_05_07_lat6p890S.geojson 22968.47585625638\n"
     ]
    },
    {
     "name": "stderr",
     "output_type": "stream",
     "text": [
      "Error:curl error: Timeout was reached\n",
      "Error:DAP DATADDS packet is apparently too short\n"
     ]
    },
    {
     "name": "stdout",
     "output_type": "stream",
     "text": [
      "34  case, areatime  2015_05_05_21_lat0p238S.geojson 23096.78102142193\n"
     ]
    },
    {
     "name": "stderr",
     "output_type": "stream",
     "text": [
      "Error:curl error: Timeout was reached\n",
      "Error:DAP DATADDS packet is apparently too short\n"
     ]
    },
    {
     "name": "stdout",
     "output_type": "stream",
     "text": [
      "35  case, areatime  2017_02_27_22_lat8p004S.geojson 26772.48529657764\n"
     ]
    },
    {
     "name": "stderr",
     "output_type": "stream",
     "text": [
      "Error:curl error: Timeout was reached\n",
      "Error:DAP DATADDS packet is apparently too short\n"
     ]
    },
    {
     "name": "stdout",
     "output_type": "stream",
     "text": [
      "36  case, areatime  2017_02_28_21_lat8p115S.geojson 28285.935972434945\n"
     ]
    },
    {
     "name": "stderr",
     "output_type": "stream",
     "text": [
      "Error:curl error: Timeout was reached\n",
      "Error:DAP DATADDS packet is apparently too short\n"
     ]
    },
    {
     "name": "stdout",
     "output_type": "stream",
     "text": [
      "37  case, areatime  2015_05_06_21_lat5p111N.geojson 28508.157805491875\n"
     ]
    },
    {
     "name": "stderr",
     "output_type": "stream",
     "text": [
      "Error:curl error: Timeout was reached\n",
      "Error:DAP DATADDS packet is apparently too short\n"
     ]
    },
    {
     "name": "stdout",
     "output_type": "stream",
     "text": [
      "38  case, areatime  2015_05_07_03_lat6p414S.geojson 29758.27803679196\n"
     ]
    },
    {
     "name": "stderr",
     "output_type": "stream",
     "text": [
      "Error:curl error: Timeout was reached\n",
      "Error:DAP DATADDS packet is apparently too short\n"
     ]
    }
   ],
   "source": [
    "# 3 hourly \n",
    "for icase in range(len(eq7cases)): \n",
    "\n",
    "# Continue from where it last crashed/ended:\n",
    "    if(icase < 24): \n",
    "        continue\n",
    "\n",
    "# Select cases by small to large areatime\n",
    "    case = eq7cases.sort_values('areatime').iloc[icase]\n",
    "    filename = case.filename\n",
    "    print(icase, ' case, areatime ',filename, case.areatime)\n",
    "\n",
    "    gdf = gp.read_file('GEOJSONS/'+filename)\n",
    "    gdf.set_crs(epsg = \"4326\", inplace = True)\n",
    "    bounds = gdf.bounds\n",
    "    bounds.minx.min(), bounds.maxx.max(), bounds.miny.min(), bounds.maxy.max(),\n",
    "\n",
    "    d2 = pc3hourly.sel(lat =slice(bounds.miny.min()-5, bounds.maxy.max()+5),\n",
    "                lon =slice(bounds.minx.min()-5, bounds.maxx.max()+5), \n",
    "                time=slice(gdf.time.min(),gdf.time.max())             )\n",
    "\n",
    "    d2.to_netcdf('~/Box/VaporLakes/data/LAKEBYLAKE/IMERG/'+filename[0:-8]+'_IMERG_precipc_3h.nc')\n",
    "    "
   ]
  },
  {
   "cell_type": "code",
   "execution_count": 11,
   "id": "9426433b",
   "metadata": {},
   "outputs": [
    {
     "name": "stdout",
     "output_type": "stream",
     "text": [
      "Sun Jun 18 10:57:44 MDT 2023\n"
     ]
    }
   ],
   "source": [
    "!date"
   ]
  },
  {
   "cell_type": "markdown",
   "id": "ff134c77-5f68-4e06-aa77-2db97c0bf854",
   "metadata": {},
   "source": [
    "# Hourly"
   ]
  },
  {
   "cell_type": "code",
   "execution_count": 12,
   "id": "dd2d32cf",
   "metadata": {},
   "outputs": [
    {
     "name": "stdout",
     "output_type": "stream",
     "text": [
      "0  case, areatime  2018_11_20_11_lat4p616S.geojson 1892.647086291892\n",
      "1  case, areatime  2018_11_16_21_lat8p412S.geojson 2667.6861528738714\n"
     ]
    },
    {
     "name": "stderr",
     "output_type": "stream",
     "text": [
      "Error:curl error: Timeout was reached\n",
      "Error:DAP DATADDS packet is apparently too short\n"
     ]
    },
    {
     "name": "stdout",
     "output_type": "stream",
     "text": [
      "2  case, areatime  2014_04_12_21_lat5p095N.geojson 5008.481114870546\n"
     ]
    },
    {
     "name": "stderr",
     "output_type": "stream",
     "text": [
      "Error:curl error: Timeout was reached\n",
      "Error:DAP DATADDS packet is apparently too short\n"
     ]
    },
    {
     "name": "stdout",
     "output_type": "stream",
     "text": [
      "3  case, areatime  2018_10_22_15_lat9p781N.geojson 5261.462676095129\n"
     ]
    },
    {
     "name": "stderr",
     "output_type": "stream",
     "text": [
      "Error:curl error: Timeout was reached\n",
      "Error:DAP DATADDS packet is apparently too short\n"
     ]
    },
    {
     "name": "stdout",
     "output_type": "stream",
     "text": [
      "4  case, areatime  2017_05_28_11_lat5p291S.geojson 5690.601727745032\n"
     ]
    },
    {
     "name": "stderr",
     "output_type": "stream",
     "text": [
      "Error:curl error: Timeout was reached\n",
      "Error:DAP DATADDS packet is apparently too short\n"
     ]
    },
    {
     "name": "stdout",
     "output_type": "stream",
     "text": [
      "5  case, areatime  2014_05_11_15_lat4p404N.geojson 6050.818575241469\n"
     ]
    },
    {
     "name": "stderr",
     "output_type": "stream",
     "text": [
      "Error:curl error: Timeout was reached\n",
      "Error:DAP DATADDS packet is apparently too short\n"
     ]
    },
    {
     "name": "stdout",
     "output_type": "stream",
     "text": [
      "6  case, areatime  2014_05_11_18_lat2p131S.geojson 6060.850142585366\n"
     ]
    },
    {
     "name": "stderr",
     "output_type": "stream",
     "text": [
      "Error:curl error: Timeout was reached\n",
      "Error:DAP DATADDS packet is apparently too short\n"
     ]
    },
    {
     "name": "stdout",
     "output_type": "stream",
     "text": [
      "7  case, areatime  2017_12_01_11_lat9p845S.geojson 6534.053998839994\n"
     ]
    },
    {
     "name": "stderr",
     "output_type": "stream",
     "text": [
      "Error:curl error: Timeout was reached\n",
      "Error:DAP DATADDS packet is apparently too short\n"
     ]
    },
    {
     "name": "stdout",
     "output_type": "stream",
     "text": [
      "8  case, areatime  2017_04_29_11_lat7p001S.geojson 7493.2953775304195\n"
     ]
    },
    {
     "name": "stderr",
     "output_type": "stream",
     "text": [
      "Error:curl error: Timeout was reached\n",
      "Error:DAP DATADDS packet is apparently too short\n"
     ]
    },
    {
     "name": "stdout",
     "output_type": "stream",
     "text": [
      "9  case, areatime  2015_03_21_09_lat5p130N.geojson 8302.245634879724\n"
     ]
    },
    {
     "name": "stderr",
     "output_type": "stream",
     "text": [
      "Error:curl error: Timeout was reached\n",
      "Error:DAP DATADDS packet is apparently too short\n"
     ]
    },
    {
     "name": "stdout",
     "output_type": "stream",
     "text": [
      "10  case, areatime  2015_03_21_17_lat5p987N.geojson 8398.895739251338\n"
     ]
    },
    {
     "name": "stderr",
     "output_type": "stream",
     "text": [
      "Error:curl error: Timeout was reached\n",
      "Error:DAP DATADDS packet is apparently too short\n"
     ]
    },
    {
     "name": "stdout",
     "output_type": "stream",
     "text": [
      "11  case, areatime  2017_05_06_18_lat1p979S.geojson 8419.365461090125\n"
     ]
    },
    {
     "name": "stderr",
     "output_type": "stream",
     "text": [
      "Error:curl error: Timeout was reached\n",
      "Error:DAP DATADDS packet is apparently too short\n"
     ]
    },
    {
     "name": "stdout",
     "output_type": "stream",
     "text": [
      "12  case, areatime  2017_05_06_20_lat3p790S.geojson 8426.735231012779\n"
     ]
    },
    {
     "name": "stderr",
     "output_type": "stream",
     "text": [
      "Error:curl error: Timeout was reached\n",
      "Error:DAP DATADDS packet is apparently too short\n"
     ]
    },
    {
     "name": "stdout",
     "output_type": "stream",
     "text": [
      "13  case, areatime  2017_05_06_20_lat0p918N.geojson 8629.762051834938\n"
     ]
    },
    {
     "name": "stderr",
     "output_type": "stream",
     "text": [
      "Error:curl error: Timeout was reached\n",
      "Error:DAP DATADDS packet is apparently too short\n"
     ]
    },
    {
     "name": "stdout",
     "output_type": "stream",
     "text": [
      "14  case, areatime  2017_04_29_11_lat0p732S.geojson 8972.043947479053\n"
     ]
    },
    {
     "name": "stderr",
     "output_type": "stream",
     "text": [
      "Error:curl error: Timeout was reached\n",
      "Error:DAP DATADDS packet is apparently too short\n"
     ]
    },
    {
     "name": "stdout",
     "output_type": "stream",
     "text": [
      "15  case, areatime  2016_04_10_23_lat8p819S.geojson 9290.8194783981\n"
     ]
    },
    {
     "name": "stderr",
     "output_type": "stream",
     "text": [
      "Error:curl error: Timeout was reached\n",
      "Error:DAP DATADDS packet is apparently too short\n"
     ]
    },
    {
     "name": "stdout",
     "output_type": "stream",
     "text": [
      "16  case, areatime  2017_05_08_05_lat1p160N.geojson 9695.01861094522\n"
     ]
    },
    {
     "name": "stderr",
     "output_type": "stream",
     "text": [
      "Error:curl error: Timeout was reached\n",
      "Error:DAP DATADDS packet is apparently too short\n"
     ]
    },
    {
     "name": "stdout",
     "output_type": "stream",
     "text": [
      "17  case, areatime  2016_04_29_17_lat1p821N.geojson 9754.70437103062\n"
     ]
    },
    {
     "name": "stderr",
     "output_type": "stream",
     "text": [
      "Error:curl error: Timeout was reached\n",
      "Error:DAP DATADDS packet is apparently too short\n"
     ]
    },
    {
     "name": "stdout",
     "output_type": "stream",
     "text": [
      "18  case, areatime  2016_05_01_00_lat6p733S.geojson 10522.284848804758\n"
     ]
    },
    {
     "name": "stderr",
     "output_type": "stream",
     "text": [
      "Error:curl error: Timeout was reached\n",
      "Error:DAP DATADDS packet is apparently too short\n"
     ]
    },
    {
     "name": "stdout",
     "output_type": "stream",
     "text": [
      "19  case, areatime  2016_05_02_05_lat1p551S.geojson 12023.310669858418\n"
     ]
    },
    {
     "name": "stderr",
     "output_type": "stream",
     "text": [
      "Error:curl error: Timeout was reached\n",
      "Error:DAP DATADDS packet is apparently too short\n"
     ]
    },
    {
     "name": "stdout",
     "output_type": "stream",
     "text": [
      "20  case, areatime  2014_04_17_06_lat6p223S.geojson 12712.592277747774\n"
     ]
    },
    {
     "name": "stderr",
     "output_type": "stream",
     "text": [
      "Error:curl error: Timeout was reached\n",
      "Error:DAP DATADDS packet is apparently too short\n"
     ]
    },
    {
     "name": "stdout",
     "output_type": "stream",
     "text": [
      "21  case, areatime  2017_01_07_14_lat6p991S.geojson 12738.00772196208\n"
     ]
    },
    {
     "name": "stderr",
     "output_type": "stream",
     "text": [
      "Error:curl error: Timeout was reached\n",
      "Error:DAP DATADDS packet is apparently too short\n"
     ]
    },
    {
     "name": "stdout",
     "output_type": "stream",
     "text": [
      "22  case, areatime  2017_05_09_01_lat3p355S.geojson 13759.444602992908\n"
     ]
    },
    {
     "name": "stderr",
     "output_type": "stream",
     "text": [
      "Error:curl error: Timeout was reached\n",
      "Error:DAP DATADDS packet is apparently too short\n"
     ]
    },
    {
     "name": "stdout",
     "output_type": "stream",
     "text": [
      "23  case, areatime  2014_04_19_22_lat7p255S.geojson 15066.05712579348\n"
     ]
    },
    {
     "name": "stderr",
     "output_type": "stream",
     "text": [
      "Error:curl error: Timeout was reached\n",
      "Error:DAP DATADDS packet is apparently too short\n"
     ]
    },
    {
     "name": "stdout",
     "output_type": "stream",
     "text": [
      "24  case, areatime  2016_04_15_08_lat5p477S.geojson 15284.772629794852\n"
     ]
    },
    {
     "name": "stderr",
     "output_type": "stream",
     "text": [
      "Error:curl error: Timeout was reached\n",
      "Error:DAP DATADDS packet is apparently too short\n"
     ]
    },
    {
     "name": "stdout",
     "output_type": "stream",
     "text": [
      "25  case, areatime  2018_03_19_12_lat9p318S.geojson 16255.056978740182\n"
     ]
    },
    {
     "name": "stderr",
     "output_type": "stream",
     "text": [
      "Error:curl error: Timeout was reached\n",
      "Error:DAP DATADDS packet is apparently too short\n"
     ]
    },
    {
     "name": "stdout",
     "output_type": "stream",
     "text": [
      "26  case, areatime  2015_04_30_02_lat0p276N.geojson 16980.65254657688\n"
     ]
    },
    {
     "name": "stderr",
     "output_type": "stream",
     "text": [
      "Error:curl error: Timeout was reached\n",
      "Error:DAP DATADDS packet is apparently too short\n"
     ]
    },
    {
     "name": "stdout",
     "output_type": "stream",
     "text": [
      "27  case, areatime  2015_09_17_21_lat3p507N.geojson 17089.620527611874\n"
     ]
    },
    {
     "name": "stderr",
     "output_type": "stream",
     "text": [
      "Error:curl error: Timeout was reached\n",
      "Error:DAP DATADDS packet is apparently too short\n"
     ]
    },
    {
     "name": "stdout",
     "output_type": "stream",
     "text": [
      "28  case, areatime  2015_04_30_17_lat4p330S.geojson 17102.64201346905\n"
     ]
    },
    {
     "name": "stderr",
     "output_type": "stream",
     "text": [
      "Error:curl error: Timeout was reached\n",
      "Error:DAP DATADDS packet is apparently too short\n"
     ]
    },
    {
     "name": "stdout",
     "output_type": "stream",
     "text": [
      "29  case, areatime  2015_04_29_21_lat5p196N.geojson 18766.16558642759\n"
     ]
    },
    {
     "name": "stderr",
     "output_type": "stream",
     "text": [
      "Error:curl error: Timeout was reached\n",
      "Error:DAP DATADDS packet is apparently too short\n"
     ]
    },
    {
     "name": "stdout",
     "output_type": "stream",
     "text": [
      "30  case, areatime  2015_05_01_17_lat2p027N.geojson 19764.7244218712\n"
     ]
    },
    {
     "name": "stderr",
     "output_type": "stream",
     "text": [
      "Error:curl error: Timeout was reached\n",
      "Error:DAP DATADDS packet is apparently too short\n"
     ]
    },
    {
     "name": "stdout",
     "output_type": "stream",
     "text": [
      "31  case, areatime  2015_05_01_21_lat7p053N.geojson 20008.93062706516\n"
     ]
    },
    {
     "name": "stderr",
     "output_type": "stream",
     "text": [
      "Error:curl error: Timeout was reached\n",
      "Error:DAP DATADDS packet is apparently too short\n"
     ]
    },
    {
     "name": "stdout",
     "output_type": "stream",
     "text": [
      "32  case, areatime  2015_05_05_01_lat0p460S.geojson 22920.11494317842\n"
     ]
    },
    {
     "name": "stderr",
     "output_type": "stream",
     "text": [
      "Error:curl error: Timeout was reached\n",
      "Error:DAP DATADDS packet is apparently too short\n"
     ]
    },
    {
     "name": "stdout",
     "output_type": "stream",
     "text": [
      "33  case, areatime  2015_05_05_07_lat6p890S.geojson 22968.47585625638\n"
     ]
    },
    {
     "name": "stderr",
     "output_type": "stream",
     "text": [
      "Error:curl error: Timeout was reached\n",
      "Error:DAP DATADDS packet is apparently too short\n"
     ]
    },
    {
     "name": "stdout",
     "output_type": "stream",
     "text": [
      "34  case, areatime  2015_05_05_21_lat0p238S.geojson 23096.78102142193\n"
     ]
    },
    {
     "name": "stderr",
     "output_type": "stream",
     "text": [
      "Error:curl error: Timeout was reached\n",
      "Error:DAP DATADDS packet is apparently too short\n"
     ]
    },
    {
     "name": "stdout",
     "output_type": "stream",
     "text": [
      "35  case, areatime  2017_02_27_22_lat8p004S.geojson 26772.48529657764\n"
     ]
    },
    {
     "name": "stderr",
     "output_type": "stream",
     "text": [
      "Error:curl error: Timeout was reached\n",
      "Error:DAP DATADDS packet is apparently too short\n"
     ]
    },
    {
     "name": "stdout",
     "output_type": "stream",
     "text": [
      "36  case, areatime  2017_02_28_21_lat8p115S.geojson 28285.935972434945\n"
     ]
    },
    {
     "name": "stderr",
     "output_type": "stream",
     "text": [
      "Error:curl error: Timeout was reached\n",
      "Error:DAP DATADDS packet is apparently too short\n"
     ]
    },
    {
     "name": "stdout",
     "output_type": "stream",
     "text": [
      "37  case, areatime  2015_05_06_21_lat5p111N.geojson 28508.157805491875\n"
     ]
    },
    {
     "name": "stderr",
     "output_type": "stream",
     "text": [
      "Error:curl error: Timeout was reached\n",
      "Error:DAP DATADDS packet is apparently too short\n"
     ]
    },
    {
     "name": "stdout",
     "output_type": "stream",
     "text": [
      "38  case, areatime  2015_05_07_03_lat6p414S.geojson 29758.27803679196\n"
     ]
    },
    {
     "name": "stderr",
     "output_type": "stream",
     "text": [
      "Error:curl error: Timeout was reached\n",
      "Error:DAP DATADDS packet is apparently too short\n"
     ]
    }
   ],
   "source": [
    "# hourly \n",
    "for icase in range(len(eq7cases)): \n",
    "\n",
    "# Select cases by small to large areatime\n",
    "    case = eq7cases.sort_values('areatime').iloc[icase]\n",
    "    filename = case.filename\n",
    "    print(icase, ' case, areatime ',filename, case.areatime)\n",
    "\n",
    "    gdf = gp.read_file('GEOJSONS/'+filename)\n",
    "    gdf.set_crs(epsg = \"4326\", inplace = True)\n",
    "    bounds = gdf.bounds\n",
    "    bounds.minx.min(), bounds.maxx.max(), bounds.miny.min(), bounds.maxy.max(),\n",
    "\n",
    "    d2 = pchourly.sel(lat =slice(bounds.miny.min()-5, bounds.maxy.max()+5),\n",
    "                lon =slice(bounds.minx.min()-5, bounds.maxx.max()+5), \n",
    "                time=slice(gdf.time.min(),gdf.time.max())             )\n",
    "\n",
    "    d2.to_netcdf('~/Box/VaporLakes/data/LAKEBYLAKE/IMERG/'+filename[0:-8]+'_IMERG_precipc_hourly.nc')\n",
    "    "
   ]
  },
  {
   "cell_type": "code",
   "execution_count": 13,
   "id": "06919394",
   "metadata": {},
   "outputs": [
    {
     "name": "stdout",
     "output_type": "stream",
     "text": [
      "Mon Jun 19 06:28:15 MDT 2023\n"
     ]
    }
   ],
   "source": [
    "!date"
   ]
  },
  {
   "cell_type": "code",
   "execution_count": null,
   "id": "6ef768e8",
   "metadata": {},
   "outputs": [],
   "source": []
  },
  {
   "cell_type": "code",
   "execution_count": null,
   "id": "e3141453-6195-4d26-b9f9-038aca6b2ee8",
   "metadata": {},
   "outputs": [],
   "source": []
  }
 ],
 "metadata": {
  "kernelspec": {
   "display_name": "Python 3 (ipykernel)",
   "language": "python",
   "name": "python3"
  },
  "language_info": {
   "codemirror_mode": {
    "name": "ipython",
    "version": 3
   },
   "file_extension": ".py",
   "mimetype": "text/x-python",
   "name": "python",
   "nbconvert_exporter": "python",
   "pygments_lexer": "ipython3",
   "version": "3.11.4"
  }
 },
 "nbformat": 4,
 "nbformat_minor": 5
}
