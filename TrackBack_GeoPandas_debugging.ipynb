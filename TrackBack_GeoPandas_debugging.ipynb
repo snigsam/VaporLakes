{
 "cells": [
  {
   "cell_type": "code",
   "execution_count": 1,
   "id": "structural-committee",
   "metadata": {},
   "outputs": [
    {
     "name": "stdout",
     "output_type": "stream",
     "text": [
      "Fri Jun 11 10:56:25 MDT 2021\n"
     ]
    }
   ],
   "source": [
    "!date"
   ]
  },
  {
   "cell_type": "markdown",
   "id": "spectacular-polls",
   "metadata": {},
   "source": [
    "# Backward time loop to track coast-crossing vapor lakes (CCVLs)\n",
    "### using Geopandas methods from Geopandas_overlaps.ipynb"
   ]
  },
  {
   "cell_type": "markdown",
   "id": "occupied-error",
   "metadata": {},
   "source": [
    "------------\n"
   ]
  },
  {
   "cell_type": "markdown",
   "id": "fancy-maryland",
   "metadata": {},
   "source": [
    "## each new assigned CCVL creates a folder called `tag/` \n",
    "\n",
    "### tag format is `yyyymmddhh_at_coast.meanlat`\n",
    "\n",
    "where meanlat is the mean latitude of the overlap with a coastline or (simplest case) meridian. It contains a shapefile (with a time series of multipolygons), and perhaps the data columns only (much smaller, just the stats, for aggregating as a meta-dataset). "
   ]
  },
  {
   "cell_type": "code",
   "execution_count": 2,
   "id": "1e5fddf2-ed30-4e2b-9a0a-d52ae75ced24",
   "metadata": {},
   "outputs": [],
   "source": [
    "from shapely import geometry\n",
    "import matplotlib.pyplot as plt\n",
    "from matplotlib import cm\n",
    "import numpy as np\n",
    "import fiona             # a read-write library for shapefiles\n",
    "import os         \n",
    "#from descartes.patch import PolygonPatch\n",
    "\n",
    "from glob import glob\n",
    "import xarray as xr\n",
    "#import dask.array as da\n",
    "\n",
    "import pandas as pd\n",
    "import geopandas as gp\n",
    "from datetime import datetime"
   ]
  },
  {
   "cell_type": "markdown",
   "id": "9b915fec-e721-4896-a825-41a4e62812ad",
   "metadata": {},
   "source": [
    "# A function to return a GeoDataFrame of polygons "
   ]
  },
  {
   "cell_type": "code",
   "execution_count": 99,
   "id": "6c0eb40c-a10d-424e-aaee-09cb7531c9fb",
   "metadata": {},
   "outputs": [],
   "source": [
    "# loop over contour collections (and polygons in each collection)\n",
    "# store in polylist  \n",
    "def gdf_from_contours(lon,lat,tqv,conlevel):\n",
    "    \n",
    "    levels = [conlevel, 9e9]\n",
    "    cs = plt.contourf(lon,lat,tqv,levels)\n",
    "# create lookup table for levels\n",
    "    lvl_lookup = dict(zip(cs.collections, cs.levels))\n",
    "    \n",
    "    zvalues, polylist  = [], []\n",
    "#    i=0\n",
    "    for col in cs.collections:\n",
    "        z=lvl_lookup[col] # the value of this level\n",
    "        for contour_path in col.get_paths():\n",
    "#        print('contour path: ',i); i = i+1\n",
    "        # create the polygon for this level\n",
    "            for ncp,cp in enumerate(contour_path.to_polygons()):\n",
    "#            print('   ncp: ', ncp)\n",
    "                lons = np.array(cp)[:,0]\n",
    "                lats = np.array(cp)[:,1]\n",
    "                new_shape = geometry.Polygon([(i[0], i[1]) for i in zip(lons,lats)])            \n",
    "                if ncp == 0:\n",
    "                    poly = new_shape # first shape\n",
    "                else:\n",
    "                    poly = poly.difference(new_shape) # Remove the holes\n",
    "\n",
    "            polylist.append(poly)\n",
    "            zvalues.append(z)\n",
    "        \n",
    "        gdf = gp.GeoDataFrame(geometry=polylist)\n",
    "        gdf['tqv_values']=zvalues\n",
    "        gdf['area']=gdf.area\n",
    "        gdf['maxlon']=gdf.bounds.maxx\n",
    "        return(gdf)"
   ]
  },
  {
   "cell_type": "code",
   "execution_count": 205,
   "id": "92b5ddc1-3acd-4ea2-994c-e32edfff557d",
   "metadata": {},
   "outputs": [
    {
     "data": {
      "text/plain": [
       "<AxesSubplot:>"
      ]
     },
     "execution_count": 205,
     "metadata": {},
     "output_type": "execute_result"
    },
    {
     "data": {
      "image/png": "[encoded data removed]",
      "text/plain": [
       "<Figure size 432x288 with 1 Axes>"
      ]
     },
     "metadata": {
      "needs_background": "light"
     },
     "output_type": "display_data"
    }
   ],
   "source": [
    "gdf_litt = gp.read_file('Africa_Ecoast_20NS.geojson')\n",
    "gdf_litt.plot()"
   ]
  },
  {
   "cell_type": "markdown",
   "id": "f62998ef-fc6e-430e-9025-38adb6316df9",
   "metadata": {},
   "source": [
    "------------\n",
    "\n",
    "# Open the virtual (time series) dataset in xarray"
   ]
  },
  {
   "cell_type": "code",
   "execution_count": 206,
   "id": "b0e940e2-800c-46c1-8c38-5537299b6ae1",
   "metadata": {},
   "outputs": [],
   "source": [
    "files = glob('MERRA2*.nc') #+glob('*2015*')+glob('*2016*')+glob('*2017*')+glob('*2018*') # selecting 2014-2018\n",
    "cwv_data = xr.open_mfdataset(files) # merging data files in one\n",
    "cwv_WEIO = cwv_data.sel(lat=slice(-30,30),lon=slice(30,90))"
   ]
  },
  {
   "cell_type": "markdown",
   "id": "475a9741-87cc-4f2a-a3d7-190ef8c353ff",
   "metadata": {},
   "source": [
    "# To initialize the cycle, process the last-most time (index -1) to a gdf"
   ]
  },
  {
   "cell_type": "code",
   "execution_count": 210,
   "id": "eaa49b95-fdaf-458d-bdb6-40244fee5e76",
   "metadata": {},
   "outputs": [
    {
     "data": {
      "image/png": "[encoded data removed]",
      "text/plain": [
       "<Figure size 432x288 with 1 Axes>"
      ]
     },
     "metadata": {
      "needs_background": "light"
     },
     "output_type": "display_data"
    }
   ],
   "source": [
    "ccvls_stats = [] # empty, to collect the stats of ccvls\n",
    "\n",
    "# dest means destined, the future time level in a reverse time loop\n",
    "# Initially, it is the -1 element of the data, and we need a first coast-overlap test\n",
    "gdf_dest = gdf_from_contours(cwv_WEIO.lon,cwv_WEIO.lat,cwv_WEIO.TQV[-1],55.)"
   ]
  },
  {
   "cell_type": "markdown",
   "id": "0cca5544-a8f3-4593-8332-6ba5f9f664b1",
   "metadata": {},
   "source": [
    "# Make gdf_ccvls containing only the coast-overlappers"
   ]
  },
  {
   "cell_type": "code",
   "execution_count": 213,
   "id": "2ba6f5fb-5eb2-4a6c-8676-cc45bcec2c44",
   "metadata": {},
   "outputs": [],
   "source": [
    "i_litt, i_dest = gdf_dest.sindex.query_bulk(gdf_litt.geometry, predicate='overlaps') \n",
    "# i_litt, i_dest # littoral is in 0,3 since there are 4 polygons in the littoral gdf"
   ]
  },
  {
   "cell_type": "code",
   "execution_count": 214,
   "id": "13b27e81-5cd4-4214-bd6f-a478d861cd22",
   "metadata": {},
   "outputs": [],
   "source": [
    "# XXXXXX DELETE ME FOr debug challenge, suppose i_dest = [2,3] with two elements\n",
    "i_dest = [2,3,6]"
   ]
  },
  {
   "cell_type": "code",
   "execution_count": 233,
   "id": "3096ce67-3e2b-4582-97ef-a8018e3d9751",
   "metadata": {},
   "outputs": [
    {
     "data": {
      "text/html": [
       "<div>\n",
       "<style scoped>\n",
       "    .dataframe tbody tr th:only-of-type {\n",
       "        vertical-align: middle;\n",
       "    }\n",
       "\n",
       "    .dataframe tbody tr th {\n",
       "        vertical-align: top;\n",
       "    }\n",
       "\n",
       "    .dataframe thead th {\n",
       "        text-align: right;\n",
       "    }\n",
       "</style>\n",
       "<table border=\"1\" class=\"dataframe\">\n",
       "  <thead>\n",
       "    <tr style=\"text-align: right;\">\n",
       "      <th></th>\n",
       "      <th>geometry</th>\n",
       "      <th>tqv_values</th>\n",
       "      <th>area</th>\n",
       "      <th>maxlon</th>\n",
       "    </tr>\n",
       "  </thead>\n",
       "  <tbody>\n",
       "    <tr>\n",
       "      <th>0</th>\n",
       "      <td>POLYGON ((53.75000 -8.70070, 54.22038 -8.50000...</td>\n",
       "      <td>55.0</td>\n",
       "      <td>14.351828</td>\n",
       "      <td>54.518603</td>\n",
       "    </tr>\n",
       "    <tr>\n",
       "      <th>1</th>\n",
       "      <td>POLYGON ((59.37500 -7.72917, 59.70920 -7.50000...</td>\n",
       "      <td>55.0</td>\n",
       "      <td>10.741246</td>\n",
       "      <td>65.496707</td>\n",
       "    </tr>\n",
       "    <tr>\n",
       "      <th>2</th>\n",
       "      <td>POLYGON ((64.37500 -3.14660, 64.93152 -3.00000...</td>\n",
       "      <td>55.0</td>\n",
       "      <td>0.105836</td>\n",
       "      <td>64.931522</td>\n",
       "    </tr>\n",
       "  </tbody>\n",
       "</table>\n",
       "</div>"
      ],
      "text/plain": [
       "                                            geometry  tqv_values       area  \\\n",
       "0  POLYGON ((53.75000 -8.70070, 54.22038 -8.50000...        55.0  14.351828   \n",
       "1  POLYGON ((59.37500 -7.72917, 59.70920 -7.50000...        55.0  10.741246   \n",
       "2  POLYGON ((64.37500 -3.14660, 64.93152 -3.00000...        55.0   0.105836   \n",
       "\n",
       "      maxlon  \n",
       "0  54.518603  \n",
       "1  65.496707  \n",
       "2  64.931522  "
      ]
     },
     "execution_count": 233,
     "metadata": {},
     "output_type": "execute_result"
    }
   ],
   "source": [
    "# ccvls is a SUBSET: I only care about the ones that touch the coast\n",
    "gdf_ccvls = gdf_dest.loc[i_dest]\n",
    "\n",
    "# Must re-index in order for .loc[] to work later in overlap tests \n",
    "gdf_ccvls.index = range( len(gdf_ccvls.index) )\n",
    "gdf_ccvls  "
   ]
  },
  {
   "cell_type": "markdown",
   "id": "1281c045-69fc-4dae-8c75-036bc87cba2d",
   "metadata": {},
   "source": [
    "# Add data columns: time [-1], and tag (string with meanlat)\n",
    "## tag is useful as a filename, and maybe as the name of a ccvl's gdf "
   ]
  },
  {
   "cell_type": "code",
   "execution_count": 806,
   "id": "d869972f-9524-47d5-b20e-ff3779679301",
   "metadata": {},
   "outputs": [
    {
     "data": {
      "text/html": [
       "<div>\n",
       "<style scoped>\n",
       "    .dataframe tbody tr th:only-of-type {\n",
       "        vertical-align: middle;\n",
       "    }\n",
       "\n",
       "    .dataframe tbody tr th {\n",
       "        vertical-align: top;\n",
       "    }\n",
       "\n",
       "    .dataframe thead th {\n",
       "        text-align: right;\n",
       "    }\n",
       "</style>\n",
       "<table border=\"1\" class=\"dataframe\">\n",
       "  <thead>\n",
       "    <tr style=\"text-align: right;\">\n",
       "      <th></th>\n",
       "      <th>geometry</th>\n",
       "      <th>tqv_values</th>\n",
       "      <th>area</th>\n",
       "      <th>maxlon</th>\n",
       "      <th>tag</th>\n",
       "      <th>time</th>\n",
       "    </tr>\n",
       "  </thead>\n",
       "  <tbody>\n",
       "    <tr>\n",
       "      <th>0</th>\n",
       "      <td>POLYGON ((53.75000 -8.72341, 54.37500 -8.97518...</td>\n",
       "      <td>55.0</td>\n",
       "      <td>16.212948</td>\n",
       "      <td>54.672109</td>\n",
       "      <td>2014_05_15_23_lat5p439S</td>\n",
       "      <td>2014-05-15 23:00:00</td>\n",
       "    </tr>\n",
       "    <tr>\n",
       "      <th>1</th>\n",
       "      <td>POLYGON ((59.37500 -8.00691, 59.38292 -8.00000...</td>\n",
       "      <td>55.0</td>\n",
       "      <td>13.001484</td>\n",
       "      <td>66.236093</td>\n",
       "      <td>2014_05_15_23_lat5p423S</td>\n",
       "      <td>2014-05-15 23:00:00</td>\n",
       "    </tr>\n",
       "    <tr>\n",
       "      <th>2</th>\n",
       "      <td>POLYGON ((64.37500 -3.14717, 65.00000 -3.12123...</td>\n",
       "      <td>55.0</td>\n",
       "      <td>0.331279</td>\n",
       "      <td>65.138163</td>\n",
       "      <td>2014_05_15_23_lat2p883S</td>\n",
       "      <td>2014-05-15 23:00:00</td>\n",
       "    </tr>\n",
       "    <tr>\n",
       "      <th>3</th>\n",
       "      <td>POLYGON ((68.12500 1.30362, 68.24070 1.50000, ...</td>\n",
       "      <td>55.0</td>\n",
       "      <td>3.733042</td>\n",
       "      <td>68.458301</td>\n",
       "      <td>2014_05_15_23_lat2p394N</td>\n",
       "      <td>2014-05-15 23:00:00</td>\n",
       "    </tr>\n",
       "    <tr>\n",
       "      <th>4</th>\n",
       "      <td>POLYGON ((31.25000 3.49991, 31.25013 3.50000, ...</td>\n",
       "      <td>55.0</td>\n",
       "      <td>0.011183</td>\n",
       "      <td>31.259966</td>\n",
       "      <td>2014_05_15_23_lat3p835N</td>\n",
       "      <td>2014-05-15 23:00:00</td>\n",
       "    </tr>\n",
       "    <tr>\n",
       "      <th>5</th>\n",
       "      <td>POLYGON ((68.12500 1.30362, 68.24070 1.50000, ...</td>\n",
       "      <td>55.0</td>\n",
       "      <td>3.733042</td>\n",
       "      <td>68.458301</td>\n",
       "      <td>2014_05_15_23_lat2p394N</td>\n",
       "      <td>2014-05-15 23:00:00</td>\n",
       "    </tr>\n",
       "    <tr>\n",
       "      <th>6</th>\n",
       "      <td>POLYGON ((31.25000 3.49991, 31.25013 3.50000, ...</td>\n",
       "      <td>55.0</td>\n",
       "      <td>0.011183</td>\n",
       "      <td>31.259966</td>\n",
       "      <td>2014_05_15_23_lat3p835N</td>\n",
       "      <td>2014-05-15 23:00:00</td>\n",
       "    </tr>\n",
       "    <tr>\n",
       "      <th>7</th>\n",
       "      <td>POLYGON ((68.12500 1.30362, 68.24070 1.50000, ...</td>\n",
       "      <td>55.0</td>\n",
       "      <td>3.733042</td>\n",
       "      <td>68.458301</td>\n",
       "      <td>2014_05_15_23_lat2p394N</td>\n",
       "      <td>2014-05-15 23:00:00</td>\n",
       "    </tr>\n",
       "    <tr>\n",
       "      <th>8</th>\n",
       "      <td>POLYGON ((31.25000 3.49991, 31.25013 3.50000, ...</td>\n",
       "      <td>55.0</td>\n",
       "      <td>0.011183</td>\n",
       "      <td>31.259966</td>\n",
       "      <td>2014_05_15_23_lat3p835N</td>\n",
       "      <td>2014-05-15 23:00:00</td>\n",
       "    </tr>\n",
       "  </tbody>\n",
       "</table>\n",
       "</div>"
      ],
      "text/plain": [
       "                                            geometry  tqv_values       area  \\\n",
       "0  POLYGON ((53.75000 -8.72341, 54.37500 -8.97518...        55.0  16.212948   \n",
       "1  POLYGON ((59.37500 -8.00691, 59.38292 -8.00000...        55.0  13.001484   \n",
       "2  POLYGON ((64.37500 -3.14717, 65.00000 -3.12123...        55.0   0.331279   \n",
       "3  POLYGON ((68.12500 1.30362, 68.24070 1.50000, ...        55.0   3.733042   \n",
       "4  POLYGON ((31.25000 3.49991, 31.25013 3.50000, ...        55.0   0.011183   \n",
       "5  POLYGON ((68.12500 1.30362, 68.24070 1.50000, ...        55.0   3.733042   \n",
       "6  POLYGON ((31.25000 3.49991, 31.25013 3.50000, ...        55.0   0.011183   \n",
       "7  POLYGON ((68.12500 1.30362, 68.24070 1.50000, ...        55.0   3.733042   \n",
       "8  POLYGON ((31.25000 3.49991, 31.25013 3.50000, ...        55.0   0.011183   \n",
       "\n",
       "      maxlon                      tag                time  \n",
       "0  54.672109  2014_05_15_23_lat5p439S 2014-05-15 23:00:00  \n",
       "1  66.236093  2014_05_15_23_lat5p423S 2014-05-15 23:00:00  \n",
       "2  65.138163  2014_05_15_23_lat2p883S 2014-05-15 23:00:00  \n",
       "3  68.458301  2014_05_15_23_lat2p394N 2014-05-15 23:00:00  \n",
       "4  31.259966  2014_05_15_23_lat3p835N 2014-05-15 23:00:00  \n",
       "5  68.458301  2014_05_15_23_lat2p394N 2014-05-15 23:00:00  \n",
       "6  31.259966  2014_05_15_23_lat3p835N 2014-05-15 23:00:00  \n",
       "7  68.458301  2014_05_15_23_lat2p394N 2014-05-15 23:00:00  \n",
       "8  31.259966  2014_05_15_23_lat3p835N 2014-05-15 23:00:00  "
      ]
     },
     "execution_count": 806,
     "metadata": {},
     "output_type": "execute_result"
    }
   ],
   "source": [
    "# Because a geometry may be tied to more then one CCVL, \n",
    "# I need the tags column of gdf_ccvls to be a *list* of strings, not a string. \n",
    "# So to assign it, I need a *list of lists* of strings to set it equal to.\n",
    "# UPDATE: no need for this, overlap just makes duplicate of either the tag or the geometry\n",
    "\n",
    "# time as numpy datetime object\n",
    "yyyymmddhh = cwv_WEIO.time[-1].values\n",
    "gdf_ccvls['time'] = yyyymmddhh \n",
    "\n",
    "# time as a string (have to parse through pandas, UGH!)\n",
    "timestring = pd.to_datetime(str(yyyymmddhh)).strftime('%Y_%m_%d_%H')\n",
    "\n",
    "# mean latitude as a string with N/S rather than dash for sign\n",
    "centlats = gdf_ccvls.geometry.centroid.y\n",
    "NS = ['N','S']\n",
    "\n",
    "# list of `tag` strings with no - nor . characters, ready to add as a new data column\n",
    "ccvltag = [  timestring+'_lat'+ str(abs(centlats[i]))[:5]   for i in range(len(centlats)) ] \n",
    "ccvltag = [ ccvltag[i] + NS[ int(centlats[i]<0) ]   for i in range(len(centlats)) ] \n",
    "ccvltag = [ ccvltag[i].replace('.','p') for i in range(len(ccvltag)) ]\n",
    "\n",
    "gdf_ccvls['tag'] = ccvltag\n",
    "gdf_ccvls"
   ]
  },
  {
   "cell_type": "code",
   "execution_count": 811,
   "id": "ac6606c7-c723-4a43-8a6b-4313292aab26",
   "metadata": {},
   "outputs": [
    {
     "data": {
      "text/plain": [
       "<AxesSubplot:>"
      ]
     },
     "execution_count": 811,
     "metadata": {},
     "output_type": "execute_result"
    },
    {
     "data": {
      "image/png": "[encoded data removed]",
      "text/plain": [
       "<Figure size 432x288 with 1 Axes>"
      ]
     },
     "metadata": {
      "needs_background": "light"
     },
     "output_type": "display_data"
    }
   ],
   "source": []
  },
  {
   "cell_type": "code",
   "execution_count": 802,
   "id": "55d662b0-e484-4bd7-ad01-78450b82ba45",
   "metadata": {},
   "outputs": [
    {
     "data": {
      "text/plain": [
       "numpy.datetime64('1900-01-01')"
      ]
     },
     "execution_count": 802,
     "metadata": {},
     "output_type": "execute_result"
    }
   ],
   "source": [
    "np.datetime64('1900-01-01')"
   ]
  },
  {
   "cell_type": "code",
   "execution_count": 804,
   "id": "c15693f4-205f-4735-9350-e61859aaa254",
   "metadata": {},
   "outputs": [
    {
     "data": {
      "text/plain": [
       "3.6091836e+18"
      ]
     },
     "execution_count": 804,
     "metadata": {},
     "output_type": "execute_result"
    }
   ],
   "source": [
    "float(yyyymmddhh - np.datetime64('1900-01-01'))"
   ]
  },
  {
   "cell_type": "markdown",
   "id": "b50c7494-2f69-4f1e-ae62-07ef8cdb1e89",
   "metadata": {},
   "source": [
    "# Initialize a GDF for each CCVL\n",
    "### so that shapes at other times can be appended, within the time loop "
   ]
  },
  {
   "cell_type": "code",
   "execution_count": 515,
   "id": "57cf612b-127a-4fe1-9c04-926e3142bad2",
   "metadata": {},
   "outputs": [],
   "source": [
    "# Clever trick exec() so the tag can be used as a variable name\n",
    "## HUGE HEADACHE with append(), have to subset using two-index method to make it work\n",
    "# ccvl_2014_05_15_23_lat5p382S = gdf_ccvls.iloc[0:1]\n",
    "#    ready for ccvl_2014_05_15_23_lat5p382S.append(ccvl_2014_05_15_23_lat5p577S)\n",
    "#    del(variable) is how you remove it from memory\n",
    "\n",
    "for i in range(len(gdf_ccvls)):\n",
    "    command = 'ccvl_' + gdf_ccvls.iloc[i].tag + ' = gdf_ccvls.iloc[' +str(i)+':'+str(i+1)+']'\n",
    "    #print(command)\n",
    "    exec(command) # creates new gdf for each tag, ready to append "
   ]
  },
  {
   "cell_type": "markdown",
   "id": "enormous-burlington",
   "metadata": {},
   "source": [
    "----------\n",
    "# Time loop over hours, backward in time\n"
   ]
  },
  {
   "cell_type": "code",
   "execution_count": 225,
   "id": "861e47da-91fb-49ea-9d8d-b0229b0d35e6",
   "metadata": {},
   "outputs": [],
   "source": [
    "for i in range( len(cwv_WEIO.time)-2 ):\n",
    "    iback = -(i+2)\n",
    "    # print('time level is ', iback) confirms this goes -2, -3, -4, ... \n",
    "\n",
    "    \n",
    "    iback = -2 # for testing; remove to free up the loop \n"
   ]
  },
  {
   "cell_type": "markdown",
   "id": "e5695df7-4036-40fc-a6ac-fecfb6b3898c",
   "metadata": {},
   "source": [
    "# Discussion of backward time loop action steps \n",
    "We need to be \n",
    "\n",
    "1. Checking the overlap of *new* and *ccvl* shapes\n",
    "1. Transferring CCVL tag to any (all) overlapper shapes, discarding non-overlappers\n",
    "1. Appending all non-megalake overlappers to a GDF for each CCVL, ready to write out\n",
    "1. Testing for CCVL birth (present in dest, absent in now). Write terminated CCVLs as .geojson, and append their duration, areatime, bounds and other stats to a big Pandas df meta-index of all CCVLs\n",
    "1. Find new coast-crossers now, spawn as new CCVLs IFF they don't exist yet\n",
    "1. Transfer gdf_ccvls_now to gdf_ccvls for next iteration\n",
    "\n",
    "One tricky question is where and how to build up a GDF for each CCVL. Sub-questions include how to spawn & name these CCVL GDFs, how to append, and how to retire them after writeout for memory savings. "
   ]
  },
  {
   "cell_type": "markdown",
   "id": "30b52e99-f04d-42e1-9691-99f5fd107d77",
   "metadata": {},
   "source": [
    "## Step 1 in loop: check overlap of CCVLs and now-shapes"
   ]
  },
  {
   "cell_type": "code",
   "execution_count": 415,
   "id": "37aa2994-f8ea-4792-a193-0014d349478a",
   "metadata": {},
   "outputs": [
    {
     "data": {
      "text/plain": [
       "numpy.datetime64('2014-05-15T22:00:00.000000000')"
      ]
     },
     "execution_count": 415,
     "metadata": {},
     "output_type": "execute_result"
    },
    {
     "data": {
      "image/png": "[encoded data removed]",
      "text/plain": [
       "<Figure size 432x288 with 1 Axes>"
      ]
     },
     "metadata": {
      "needs_background": "light"
     },
     "output_type": "display_data"
    }
   ],
   "source": [
    "    gdf_now = gdf_from_contours(cwv_WEIO.lon,cwv_WEIO.lat,cwv_WEIO.TQV[iback],55.)\n",
    "    cwv_WEIO.time[iback].values # print now time, for debugging"
   ]
  },
  {
   "cell_type": "markdown",
   "id": "32310df6-3053-4d11-af6a-aa07b7626aa5",
   "metadata": {},
   "source": [
    "### Step 1 basic plots for debugging: red is now, blue is dest"
   ]
  },
  {
   "cell_type": "code",
   "execution_count": 416,
   "id": "9df84c85-99fa-4e22-937b-3790f9091756",
   "metadata": {
    "tags": []
   },
   "outputs": [
    {
     "data": {
      "text/plain": [
       "<AxesSubplot:>"
      ]
     },
     "execution_count": 416,
     "metadata": {},
     "output_type": "execute_result"
    },
    {
     "data": {
      "image/png": "[encoded data removed]",
      "text/plain": [
       "<Figure size 432x288 with 1 Axes>"
      ]
     },
     "metadata": {
      "needs_background": "light"
     },
     "output_type": "display_data"
    }
   ],
   "source": [
    "    #https://geopandas.org/docs/user_guide/mapping.html\n",
    "    fig, ax = plt.subplots()\n",
    "    ax.set_aspect('equal')\n",
    "    ax.set_xlim(30, 93)\n",
    "    ax.set_ylim(-20,20)\n",
    "\n",
    "    gdf_dest.plot(ax=ax,color='blue', edgecolor='black')\n",
    "    gdf_now.boundary.plot(ax=ax, color='red')\n",
    "    gdf_litt.plot(ax=ax, color='green')\n",
    "\n",
    "    path = gp.datasets.get_path('naturalearth_lowres')\n",
    "    mapdf = gp.read_file(path)\n",
    "    mapdf.plot(ax=ax)"
   ]
  },
  {
   "cell_type": "markdown",
   "id": "8097e1d3-fa18-4304-a876-9f53da2f0ba1",
   "metadata": {},
   "source": [
    "### Still step 1: find overlaps"
   ]
  },
  {
   "cell_type": "code",
   "execution_count": 417,
   "id": "b1c3418d-402c-4583-a347-be92af875a91",
   "metadata": {},
   "outputs": [
    {
     "data": {
      "text/plain": [
       "(array([0, 1, 2]), array([2, 3, 6]))"
      ]
     },
     "execution_count": 417,
     "metadata": {},
     "output_type": "execute_result"
    }
   ],
   "source": [
    "    i_ccvls, i_now = gdf_now[(gdf_now.area>0)].sindex.query_bulk(gdf_ccvls.geometry, predicate='overlaps') # index numbers of overlaps\n",
    "    i_ccvls, i_now"
   ]
  },
  {
   "cell_type": "code",
   "execution_count": 418,
   "id": "3c8d8ccc-8a7c-4202-8f5d-4cffb2ed2a6b",
   "metadata": {
    "tags": []
   },
   "outputs": [
    {
     "data": {
      "text/html": [
       "<div>\n",
       "<style scoped>\n",
       "    .dataframe tbody tr th:only-of-type {\n",
       "        vertical-align: middle;\n",
       "    }\n",
       "\n",
       "    .dataframe tbody tr th {\n",
       "        vertical-align: top;\n",
       "    }\n",
       "\n",
       "    .dataframe thead th {\n",
       "        text-align: right;\n",
       "    }\n",
       "</style>\n",
       "<table border=\"1\" class=\"dataframe\">\n",
       "  <thead>\n",
       "    <tr style=\"text-align: right;\">\n",
       "      <th></th>\n",
       "      <th>geometry</th>\n",
       "      <th>tqv_values</th>\n",
       "      <th>area</th>\n",
       "      <th>maxlon</th>\n",
       "    </tr>\n",
       "  </thead>\n",
       "  <tbody>\n",
       "    <tr>\n",
       "      <th>2</th>\n",
       "      <td>POLYGON ((53.75000 -8.72341, 54.37500 -8.97518...</td>\n",
       "      <td>55.0</td>\n",
       "      <td>16.212948</td>\n",
       "      <td>54.672109</td>\n",
       "    </tr>\n",
       "    <tr>\n",
       "      <th>3</th>\n",
       "      <td>POLYGON ((59.37500 -8.00691, 59.38292 -8.00000...</td>\n",
       "      <td>55.0</td>\n",
       "      <td>13.001484</td>\n",
       "      <td>66.236093</td>\n",
       "    </tr>\n",
       "    <tr>\n",
       "      <th>6</th>\n",
       "      <td>POLYGON ((64.37500 -3.14717, 65.00000 -3.12123...</td>\n",
       "      <td>55.0</td>\n",
       "      <td>0.331279</td>\n",
       "      <td>65.138163</td>\n",
       "    </tr>\n",
       "  </tbody>\n",
       "</table>\n",
       "</div>"
      ],
      "text/plain": [
       "                                            geometry  tqv_values       area  \\\n",
       "2  POLYGON ((53.75000 -8.72341, 54.37500 -8.97518...        55.0  16.212948   \n",
       "3  POLYGON ((59.37500 -8.00691, 59.38292 -8.00000...        55.0  13.001484   \n",
       "6  POLYGON ((64.37500 -3.14717, 65.00000 -3.12123...        55.0   0.331279   \n",
       "\n",
       "      maxlon  \n",
       "2  54.672109  \n",
       "3  66.236093  \n",
       "6  65.138163  "
      ]
     },
     "execution_count": 418,
     "metadata": {},
     "output_type": "execute_result"
    }
   ],
   "source": [
    "    gdf_now.loc[i_now] # debug"
   ]
  },
  {
   "cell_type": "code",
   "execution_count": 512,
   "id": "2371a5f5-6128-4bed-99a9-39dde55a024f",
   "metadata": {},
   "outputs": [
    {
     "data": {
      "text/html": [
       "<div>\n",
       "<style scoped>\n",
       "    .dataframe tbody tr th:only-of-type {\n",
       "        vertical-align: middle;\n",
       "    }\n",
       "\n",
       "    .dataframe tbody tr th {\n",
       "        vertical-align: top;\n",
       "    }\n",
       "\n",
       "    .dataframe thead th {\n",
       "        text-align: right;\n",
       "    }\n",
       "</style>\n",
       "<table border=\"1\" class=\"dataframe\">\n",
       "  <thead>\n",
       "    <tr style=\"text-align: right;\">\n",
       "      <th></th>\n",
       "      <th>geometry</th>\n",
       "      <th>tqv_values</th>\n",
       "      <th>area</th>\n",
       "      <th>maxlon</th>\n",
       "      <th>time</th>\n",
       "      <th>tag</th>\n",
       "    </tr>\n",
       "  </thead>\n",
       "  <tbody>\n",
       "    <tr>\n",
       "      <th>0</th>\n",
       "      <td>POLYGON ((53.75000 -8.70070, 54.22038 -8.50000...</td>\n",
       "      <td>55.0</td>\n",
       "      <td>14.351828</td>\n",
       "      <td>54.518603</td>\n",
       "      <td>2014-05-15 23:00:00</td>\n",
       "      <td>2014_05_15_23_lat5p382S</td>\n",
       "    </tr>\n",
       "    <tr>\n",
       "      <th>0</th>\n",
       "      <td>POLYGON ((53.75000 -8.70070, 54.22038 -8.50000...</td>\n",
       "      <td>55.0</td>\n",
       "      <td>14.351828</td>\n",
       "      <td>54.518603</td>\n",
       "      <td>2014-05-15 23:00:00</td>\n",
       "      <td>2014_05_15_23_lat5p382S</td>\n",
       "    </tr>\n",
       "    <tr>\n",
       "      <th>0</th>\n",
       "      <td>POLYGON ((53.75000 -8.70070, 54.22038 -8.50000...</td>\n",
       "      <td>55.0</td>\n",
       "      <td>14.351828</td>\n",
       "      <td>54.518603</td>\n",
       "      <td>2014-05-15 23:00:00</td>\n",
       "      <td>2014_05_15_23_lat5p382S</td>\n",
       "    </tr>\n",
       "  </tbody>\n",
       "</table>\n",
       "</div>"
      ],
      "text/plain": [
       "                                            geometry  tqv_values       area  \\\n",
       "0  POLYGON ((53.75000 -8.70070, 54.22038 -8.50000...        55.0  14.351828   \n",
       "0  POLYGON ((53.75000 -8.70070, 54.22038 -8.50000...        55.0  14.351828   \n",
       "0  POLYGON ((53.75000 -8.70070, 54.22038 -8.50000...        55.0  14.351828   \n",
       "\n",
       "      maxlon                time                      tag  \n",
       "0  54.518603 2014-05-15 23:00:00  2014_05_15_23_lat5p382S  \n",
       "0  54.518603 2014-05-15 23:00:00  2014_05_15_23_lat5p382S  \n",
       "0  54.518603 2014-05-15 23:00:00  2014_05_15_23_lat5p382S  "
      ]
     },
     "execution_count": 512,
     "metadata": {},
     "output_type": "execute_result"
    }
   ],
   "source": [
    "    gdf_ccvls.loc[i_ccvls] # debug"
   ]
  },
  {
   "cell_type": "markdown",
   "id": "3846070e-804f-4aa9-be87-5e76daf8eb46",
   "metadata": {},
   "source": [
    "## Step 2 in loop: copy overlappers into gdf_ccvls_now, copy tag, add time "
   ]
  },
  {
   "cell_type": "code",
   "execution_count": 790,
   "id": "1431588b-b257-465d-aa5a-cc46f7a24203",
   "metadata": {},
   "outputs": [
    {
     "data": {
      "text/html": [
       "<div>\n",
       "<style scoped>\n",
       "    .dataframe tbody tr th:only-of-type {\n",
       "        vertical-align: middle;\n",
       "    }\n",
       "\n",
       "    .dataframe tbody tr th {\n",
       "        vertical-align: top;\n",
       "    }\n",
       "\n",
       "    .dataframe thead th {\n",
       "        text-align: right;\n",
       "    }\n",
       "</style>\n",
       "<table border=\"1\" class=\"dataframe\">\n",
       "  <thead>\n",
       "    <tr style=\"text-align: right;\">\n",
       "      <th></th>\n",
       "      <th>geometry</th>\n",
       "      <th>tqv_values</th>\n",
       "      <th>area</th>\n",
       "      <th>maxlon</th>\n",
       "      <th>tag</th>\n",
       "      <th>time</th>\n",
       "    </tr>\n",
       "  </thead>\n",
       "  <tbody>\n",
       "    <tr>\n",
       "      <th>11</th>\n",
       "      <td>POLYGON ((73.75000 4.35056, 74.36850 4.50000, ...</td>\n",
       "      <td>55.0</td>\n",
       "      <td>0.419593</td>\n",
       "      <td>74.368501</td>\n",
       "      <td>2014_05_15_23_lat5p382S</td>\n",
       "      <td>2014-05-15 22:00:00</td>\n",
       "    </tr>\n",
       "    <tr>\n",
       "      <th>12</th>\n",
       "      <td>POLYGON ((48.75000 5.82258, 49.37500 5.68906, ...</td>\n",
       "      <td>55.0</td>\n",
       "      <td>4.084929</td>\n",
       "      <td>51.459448</td>\n",
       "      <td>2014_05_15_23_lat5p382S</td>\n",
       "      <td>2014-05-15 22:00:00</td>\n",
       "    </tr>\n",
       "    <tr>\n",
       "      <th>13</th>\n",
       "      <td>POLYGON ((79.37500 9.29312, 79.61756 9.50000, ...</td>\n",
       "      <td>55.0</td>\n",
       "      <td>0.962592</td>\n",
       "      <td>79.835570</td>\n",
       "      <td>2014_05_15_23_lat5p382S</td>\n",
       "      <td>2014-05-15 22:00:00</td>\n",
       "    </tr>\n",
       "  </tbody>\n",
       "</table>\n",
       "</div>"
      ],
      "text/plain": [
       "                                             geometry  tqv_values      area  \\\n",
       "11  POLYGON ((73.75000 4.35056, 74.36850 4.50000, ...        55.0  0.419593   \n",
       "12  POLYGON ((48.75000 5.82258, 49.37500 5.68906, ...        55.0  4.084929   \n",
       "13  POLYGON ((79.37500 9.29312, 79.61756 9.50000, ...        55.0  0.962592   \n",
       "\n",
       "       maxlon                      tag                time  \n",
       "11  74.368501  2014_05_15_23_lat5p382S 2014-05-15 22:00:00  \n",
       "12  51.459448  2014_05_15_23_lat5p382S 2014-05-15 22:00:00  \n",
       "13  79.835570  2014_05_15_23_lat5p382S 2014-05-15 22:00:00  "
      ]
     },
     "execution_count": 790,
     "metadata": {},
     "output_type": "execute_result"
    }
   ],
   "source": [
    "    # Assign a new gdf: gdf_ccvls_now, all now objects that are part of a ccvl\n",
    "    gdf_ccvls_now = gdf_now.loc[i_now]\n",
    "    \n",
    "    # Port the tags from ccvls to ccvls_now \n",
    "    gdf_ccvls_now['tag'] = gdf_ccvls.iloc[i_ccvls].tag.values\n",
    "    gdf_ccvls_now['time'] = cwv_WEIO.time[iback].values\n",
    "\n",
    "    # Only keep ones that aren't megalake (maxlon < 89)\n",
    "    gdf_ccvls_now = gdf_ccvls_now[gdf_ccvls_now.maxlon<89]\n",
    "    \n",
    "    gdf_ccvls_now"
   ]
  },
  {
   "cell_type": "code",
   "execution_count": null,
   "id": "c1971f3b-9b98-453e-ab4f-9f5ca1f40e63",
   "metadata": {},
   "outputs": [],
   "source": []
  },
  {
   "cell_type": "markdown",
   "id": "aa298946-a892-45ea-a146-7b622a2e9674",
   "metadata": {},
   "source": [
    "## Step 3 in loop: Append all ccvl_now to the existing GDF for each CCVL\n",
    "#### ready to write out as a file. \n",
    "Appending to a copy is probably inefficient, but hey it works "
   ]
  },
  {
   "cell_type": "code",
   "execution_count": 785,
   "id": "c3b372f9-5736-4c63-af49-ae281b7b2cea",
   "metadata": {},
   "outputs": [
    {
     "name": "stdout",
     "output_type": "stream",
     "text": [
      "ccvl_2014_05_15_23_lat5p382S = ccvl_2014_05_15_23_lat5p382S.append(gdf_ccvls_now.iloc[0:1])\n",
      "ccvl_2014_05_15_23_lat5p382S = ccvl_2014_05_15_23_lat5p382S.append(gdf_ccvls_now.iloc[1:2])\n",
      "ccvl_2014_05_15_23_lat5p382S = ccvl_2014_05_15_23_lat5p382S.append(gdf_ccvls_now.iloc[2:3])\n"
     ]
    }
   ],
   "source": [
    "    for i in range(len(gdf_ccvls_now)):\n",
    "        command = 'ccvl_' + gdf_ccvls.iloc[i].tag + ' = ' + \\\n",
    "                  'ccvl_' + gdf_ccvls.iloc[i].tag + \\\n",
    "                  '.append(gdf_ccvls_now.iloc[' +str(i)+':'+str(i+1)+'])'\n",
    "        print(command)\n",
    "        exec(command) # creates new gdf for each tag, ready to append "
   ]
  },
  {
   "cell_type": "markdown",
   "id": "0845d27c-9353-4e5b-83a0-59f8c46271d8",
   "metadata": {},
   "source": [
    "----------------\n",
    "## Step 4: test to terminate tracking of any destined ccvls that don't exist now\n",
    "1. objects in ccvls that have no match now (borns)\n",
    "1. objects now with maxlon>90 (cutoffs from EIO Meghalake) - HANDLED IN STEP2\n"
   ]
  },
  {
   "cell_type": "code",
   "execution_count": 791,
   "id": "060d1b54-f04c-4825-8b4b-9dafa92044e4",
   "metadata": {},
   "outputs": [],
   "source": [
    "## TEST DEBUG to create orphans \n",
    "i_ccvls=[0,0,0] # and then run from Step2 \n",
    "#gdf_ccvls_now\n",
    "# Must re-index in order for .loc[] to work later in overlap tests \n",
    "gdf_ccvls.index = range( len(gdf_ccvls.index) )"
   ]
  },
  {
   "cell_type": "code",
   "execution_count": 792,
   "id": "1653e800-0613-447f-a430-45aaeb39cf7b",
   "metadata": {},
   "outputs": [],
   "source": [
    "        # Find the orphans, write and perhaps delete from memory\n",
    "        orphan_tags = pd.concat( [gdf_ccvls_now.tag, gdf_ccvls.tag] ).drop_duplicates(keep=False)\n",
    "\n",
    "        for i in range(len(orphan_tags)):\n",
    "            # WRITE OUT CCVL\n",
    "            command = 'ccvl_' + str(orphan_tags.iloc[i]) + \\\n",
    "                      '.to_file(\"' + str(orphan_tags.iloc[i]) + \\\n",
    "                      '.geojson\", driver=\"GeoJSON\")'\n",
    "            print('orphan, terminate. command: ', command)\n",
    "            exec(command)\n",
    "            \n",
    "            # GATHER STATS ccvl_stats, APPEND TO GROWING META-INDEX OF CCVLs, use dummy copy\n",
    "            command2 = 'dummy = ccvl_' + str(orphan_tags.iloc[i]) + '.copy()'\n",
    "            print('command2: ', command2)\n",
    "            exec(command2)\n",
    " \n",
    "            #ccvl_stats\n",
    "            areatime = dummy['area'].sum()\n",
    "            maxarea = dummy['area'].max()\n",
    "            duration = dummy['time'].max() - dummy['time'].min()\n",
    "            tqv_values = dummy['tqv_values'].mean()\n",
    "            lasttime = dummy['time'].max()\n",
    "            ccvl_stats = pd.DataFrame(\n",
    "                {\n",
    "                 \"lasttime\": [lasttime],\n",
    "                 \"duration\": [duration],\n",
    "                 \"areatime\": [areatime],\n",
    "                 \"tqv_values\": [tqv_values],\n",
    "                 \"maxarea\": [maxarea]\n",
    "                } )\n",
    "            if(len(ccvls_stats)<1): ccvls_stats = ccvl_stats\n",
    "            else: ccvls_stats = ccvls_stats.append(ccvl_stats)\n",
    "\n",
    "            # DELETE FROM MEMORY in long loops \n",
    "            command3 = 'del(ccvl_' + str(orphan_tags.iloc[i]) + ')'\n",
    "            print('command3: ', command3)\n",
    "            exec(command3)                       "
   ]
  },
  {
   "cell_type": "code",
   "execution_count": 813,
   "id": "1ea5d6ff-6897-4284-a91e-39d2e699a273",
   "metadata": {},
   "outputs": [
    {
     "data": {
      "text/plain": [
       "'dummy = ccvl_geometry      POLYGON ((73.75 4.350563407744337, 74.36850145...\\ntqv_values                                                 55.0\\narea                                                   0.419593\\nmaxlon                                                74.368501\\ntag                                     2014_05_15_23_lat5p382S\\ntime                                        2014-05-15 22:00:00\\nName: 11, dtype: object.copy()'"
      ]
     },
     "execution_count": 813,
     "metadata": {},
     "output_type": "execute_result"
    }
   ],
   "source": [
    "            command = 'dummy = ccvl_' + str(gdf_ccvls_now.iloc[0]) + '.copy()'\n",
    "            command"
   ]
  },
  {
   "cell_type": "code",
   "execution_count": 812,
   "id": "71f15be8-b087-423f-9515-854621bec325",
   "metadata": {},
   "outputs": [
    {
     "ename": "DriverError",
     "evalue": "2014_05_15_23_lat2p998S.geojson: No such file or directory",
     "output_type": "error",
     "traceback": [
      "\u001b[0;31m---------------------------------------------------------------------------\u001b[0m",
      "\u001b[0;31mCPLE_OpenFailedError\u001b[0m                      Traceback (most recent call last)",
      "\u001b[0;32mfiona/_shim.pyx\u001b[0m in \u001b[0;36mfiona._shim.gdal_open_vector\u001b[0;34m()\u001b[0m\n",
      "\u001b[0;32mfiona/_err.pyx\u001b[0m in \u001b[0;36mfiona._err.exc_wrap_pointer\u001b[0;34m()\u001b[0m\n",
      "\u001b[0;31mCPLE_OpenFailedError\u001b[0m: 2014_05_15_23_lat2p998S.geojson: No such file or directory",
      "\nDuring handling of the above exception, another exception occurred:\n",
      "\u001b[0;31mDriverError\u001b[0m                               Traceback (most recent call last)",
      "\u001b[0;32m<ipython-input-812-0b3e04d73642>\u001b[0m in \u001b[0;36m<module>\u001b[0;34m\u001b[0m\n\u001b[1;32m      1\u001b[0m \u001b[0;31m# Test written-out file\u001b[0m\u001b[0;34m\u001b[0m\u001b[0;34m\u001b[0m\u001b[0;34m\u001b[0m\u001b[0m\n\u001b[0;32m----> 2\u001b[0;31m \u001b[0mtgf\u001b[0m \u001b[0;34m=\u001b[0m \u001b[0mgp\u001b[0m\u001b[0;34m.\u001b[0m\u001b[0mread_file\u001b[0m\u001b[0;34m(\u001b[0m\u001b[0;34m\"2014_05_15_23_lat2p998S.geojson\"\u001b[0m\u001b[0;34m)\u001b[0m\u001b[0;34m\u001b[0m\u001b[0;34m\u001b[0m\u001b[0m\n\u001b[0m\u001b[1;32m      3\u001b[0m \u001b[0mtgf\u001b[0m\u001b[0;34m\u001b[0m\u001b[0;34m\u001b[0m\u001b[0m\n\u001b[1;32m      4\u001b[0m \u001b[0mtgf\u001b[0m\u001b[0;34m.\u001b[0m\u001b[0mplot\u001b[0m\u001b[0;34m(\u001b[0m\u001b[0mcolumn\u001b[0m\u001b[0;34m=\u001b[0m\u001b[0;34m'time'\u001b[0m\u001b[0;34m,\u001b[0m \u001b[0malpha\u001b[0m\u001b[0;34m=\u001b[0m\u001b[0;36m0.3\u001b[0m\u001b[0;34m)\u001b[0m\u001b[0;34m\u001b[0m\u001b[0;34m\u001b[0m\u001b[0m\n",
      "\u001b[0;32m/anaconda3/envs/geo_env/lib/python3.9/site-packages/geopandas/io/file.py\u001b[0m in \u001b[0;36m_read_file\u001b[0;34m(filename, bbox, mask, rows, **kwargs)\u001b[0m\n\u001b[1;32m    158\u001b[0m \u001b[0;34m\u001b[0m\u001b[0m\n\u001b[1;32m    159\u001b[0m     \u001b[0;32mwith\u001b[0m \u001b[0mfiona_env\u001b[0m\u001b[0;34m(\u001b[0m\u001b[0;34m)\u001b[0m\u001b[0;34m:\u001b[0m\u001b[0;34m\u001b[0m\u001b[0;34m\u001b[0m\u001b[0m\n\u001b[0;32m--> 160\u001b[0;31m         \u001b[0;32mwith\u001b[0m \u001b[0mreader\u001b[0m\u001b[0;34m(\u001b[0m\u001b[0mpath_or_bytes\u001b[0m\u001b[0;34m,\u001b[0m \u001b[0;34m**\u001b[0m\u001b[0mkwargs\u001b[0m\u001b[0;34m)\u001b[0m \u001b[0;32mas\u001b[0m \u001b[0mfeatures\u001b[0m\u001b[0;34m:\u001b[0m\u001b[0;34m\u001b[0m\u001b[0;34m\u001b[0m\u001b[0m\n\u001b[0m\u001b[1;32m    161\u001b[0m \u001b[0;34m\u001b[0m\u001b[0m\n\u001b[1;32m    162\u001b[0m             \u001b[0;31m# In a future Fiona release the crs attribute of features will\u001b[0m\u001b[0;34m\u001b[0m\u001b[0;34m\u001b[0m\u001b[0;34m\u001b[0m\u001b[0m\n",
      "\u001b[0;32m/anaconda3/envs/geo_env/lib/python3.9/site-packages/fiona/env.py\u001b[0m in \u001b[0;36mwrapper\u001b[0;34m(*args, **kwargs)\u001b[0m\n\u001b[1;32m    406\u001b[0m     \u001b[0;32mdef\u001b[0m \u001b[0mwrapper\u001b[0m\u001b[0;34m(\u001b[0m\u001b[0;34m*\u001b[0m\u001b[0margs\u001b[0m\u001b[0;34m,\u001b[0m \u001b[0;34m**\u001b[0m\u001b[0mkwargs\u001b[0m\u001b[0;34m)\u001b[0m\u001b[0;34m:\u001b[0m\u001b[0;34m\u001b[0m\u001b[0;34m\u001b[0m\u001b[0m\n\u001b[1;32m    407\u001b[0m         \u001b[0;32mif\u001b[0m \u001b[0mlocal\u001b[0m\u001b[0;34m.\u001b[0m\u001b[0m_env\u001b[0m\u001b[0;34m:\u001b[0m\u001b[0;34m\u001b[0m\u001b[0;34m\u001b[0m\u001b[0m\n\u001b[0;32m--> 408\u001b[0;31m             \u001b[0;32mreturn\u001b[0m \u001b[0mf\u001b[0m\u001b[0;34m(\u001b[0m\u001b[0;34m*\u001b[0m\u001b[0margs\u001b[0m\u001b[0;34m,\u001b[0m \u001b[0;34m**\u001b[0m\u001b[0mkwargs\u001b[0m\u001b[0;34m)\u001b[0m\u001b[0;34m\u001b[0m\u001b[0;34m\u001b[0m\u001b[0m\n\u001b[0m\u001b[1;32m    409\u001b[0m         \u001b[0;32melse\u001b[0m\u001b[0;34m:\u001b[0m\u001b[0;34m\u001b[0m\u001b[0;34m\u001b[0m\u001b[0m\n\u001b[1;32m    410\u001b[0m             \u001b[0;32mif\u001b[0m \u001b[0misinstance\u001b[0m\u001b[0;34m(\u001b[0m\u001b[0margs\u001b[0m\u001b[0;34m[\u001b[0m\u001b[0;36m0\u001b[0m\u001b[0;34m]\u001b[0m\u001b[0;34m,\u001b[0m \u001b[0mstr\u001b[0m\u001b[0;34m)\u001b[0m\u001b[0;34m:\u001b[0m\u001b[0;34m\u001b[0m\u001b[0;34m\u001b[0m\u001b[0m\n",
      "\u001b[0;32m/anaconda3/envs/geo_env/lib/python3.9/site-packages/fiona/__init__.py\u001b[0m in \u001b[0;36mopen\u001b[0;34m(fp, mode, driver, schema, crs, encoding, layer, vfs, enabled_drivers, crs_wkt, **kwargs)\u001b[0m\n\u001b[1;32m    254\u001b[0m \u001b[0;34m\u001b[0m\u001b[0m\n\u001b[1;32m    255\u001b[0m         \u001b[0;32mif\u001b[0m \u001b[0mmode\u001b[0m \u001b[0;32min\u001b[0m \u001b[0;34m(\u001b[0m\u001b[0;34m'a'\u001b[0m\u001b[0;34m,\u001b[0m \u001b[0;34m'r'\u001b[0m\u001b[0;34m)\u001b[0m\u001b[0;34m:\u001b[0m\u001b[0;34m\u001b[0m\u001b[0;34m\u001b[0m\u001b[0m\n\u001b[0;32m--> 256\u001b[0;31m             c = Collection(path, mode, driver=driver, encoding=encoding,\n\u001b[0m\u001b[1;32m    257\u001b[0m                            layer=layer, enabled_drivers=enabled_drivers, **kwargs)\n\u001b[1;32m    258\u001b[0m         \u001b[0;32melif\u001b[0m \u001b[0mmode\u001b[0m \u001b[0;34m==\u001b[0m \u001b[0;34m'w'\u001b[0m\u001b[0;34m:\u001b[0m\u001b[0;34m\u001b[0m\u001b[0;34m\u001b[0m\u001b[0m\n",
      "\u001b[0;32m/anaconda3/envs/geo_env/lib/python3.9/site-packages/fiona/collection.py\u001b[0m in \u001b[0;36m__init__\u001b[0;34m(self, path, mode, driver, schema, crs, encoding, layer, vsi, archive, enabled_drivers, crs_wkt, ignore_fields, ignore_geometry, **kwargs)\u001b[0m\n\u001b[1;32m    160\u001b[0m             \u001b[0;32mif\u001b[0m \u001b[0mself\u001b[0m\u001b[0;34m.\u001b[0m\u001b[0mmode\u001b[0m \u001b[0;34m==\u001b[0m \u001b[0;34m'r'\u001b[0m\u001b[0;34m:\u001b[0m\u001b[0;34m\u001b[0m\u001b[0;34m\u001b[0m\u001b[0m\n\u001b[1;32m    161\u001b[0m                 \u001b[0mself\u001b[0m\u001b[0;34m.\u001b[0m\u001b[0msession\u001b[0m \u001b[0;34m=\u001b[0m \u001b[0mSession\u001b[0m\u001b[0;34m(\u001b[0m\u001b[0;34m)\u001b[0m\u001b[0;34m\u001b[0m\u001b[0;34m\u001b[0m\u001b[0m\n\u001b[0;32m--> 162\u001b[0;31m                 \u001b[0mself\u001b[0m\u001b[0;34m.\u001b[0m\u001b[0msession\u001b[0m\u001b[0;34m.\u001b[0m\u001b[0mstart\u001b[0m\u001b[0;34m(\u001b[0m\u001b[0mself\u001b[0m\u001b[0;34m,\u001b[0m \u001b[0;34m**\u001b[0m\u001b[0mkwargs\u001b[0m\u001b[0;34m)\u001b[0m\u001b[0;34m\u001b[0m\u001b[0;34m\u001b[0m\u001b[0m\n\u001b[0m\u001b[1;32m    163\u001b[0m             \u001b[0;32melif\u001b[0m \u001b[0mself\u001b[0m\u001b[0;34m.\u001b[0m\u001b[0mmode\u001b[0m \u001b[0;32min\u001b[0m \u001b[0;34m(\u001b[0m\u001b[0;34m'a'\u001b[0m\u001b[0;34m,\u001b[0m \u001b[0;34m'w'\u001b[0m\u001b[0;34m)\u001b[0m\u001b[0;34m:\u001b[0m\u001b[0;34m\u001b[0m\u001b[0;34m\u001b[0m\u001b[0m\n\u001b[1;32m    164\u001b[0m                 \u001b[0mself\u001b[0m\u001b[0;34m.\u001b[0m\u001b[0msession\u001b[0m \u001b[0;34m=\u001b[0m \u001b[0mWritingSession\u001b[0m\u001b[0;34m(\u001b[0m\u001b[0;34m)\u001b[0m\u001b[0;34m\u001b[0m\u001b[0;34m\u001b[0m\u001b[0m\n",
      "\u001b[0;32mfiona/ogrext.pyx\u001b[0m in \u001b[0;36mfiona.ogrext.Session.start\u001b[0;34m()\u001b[0m\n",
      "\u001b[0;32mfiona/_shim.pyx\u001b[0m in \u001b[0;36mfiona._shim.gdal_open_vector\u001b[0;34m()\u001b[0m\n",
      "\u001b[0;31mDriverError\u001b[0m: 2014_05_15_23_lat2p998S.geojson: No such file or directory"
     ]
    }
   ],
   "source": [
    "# Test written-out file\n",
    "tgf = gp.read_file(\"2014_05_15_23_lat2p998S.geojson\")\n",
    "tgf\n",
    "tgf.plot(column='time', alpha=0.3)"
   ]
  },
  {
   "cell_type": "markdown",
   "id": "a27241f7-d044-4094-8ada-457c6e3bc86e",
   "metadata": {},
   "source": [
    "## Step 5: Find new coast-crossers now (now_cc). \n",
    "### Spawn as new CCVLs, IFF they don't exist in i_now\n"
   ]
  },
  {
   "cell_type": "code",
   "execution_count": 611,
   "id": "d22c2543-b6b4-4b1d-baff-6b2b572ff1f5",
   "metadata": {},
   "outputs": [
    {
     "data": {
      "text/plain": [
       "(array([2]), array([12]))"
      ]
     },
     "execution_count": 611,
     "metadata": {},
     "output_type": "execute_result"
    }
   ],
   "source": [
    "        i_litt, i_now_cc = gdf_now.sindex.query_bulk(gdf_litt.geometry, predicate='overlaps') \n",
    "        i_litt, i_now_cc # littoral is in 0,3 since there are 4 polygons in the littoral gdf"
   ]
  },
  {
   "cell_type": "code",
   "execution_count": 612,
   "id": "e57be45d-487d-4225-a1f8-18aaf3abce5d",
   "metadata": {},
   "outputs": [
    {
     "data": {
      "text/plain": [
       "[11, 12, 13]"
      ]
     },
     "execution_count": 612,
     "metadata": {},
     "output_type": "execute_result"
    }
   ],
   "source": [
    "i_now # these were the ones already part of a CCVL"
   ]
  },
  {
   "cell_type": "code",
   "execution_count": 613,
   "id": "d77976eb-d7db-4337-a5bc-02ee256aa106",
   "metadata": {},
   "outputs": [
    {
     "data": {
      "text/plain": [
       "array([12])"
      ]
     },
     "execution_count": 613,
     "metadata": {},
     "output_type": "execute_result"
    }
   ],
   "source": [
    "i_now_cc"
   ]
  },
  {
   "cell_type": "code",
   "execution_count": 711,
   "id": "7cacdff2-7a3a-44cb-9779-e1fb3678aa3d",
   "metadata": {},
   "outputs": [],
   "source": [
    "# DEBUG: make this a pseudo new ones\n",
    "i_now_cc = [7,8]"
   ]
  },
  {
   "cell_type": "code",
   "execution_count": 701,
   "id": "dfa8596c-9585-4667-b416-36dae59703a6",
   "metadata": {},
   "outputs": [
    {
     "name": "stdout",
     "output_type": "stream",
     "text": [
      "7\n",
      "adding new ccvl  7\n",
      "ccvl_2014_05_15_22_lat2p394N = gdf_newccvl.to_frame().T\n",
      "8\n",
      "adding new ccvl  8\n",
      "ccvl_2014_05_15_22_lat3p835N = gdf_newccvl.to_frame().T\n"
     ]
    }
   ],
   "source": [
    "        for i in i_now_cc: \n",
    "            print(i)\n",
    "            if not (i in i_now): \n",
    "                print('adding new ccvl ', i)\n",
    "                gdf_newccvl = gdf_now.iloc[i].copy()\n",
    "                \n",
    "                # add time\n",
    "                timenow = cwv_WEIO.time[iback].values\n",
    "                gdf_newccvl['time'] = timenow\n",
    "                \n",
    "                # add tag = timestring + str(meanlat)\n",
    "                timestring = pd.to_datetime(str(timenow)).strftime('%Y_%m_%d_%H')\n",
    "                centlat = gdf_newccvl.geometry.centroid.y\n",
    "                ccvltag = timestring+'_lat'+ str(abs(centlat))[:5]\n",
    "                ccvltag = ccvltag + NS[ int(centlat<0) ] \n",
    "                ccvltag = ccvltag.replace('.','p') \n",
    "                gdf_newccvl['tag'] = ccvltag\n",
    "\n",
    "                # append to ccvls_now\n",
    "                gdf_ccvls_now = gdf_ccvls_now.append(gdf_newccvl)\n",
    "                \n",
    "                # create the corresponding gdf_ccvl for this new ccvl\n",
    "                # in transposed form ready to append to later\n",
    "                command = 'ccvl_' + gdf_newccvl.tag + ' = gdf_newccvl.to_frame().T' \n",
    "                print(command)\n",
    "                exec(command) # creates new gdf"
   ]
  },
  {
   "cell_type": "code",
   "execution_count": 704,
   "id": "61d3f8f5-556d-4324-b211-61bee78e2641",
   "metadata": {},
   "outputs": [
    {
     "data": {
      "text/html": [
       "<div>\n",
       "<style scoped>\n",
       "    .dataframe tbody tr th:only-of-type {\n",
       "        vertical-align: middle;\n",
       "    }\n",
       "\n",
       "    .dataframe tbody tr th {\n",
       "        vertical-align: top;\n",
       "    }\n",
       "\n",
       "    .dataframe thead th {\n",
       "        text-align: right;\n",
       "    }\n",
       "</style>\n",
       "<table border=\"1\" class=\"dataframe\">\n",
       "  <thead>\n",
       "    <tr style=\"text-align: right;\">\n",
       "      <th></th>\n",
       "      <th>geometry</th>\n",
       "      <th>tqv_values</th>\n",
       "      <th>area</th>\n",
       "      <th>maxlon</th>\n",
       "      <th>tag</th>\n",
       "      <th>time</th>\n",
       "    </tr>\n",
       "  </thead>\n",
       "  <tbody>\n",
       "    <tr>\n",
       "      <th>2</th>\n",
       "      <td>POLYGON ((53.75000 -8.72341, 54.37500 -8.97518...</td>\n",
       "      <td>55.0</td>\n",
       "      <td>16.212948</td>\n",
       "      <td>54.672109</td>\n",
       "      <td>2014_05_15_23_lat5p382S</td>\n",
       "      <td>2014-05-15 22:00:00</td>\n",
       "    </tr>\n",
       "    <tr>\n",
       "      <th>3</th>\n",
       "      <td>POLYGON ((59.37500 -8.00691, 59.38292 -8.00000...</td>\n",
       "      <td>55.0</td>\n",
       "      <td>13.001484</td>\n",
       "      <td>66.236093</td>\n",
       "      <td>2014_05_15_23_lat5p382S</td>\n",
       "      <td>2014-05-15 22:00:00</td>\n",
       "    </tr>\n",
       "    <tr>\n",
       "      <th>6</th>\n",
       "      <td>POLYGON ((64.37500 -3.14717, 65.00000 -3.12123...</td>\n",
       "      <td>55.0</td>\n",
       "      <td>0.331279</td>\n",
       "      <td>65.138163</td>\n",
       "      <td>2014_05_15_23_lat5p382S</td>\n",
       "      <td>2014-05-15 22:00:00</td>\n",
       "    </tr>\n",
       "    <tr>\n",
       "      <th>7</th>\n",
       "      <td>POLYGON ((68.12500 1.30362, 68.24070 1.50000, ...</td>\n",
       "      <td>55.0</td>\n",
       "      <td>3.733042</td>\n",
       "      <td>68.458301</td>\n",
       "      <td>2014_05_15_22_lat2p394N</td>\n",
       "      <td>2014-05-15 22:00:00</td>\n",
       "    </tr>\n",
       "    <tr>\n",
       "      <th>8</th>\n",
       "      <td>POLYGON ((31.25000 3.49991, 31.25013 3.50000, ...</td>\n",
       "      <td>55.0</td>\n",
       "      <td>0.011183</td>\n",
       "      <td>31.259966</td>\n",
       "      <td>2014_05_15_22_lat3p835N</td>\n",
       "      <td>2014-05-15 22:00:00</td>\n",
       "    </tr>\n",
       "    <tr>\n",
       "      <th>7</th>\n",
       "      <td>POLYGON ((68.12500 1.30362, 68.24070 1.50000, ...</td>\n",
       "      <td>55.0</td>\n",
       "      <td>3.733042</td>\n",
       "      <td>68.458301</td>\n",
       "      <td>2014_05_15_22_lat2p394N</td>\n",
       "      <td>2014-05-15 22:00:00</td>\n",
       "    </tr>\n",
       "    <tr>\n",
       "      <th>8</th>\n",
       "      <td>POLYGON ((31.25000 3.49991, 31.25013 3.50000, ...</td>\n",
       "      <td>55.0</td>\n",
       "      <td>0.011183</td>\n",
       "      <td>31.259966</td>\n",
       "      <td>2014_05_15_22_lat3p835N</td>\n",
       "      <td>2014-05-15 22:00:00</td>\n",
       "    </tr>\n",
       "    <tr>\n",
       "      <th>7</th>\n",
       "      <td>POLYGON ((68.12500 1.30362, 68.24070 1.50000, ...</td>\n",
       "      <td>55.0</td>\n",
       "      <td>3.733042</td>\n",
       "      <td>68.458301</td>\n",
       "      <td>2014_05_15_22_lat2p394N</td>\n",
       "      <td>2014-05-15 22:00:00</td>\n",
       "    </tr>\n",
       "    <tr>\n",
       "      <th>8</th>\n",
       "      <td>POLYGON ((31.25000 3.49991, 31.25013 3.50000, ...</td>\n",
       "      <td>55.0</td>\n",
       "      <td>0.011183</td>\n",
       "      <td>31.259966</td>\n",
       "      <td>2014_05_15_22_lat3p835N</td>\n",
       "      <td>2014-05-15 22:00:00</td>\n",
       "    </tr>\n",
       "  </tbody>\n",
       "</table>\n",
       "</div>"
      ],
      "text/plain": [
       "                                            geometry  tqv_values       area  \\\n",
       "2  POLYGON ((53.75000 -8.72341, 54.37500 -8.97518...        55.0  16.212948   \n",
       "3  POLYGON ((59.37500 -8.00691, 59.38292 -8.00000...        55.0  13.001484   \n",
       "6  POLYGON ((64.37500 -3.14717, 65.00000 -3.12123...        55.0   0.331279   \n",
       "7  POLYGON ((68.12500 1.30362, 68.24070 1.50000, ...        55.0   3.733042   \n",
       "8  POLYGON ((31.25000 3.49991, 31.25013 3.50000, ...        55.0   0.011183   \n",
       "7  POLYGON ((68.12500 1.30362, 68.24070 1.50000, ...        55.0   3.733042   \n",
       "8  POLYGON ((31.25000 3.49991, 31.25013 3.50000, ...        55.0   0.011183   \n",
       "7  POLYGON ((68.12500 1.30362, 68.24070 1.50000, ...        55.0   3.733042   \n",
       "8  POLYGON ((31.25000 3.49991, 31.25013 3.50000, ...        55.0   0.011183   \n",
       "\n",
       "      maxlon                      tag                time  \n",
       "2  54.672109  2014_05_15_23_lat5p382S 2014-05-15 22:00:00  \n",
       "3  66.236093  2014_05_15_23_lat5p382S 2014-05-15 22:00:00  \n",
       "6  65.138163  2014_05_15_23_lat5p382S 2014-05-15 22:00:00  \n",
       "7  68.458301  2014_05_15_22_lat2p394N 2014-05-15 22:00:00  \n",
       "8  31.259966  2014_05_15_22_lat3p835N 2014-05-15 22:00:00  \n",
       "7  68.458301  2014_05_15_22_lat2p394N 2014-05-15 22:00:00  \n",
       "8  31.259966  2014_05_15_22_lat3p835N 2014-05-15 22:00:00  \n",
       "7  68.458301  2014_05_15_22_lat2p394N 2014-05-15 22:00:00  \n",
       "8  31.259966  2014_05_15_22_lat3p835N 2014-05-15 22:00:00  "
      ]
     },
     "execution_count": 704,
     "metadata": {},
     "output_type": "execute_result"
    }
   ],
   "source": [
    "        gdf_ccvls_now"
   ]
  },
  {
   "cell_type": "markdown",
   "id": "1207b10f-cc82-41ec-9189-fc308dacde7f",
   "metadata": {},
   "source": [
    "## Step 6: Transfer gdf_ccvls_now to gdf_ccvls for next iteration, re-indexing"
   ]
  },
  {
   "cell_type": "code",
   "execution_count": 708,
   "id": "06a8cc43-8117-498a-995f-a55cf71863d2",
   "metadata": {},
   "outputs": [],
   "source": [
    "        gdf_ccvls = gdf_ccvls_now\n",
    "        # Must re-index in order for .loc[] to work later in overlap tests \n",
    "        gdf_ccvls.index = range( len(gdf_ccvls.index) )"
   ]
  },
  {
   "cell_type": "code",
   "execution_count": 710,
   "id": "260fc12c-c9f2-43ac-a6a3-29d92156e122",
   "metadata": {},
   "outputs": [
    {
     "data": {
      "text/html": [
       "<div>\n",
       "<style scoped>\n",
       "    .dataframe tbody tr th:only-of-type {\n",
       "        vertical-align: middle;\n",
       "    }\n",
       "\n",
       "    .dataframe tbody tr th {\n",
       "        vertical-align: top;\n",
       "    }\n",
       "\n",
       "    .dataframe thead th {\n",
       "        text-align: right;\n",
       "    }\n",
       "</style>\n",
       "<table border=\"1\" class=\"dataframe\">\n",
       "  <thead>\n",
       "    <tr style=\"text-align: right;\">\n",
       "      <th></th>\n",
       "      <th>geometry</th>\n",
       "      <th>tqv_values</th>\n",
       "      <th>area</th>\n",
       "      <th>maxlon</th>\n",
       "      <th>tag</th>\n",
       "      <th>time</th>\n",
       "    </tr>\n",
       "  </thead>\n",
       "  <tbody>\n",
       "    <tr>\n",
       "      <th>0</th>\n",
       "      <td>POLYGON ((53.75000 -8.72341, 54.37500 -8.97518...</td>\n",
       "      <td>55.0</td>\n",
       "      <td>16.212948</td>\n",
       "      <td>54.672109</td>\n",
       "      <td>2014_05_15_23_lat5p382S</td>\n",
       "      <td>2014-05-15 22:00:00</td>\n",
       "    </tr>\n",
       "    <tr>\n",
       "      <th>1</th>\n",
       "      <td>POLYGON ((59.37500 -8.00691, 59.38292 -8.00000...</td>\n",
       "      <td>55.0</td>\n",
       "      <td>13.001484</td>\n",
       "      <td>66.236093</td>\n",
       "      <td>2014_05_15_23_lat5p382S</td>\n",
       "      <td>2014-05-15 22:00:00</td>\n",
       "    </tr>\n",
       "    <tr>\n",
       "      <th>2</th>\n",
       "      <td>POLYGON ((64.37500 -3.14717, 65.00000 -3.12123...</td>\n",
       "      <td>55.0</td>\n",
       "      <td>0.331279</td>\n",
       "      <td>65.138163</td>\n",
       "      <td>2014_05_15_23_lat5p382S</td>\n",
       "      <td>2014-05-15 22:00:00</td>\n",
       "    </tr>\n",
       "    <tr>\n",
       "      <th>3</th>\n",
       "      <td>POLYGON ((68.12500 1.30362, 68.24070 1.50000, ...</td>\n",
       "      <td>55.0</td>\n",
       "      <td>3.733042</td>\n",
       "      <td>68.458301</td>\n",
       "      <td>2014_05_15_22_lat2p394N</td>\n",
       "      <td>2014-05-15 22:00:00</td>\n",
       "    </tr>\n",
       "    <tr>\n",
       "      <th>4</th>\n",
       "      <td>POLYGON ((31.25000 3.49991, 31.25013 3.50000, ...</td>\n",
       "      <td>55.0</td>\n",
       "      <td>0.011183</td>\n",
       "      <td>31.259966</td>\n",
       "      <td>2014_05_15_22_lat3p835N</td>\n",
       "      <td>2014-05-15 22:00:00</td>\n",
       "    </tr>\n",
       "    <tr>\n",
       "      <th>5</th>\n",
       "      <td>POLYGON ((68.12500 1.30362, 68.24070 1.50000, ...</td>\n",
       "      <td>55.0</td>\n",
       "      <td>3.733042</td>\n",
       "      <td>68.458301</td>\n",
       "      <td>2014_05_15_22_lat2p394N</td>\n",
       "      <td>2014-05-15 22:00:00</td>\n",
       "    </tr>\n",
       "    <tr>\n",
       "      <th>6</th>\n",
       "      <td>POLYGON ((31.25000 3.49991, 31.25013 3.50000, ...</td>\n",
       "      <td>55.0</td>\n",
       "      <td>0.011183</td>\n",
       "      <td>31.259966</td>\n",
       "      <td>2014_05_15_22_lat3p835N</td>\n",
       "      <td>2014-05-15 22:00:00</td>\n",
       "    </tr>\n",
       "    <tr>\n",
       "      <th>7</th>\n",
       "      <td>POLYGON ((68.12500 1.30362, 68.24070 1.50000, ...</td>\n",
       "      <td>55.0</td>\n",
       "      <td>3.733042</td>\n",
       "      <td>68.458301</td>\n",
       "      <td>2014_05_15_22_lat2p394N</td>\n",
       "      <td>2014-05-15 22:00:00</td>\n",
       "    </tr>\n",
       "    <tr>\n",
       "      <th>8</th>\n",
       "      <td>POLYGON ((31.25000 3.49991, 31.25013 3.50000, ...</td>\n",
       "      <td>55.0</td>\n",
       "      <td>0.011183</td>\n",
       "      <td>31.259966</td>\n",
       "      <td>2014_05_15_22_lat3p835N</td>\n",
       "      <td>2014-05-15 22:00:00</td>\n",
       "    </tr>\n",
       "  </tbody>\n",
       "</table>\n",
       "</div>"
      ],
      "text/plain": [
       "                                            geometry  tqv_values       area  \\\n",
       "0  POLYGON ((53.75000 -8.72341, 54.37500 -8.97518...        55.0  16.212948   \n",
       "1  POLYGON ((59.37500 -8.00691, 59.38292 -8.00000...        55.0  13.001484   \n",
       "2  POLYGON ((64.37500 -3.14717, 65.00000 -3.12123...        55.0   0.331279   \n",
       "3  POLYGON ((68.12500 1.30362, 68.24070 1.50000, ...        55.0   3.733042   \n",
       "4  POLYGON ((31.25000 3.49991, 31.25013 3.50000, ...        55.0   0.011183   \n",
       "5  POLYGON ((68.12500 1.30362, 68.24070 1.50000, ...        55.0   3.733042   \n",
       "6  POLYGON ((31.25000 3.49991, 31.25013 3.50000, ...        55.0   0.011183   \n",
       "7  POLYGON ((68.12500 1.30362, 68.24070 1.50000, ...        55.0   3.733042   \n",
       "8  POLYGON ((31.25000 3.49991, 31.25013 3.50000, ...        55.0   0.011183   \n",
       "\n",
       "      maxlon                      tag                time  \n",
       "0  54.672109  2014_05_15_23_lat5p382S 2014-05-15 22:00:00  \n",
       "1  66.236093  2014_05_15_23_lat5p382S 2014-05-15 22:00:00  \n",
       "2  65.138163  2014_05_15_23_lat5p382S 2014-05-15 22:00:00  \n",
       "3  68.458301  2014_05_15_22_lat2p394N 2014-05-15 22:00:00  \n",
       "4  31.259966  2014_05_15_22_lat3p835N 2014-05-15 22:00:00  \n",
       "5  68.458301  2014_05_15_22_lat2p394N 2014-05-15 22:00:00  \n",
       "6  31.259966  2014_05_15_22_lat3p835N 2014-05-15 22:00:00  \n",
       "7  68.458301  2014_05_15_22_lat2p394N 2014-05-15 22:00:00  \n",
       "8  31.259966  2014_05_15_22_lat3p835N 2014-05-15 22:00:00  "
      ]
     },
     "execution_count": 710,
     "metadata": {},
     "output_type": "execute_result"
    }
   ],
   "source": [
    "        gdf_ccvls"
   ]
  },
  {
   "cell_type": "code",
   "execution_count": null,
   "id": "abcba5ea-ca98-46f7-971c-be738647af3f",
   "metadata": {},
   "outputs": [],
   "source": []
  },
  {
   "cell_type": "code",
   "execution_count": null,
   "id": "1cb30551-4593-45ed-b88b-25999bcc3117",
   "metadata": {},
   "outputs": [],
   "source": []
  },
  {
   "cell_type": "code",
   "execution_count": null,
   "id": "244007bd-c784-4e43-ad42-e6fadabf531f",
   "metadata": {},
   "outputs": [],
   "source": []
  },
  {
   "cell_type": "code",
   "execution_count": null,
   "id": "38f1aeab-71c5-4556-8765-ca10857d1f3e",
   "metadata": {},
   "outputs": [],
   "source": []
  },
  {
   "cell_type": "code",
   "execution_count": null,
   "id": "3289d75b-d564-48ab-bcd9-ef2ee555426c",
   "metadata": {},
   "outputs": [],
   "source": []
  },
  {
   "cell_type": "code",
   "execution_count": null,
   "id": "3fd02466-d77d-4177-a0ac-0452bd6832a0",
   "metadata": {},
   "outputs": [],
   "source": []
  },
  {
   "cell_type": "markdown",
   "id": "built-slovak",
   "metadata": {},
   "source": [
    "## For each polygon in the \"now\" array, CWV_now: \n",
    "\n",
    "A **polygon** is a domain-enclosed patch which may contain holes. The Polygon constructor takes two positional parameters. The first is an ordered sequence of (x, y[, z]) point tuples. The second is an optional unordered sequence of ring-like sequences specifying the interior boundaries or “holes” of the feature. Rings of a valid Polygon may not cross each other, but may touch at a single point only."
   ]
  },
  {
   "cell_type": "code",
   "execution_count": null,
   "id": "material-fleet",
   "metadata": {},
   "outputs": [],
   "source": [
    "    CWV_now = read(data)\n",
    "    \n",
    "# Need a function called **segment** that returns all the segments, and their maximum longitude (perhaps other properties too)\n",
    "    cs = plt.contour(lon, lat, CWV_now, [55.])\n",
    "    polygons = geometrize(cs)\n",
    "    \n",
    "# \"inbounds\" = just the ones not touching the edge of the domain   \n",
    "    inbounds_polygons_now = polygons.where(convex_hull.lon.max() lt 100)\n",
    "\n",
    "# Put them in a GeoPandas frame as the geometry column\n",
    "    GeoFramePresent = gp.GeoSeries(inbounds_polygons_now)"
   ]
  },
  {
   "cell_type": "markdown",
   "id": "oriental-weekly",
   "metadata": {},
   "source": [
    "## Memory items available: \n",
    "\n",
    "In working memory within the loop are always 3 [GeoPandas dataframes](https://geopandas.org/getting_started/introduction.html): \n",
    "\n",
    "0. GPdf_coast with the polygons of coastline, df_coast, no data columns \n",
    "1. GPdf_destined with the polygons of destiny (future in time, prior in backward time loop) \n",
    "2. GPdf_now with the polygons of the present\n",
    "\n",
    "The geometry column contains all the holey polygons where CWV>55. The data columns are the tags of the active LLVLs, of which each holey polygon is a part. A holey polygon can be tagged as part of multiple CCVLs (notnull entry in multiple data columns), because physically it may be destined to split into parts that can each cross the coast. The data columns probably have a lot of empty or null entries, polygons that are never destined to cross the coast. \n",
    "\n",
    "![geopandas dataframe tableau](https://geopandas.org/_images/dataframe.svg \"GeoPandas dataframe schema\")"
   ]
  },
  {
   "cell_type": "markdown",
   "id": "closing-tractor",
   "metadata": {},
   "source": [
    "# Loop over the active CCVLs \n",
    "(the rows in GPdf_destined with at least one non-null data column entry) "
   ]
  },
  {
   "cell_type": "code",
   "execution_count": null,
   "id": "roman-ability",
   "metadata": {},
   "outputs": [],
   "source": [
    "# \"All pandas DataFrame methods are also available, although they may not operate in a meaningful way on the geometry column.\n",
    "    in_active_CCVLs = Gdf_destined.notnull().any(axis=1)\n",
    "    \n",
    "# For *EACH* of the polygons that is in any activeCCVL, test the overlap with *ALL* the GPdf_now.GeoSeries polygons\n",
    "\n",
    "    for polygon in in_active_CCVLs.GeoColumn\n",
    "        indices_1, indices_0 = CCVL.sindex.query_bulk(GPdf_0.GeoSeries, predicate='overlaps')\n",
    "        overlapping = numpy.unique(indices_0)  # integer indeces of overlapping\n",
    "\n"
   ]
  },
  {
   "cell_type": "code",
   "execution_count": null,
   "id": "average-thing",
   "metadata": {},
   "outputs": [],
   "source": [
    "# \"All pandas DataFrame methods are also available, although they may not operate in a meaningful way on the geometry column.\n",
    "# For *ALL* of the polygons that is in any activeCCVL, test the overlap with *ALL* the GPdf_now.GeoSeries polygons\n",
    "\n",
    "    indices_destined, indices_now = Gdf_destined.notnull().any(axis=1).sindex.query_bulk(GPdf_0.GeoSeries, predicate='overlaps')\n",
    "\n",
    "# Add data columns in Gfd_now which are identical with the data columns in Gdf_destined\n",
    "    Gdf_now[indices_now] = Gdf_destined[indices_destined]\n",
    "    \n",
    "# But now we will have to rejigger the dataframe to assemble the CCVLs from all their parts. Hmm. \n"
   ]
  },
  {
   "cell_type": "markdown",
   "id": "forced-makeup",
   "metadata": {},
   "source": [
    "## OK, we have iterates seg0, and seg1\n",
    "### Do they overlap? \n",
    "### If so, then CCVL_next contains seg0"
   ]
  },
  {
   "cell_type": "code",
   "execution_count": null,
   "id": "charged-assistant",
   "metadata": {},
   "outputs": [],
   "source": [
    "# from https://shapely.readthedocs.io/en/stable/manual.html\n",
    "# object.overlaps(other)\n",
    "# Returns True if the geometries have more than one but not all points in common, have the same dimension, and the intersection of the interiors of the geometries has the same dimension as the geometries themselves.\n",
    "\n",
    "# Or, \"If you want to check if the polygon overlaps with any other, you should check for that using geopandas spatial indexing capability.\"\n",
    "# \" # https://geopandas.org/getting_started/introduction.html#Geometry-relations\n",
    "# https://geopandas.org/docs/reference/api/geopandas.sindex.SpatialIndex.query_bulk.html\n",
    "\n",
    "input_indices, result_indices = shapes.sindex.query_bulk(shapes.geometry, predicate='overlaps')\n",
    "overlapping = numpy.unique(result_indices)  # integer indeces of overlapping\n",
    "\n",
    "\n",
    "# Faster is PyGEOS: \n",
    "# https://pygeos.readthedocs.io/en/latest/\n",
    "#\n",
    "# from_shapely(geometry, **kwargs) # Creates geometries from shapely Geometry objects.\n",
    "# prepare(geometry, **kwargs)      # Prepare a geometry, improving performance of other operations.\n",
    "#overlaps(a, b, **kwargs) #Returns True if A and B spatially overlap.\n",
    "#Compute the area of all possible intersections of two lists of polygons:\n",
    "#>>> area(intersection(polygons_x[:, np.newaxis], polygons_y[np.newaxis, :]))\n",
    "#array([[100.,  90.,  80.,  70.,  60.],\n",
    "#     [ 90.,  81.,  72.,  63.,  54.], ...\n",
    "# geometrycollections(geometries, indices=None, **kwargs)\n",
    "    "
   ]
  },
  {
   "cell_type": "code",
   "execution_count": null,
   "id": "geological-trustee",
   "metadata": {},
   "outputs": [],
   "source": [
    "                if overlap(seg1, seg0):\n",
    "                    # consequence 1: this CCVL remains active (so CCVLkey belongs in the CCVL_new dictionary for next time iteration)\n",
    "                    # that dictionary's value is a list of segments within CWV0, so syntax (perhaps illegal) is:\n",
    "                    CCVL_new.update( {CCVLkey : append(seg0)} )  \n",
    "                    \n",
    "                    # consequence 2: seg0 is not eligible to pioneer a new CCVL. Need to mark it somehow. \n",
    "                    segflags[iseg] = True"
   ]
  },
  {
   "cell_type": "markdown",
   "id": "standing-police",
   "metadata": {},
   "source": [
    "-------------\n",
    "----------------\n",
    "## Strategize the desired outputs, so we can write results as they are obtained:\n",
    "\n",
    "----------------\n",
    "## The use of the output will be to \n",
    "\n",
    "    * screen whole-lifetime CCVL events based on lines in `CClakes.txt`\n",
    "    * For selected events, further screen the hourly objects, based on lines in `tag/tag.times.txt`\n",
    "    * Visualize lakes at selected times by placing shapefile contours on a geographical map, perhaps color-coded by time or by tag\n",
    "-----------------\n",
    "-----------------\n",
    "\n",
    "### Therefore, at this step, we need to append seg0 as a shape in `tag/shapefiles/yymmddhh.contours`\n",
    "### and also tally up seg0's contribution to the bulk statistics of CCVLkey at this time zero \n",
    "\n"
   ]
  },
  {
   "cell_type": "code",
   "execution_count": null,
   "id": "adaptive-theology",
   "metadata": {},
   "outputs": [],
   "source": [
    "                    contour_append(tag + '/shapefiles/' + yymmddhh + '.contours', seg0)  \n",
    "                    update_1timetagstats( tagstats, seg0 ) # nsegs, npixels, kgwater, max/min lat/lon"
   ]
  },
  {
   "cell_type": "markdown",
   "id": "secret-operations",
   "metadata": {},
   "source": [
    "#### End of loop over all seg0, and all seg1 for a given CCVL. If tagstats_t0[0] is still its initialization of zero, the CCVL quietly ends. "
   ]
  },
  {
   "cell_type": "code",
   "execution_count": null,
   "id": "flush-judges",
   "metadata": {},
   "outputs": [],
   "source": [
    "\n",
    "                # end for seg0 in ibounds            \n",
    "            # end for seg1 in CCVLlist\n",
    "            if (tagstats_t0[0] > 0): \n",
    "                append_1timetagstats(tagstats, tag+'/'+yymmhhdd+'.txt')"
   ]
  },
  {
   "cell_type": "markdown",
   "id": "built-ladder",
   "metadata": {},
   "source": [
    "# what if some seg0 overlaps the coast, and not any previous seg0? \n",
    "# A new CCVL! "
   ]
  },
  {
   "cell_type": "code",
   "execution_count": null,
   "id": "introductory-quick",
   "metadata": {},
   "outputs": [],
   "source": [
    "for iseg, seg0 in enumerate(inbounds, start=0): \n",
    "    if( does_overlap(coastline, seg0) and segflags[iseg] == False):\n",
    "        \n",
    "# Create a new 'tag' based on time and the latitude of the coast-crossing segment\n",
    "        lala = meanlat_of_overlap(coastline,seg0)\n",
    "        newtag = yymmddhh + '_' + str(lala)\n",
    "        CCVL_new.update( {CCVLkey : append(seg0)} )  \n"
   ]
  },
  {
   "cell_type": "markdown",
   "id": "weird-fundamental",
   "metadata": {},
   "source": [
    "### end of time zero (t0). Close the time loop and iterate. "
   ]
  },
  {
   "cell_type": "code",
   "execution_count": null,
   "id": "special-wildlife",
   "metadata": {},
   "outputs": [],
   "source": [
    "# end for time in reverse(alltimes): \n",
    "# Overwrite the dictionary of active CCVLs for the next iteration \n",
    "CCVLs_active = CCVLs_new\n",
    "# END CODE: ITERATION BACKWARD OVER TIME NOW REPEATS"
   ]
  },
  {
   "cell_type": "code",
   "execution_count": null,
   "id": "neutral-continuity",
   "metadata": {},
   "outputs": [],
   "source": []
  },
  {
   "cell_type": "code",
   "execution_count": null,
   "id": "nuclear-logistics",
   "metadata": {},
   "outputs": [],
   "source": []
  },
  {
   "cell_type": "code",
   "execution_count": null,
   "id": "designed-isolation",
   "metadata": {},
   "outputs": [],
   "source": []
  },
  {
   "cell_type": "markdown",
   "id": "helpful-leadership",
   "metadata": {},
   "source": [
    "-----------------\n",
    "-----------------\n",
    "-----------------\n",
    "\n",
    "# a SEPARATE code can then glob over all the tag/yymmhhdd.txt files and construct `CClakes.txt`\n",
    "## with one line per tag, comprising the stats over the whole lifetime of each CCVL\n",
    "### summing up start and end date, lifetime in hours, total (area x hours), total (vapor x hours), bounding box (convex hull), centroid, etc. etc. \n",
    "\n",
    "#### All times (and thus tags and filenames) are based on the time of *last* contact with the coastline (first encountered, in the reverse-time flow of the algorithm's time loop). "
   ]
  },
  {
   "cell_type": "code",
   "execution_count": null,
   "id": "heavy-omega",
   "metadata": {},
   "outputs": [],
   "source": [
    "# GeoPandas \n",
    "# https://geopandas.org/getting_started/introduction.html#Geometry-relations\n",
    "\n",
    "# convex hull \n",
    "\n",
    "# gdf[\"convex_hull\"] = gdf.convex_hull"
   ]
  },
  {
   "cell_type": "code",
   "execution_count": null,
   "id": "other-balance",
   "metadata": {},
   "outputs": [],
   "source": []
  },
  {
   "cell_type": "code",
   "execution_count": null,
   "id": "higher-faith",
   "metadata": {},
   "outputs": [],
   "source": []
  },
  {
   "cell_type": "markdown",
   "id": "sunset-dancing",
   "metadata": {},
   "source": [
    "# Open the data file of all time slices "
   ]
  },
  {
   "cell_type": "code",
   "execution_count": 6,
   "id": "moved-acoustic",
   "metadata": {},
   "outputs": [
    {
     "name": "stdout",
     "output_type": "stream",
     "text": [
      "-rw-rw-r-- 1 bmapes bmapes 755M Mar 10 18:55 /data2/brian/WEIO_30-100_20S-20N_2014-8.nc\n"
     ]
    }
   ],
   "source": [
    "!ls -atlh /data2/brian/WEIO_30-100_20S-20N_2014-8.nc"
   ]
  },
  {
   "cell_type": "code",
   "execution_count": 7,
   "id": "absent-trinidad",
   "metadata": {},
   "outputs": [
    {
     "data": {
      "text/html": [
       "<div><svg style=\"position: absolute; width: 0; height: 0; overflow: hidden\">\n",
       "<defs>\n",
       "<symbol id=\"icon-database\" viewBox=\"0 0 32 32\">\n",
       "<path d=\"M16 0c-8.837 0-16 2.239-16 5v4c0 2.761 7.163 5 16 5s16-2.239 16-5v-4c0-2.761-7.163-5-16-5z\"></path>\n",
       "<path d=\"M16 17c-8.837 0-16-2.239-16-5v6c0 2.761 7.163 5 16 5s16-2.239 16-5v-6c0 2.761-7.163 5-16 5z\"></path>\n",
       "<path d=\"M16 26c-8.837 0-16-2.239-16-5v6c0 2.761 7.163 5 16 5s16-2.239 16-5v-6c0 2.761-7.163 5-16 5z\"></path>\n",
       "</symbol>\n",
       "<symbol id=\"icon-file-text2\" viewBox=\"0 0 32 32\">\n",
       "<path d=\"M28.681 7.159c-0.694-0.947-1.662-2.053-2.724-3.116s-2.169-2.030-3.116-2.724c-1.612-1.182-2.393-1.319-2.841-1.319h-15.5c-1.378 0-2.5 1.121-2.5 2.5v27c0 1.378 1.122 2.5 2.5 2.5h23c1.378 0 2.5-1.122 2.5-2.5v-19.5c0-0.448-0.137-1.23-1.319-2.841zM24.543 5.457c0.959 0.959 1.712 1.825 2.268 2.543h-4.811v-4.811c0.718 0.556 1.584 1.309 2.543 2.268zM28 29.5c0 0.271-0.229 0.5-0.5 0.5h-23c-0.271 0-0.5-0.229-0.5-0.5v-27c0-0.271 0.229-0.5 0.5-0.5 0 0 15.499-0 15.5 0v7c0 0.552 0.448 1 1 1h7v19.5z\"></path>\n",
       "<path d=\"M23 26h-14c-0.552 0-1-0.448-1-1s0.448-1 1-1h14c0.552 0 1 0.448 1 1s-0.448 1-1 1z\"></path>\n",
       "<path d=\"M23 22h-14c-0.552 0-1-0.448-1-1s0.448-1 1-1h14c0.552 0 1 0.448 1 1s-0.448 1-1 1z\"></path>\n",
       "<path d=\"M23 18h-14c-0.552 0-1-0.448-1-1s0.448-1 1-1h14c0.552 0 1 0.448 1 1s-0.448 1-1 1z\"></path>\n",
       "</symbol>\n",
       "</defs>\n",
       "</svg>\n",
       "<style>/* CSS stylesheet for displaying xarray objects in jupyterlab.\n",
       " *\n",
       " */\n",
       "\n",
       ":root {\n",
       "  --xr-font-color0: var(--jp-content-font-color0, rgba(0, 0, 0, 1));\n",
       "  --xr-font-color2: var(--jp-content-font-color2, rgba(0, 0, 0, 0.54));\n",
       "  --xr-font-color3: var(--jp-content-font-color3, rgba(0, 0, 0, 0.38));\n",
       "  --xr-border-color: var(--jp-border-color2, #e0e0e0);\n",
       "  --xr-disabled-color: var(--jp-layout-color3, #bdbdbd);\n",
       "  --xr-background-color: var(--jp-layout-color0, white);\n",
       "  --xr-background-color-row-even: var(--jp-layout-color1, white);\n",
       "  --xr-background-color-row-odd: var(--jp-layout-color2, #eeeeee);\n",
       "}\n",
       "\n",
       "html[theme=dark],\n",
       "body.vscode-dark {\n",
       "  --xr-font-color0: rgba(255, 255, 255, 1);\n",
       "  --xr-font-color2: rgba(255, 255, 255, 0.54);\n",
       "  --xr-font-color3: rgba(255, 255, 255, 0.38);\n",
       "  --xr-border-color: #1F1F1F;\n",
       "  --xr-disabled-color: #515151;\n",
       "  --xr-background-color: #111111;\n",
       "  --xr-background-color-row-even: #111111;\n",
       "  --xr-background-color-row-odd: #313131;\n",
       "}\n",
       "\n",
       ".xr-wrap {\n",
       "  display: block;\n",
       "  min-width: 300px;\n",
       "  max-width: 700px;\n",
       "}\n",
       "\n",
       ".xr-text-repr-fallback {\n",
       "  /* fallback to plain text repr when CSS is not injected (untrusted notebook) */\n",
       "  display: none;\n",
       "}\n",
       "\n",
       ".xr-header {\n",
       "  padding-top: 6px;\n",
       "  padding-bottom: 6px;\n",
       "  margin-bottom: 4px;\n",
       "  border-bottom: solid 1px var(--xr-border-color);\n",
       "}\n",
       "\n",
       ".xr-header > div,\n",
       ".xr-header > ul {\n",
       "  display: inline;\n",
       "  margin-top: 0;\n",
       "  margin-bottom: 0;\n",
       "}\n",
       "\n",
       ".xr-obj-type,\n",
       ".xr-array-name {\n",
       "  margin-left: 2px;\n",
       "  margin-right: 10px;\n",
       "}\n",
       "\n",
       ".xr-obj-type {\n",
       "  color: var(--xr-font-color2);\n",
       "}\n",
       "\n",
       ".xr-sections {\n",
       "  padding-left: 0 !important;\n",
       "  display: grid;\n",
       "  grid-template-columns: 150px auto auto 1fr 20px 20px;\n",
       "}\n",
       "\n",
       ".xr-section-item {\n",
       "  display: contents;\n",
       "}\n",
       "\n",
       ".xr-section-item input {\n",
       "  display: none;\n",
       "}\n",
       "\n",
       ".xr-section-item input + label {\n",
       "  color: var(--xr-disabled-color);\n",
       "}\n",
       "\n",
       ".xr-section-item input:enabled + label {\n",
       "  cursor: pointer;\n",
       "  color: var(--xr-font-color2);\n",
       "}\n",
       "\n",
       ".xr-section-item input:enabled + label:hover {\n",
       "  color: var(--xr-font-color0);\n",
       "}\n",
       "\n",
       ".xr-section-summary {\n",
       "  grid-column: 1;\n",
       "  color: var(--xr-font-color2);\n",
       "  font-weight: 500;\n",
       "}\n",
       "\n",
       ".xr-section-summary > span {\n",
       "  display: inline-block;\n",
       "  padding-left: 0.5em;\n",
       "}\n",
       "\n",
       ".xr-section-summary-in:disabled + label {\n",
       "  color: var(--xr-font-color2);\n",
       "}\n",
       "\n",
       ".xr-section-summary-in + label:before {\n",
       "  display: inline-block;\n",
       "  content: '►';\n",
       "  font-size: 11px;\n",
       "  width: 15px;\n",
       "  text-align: center;\n",
       "}\n",
       "\n",
       ".xr-section-summary-in:disabled + label:before {\n",
       "  color: var(--xr-disabled-color);\n",
       "}\n",
       "\n",
       ".xr-section-summary-in:checked + label:before {\n",
       "  content: '▼';\n",
       "}\n",
       "\n",
       ".xr-section-summary-in:checked + label > span {\n",
       "  display: none;\n",
       "}\n",
       "\n",
       ".xr-section-summary,\n",
       ".xr-section-inline-details {\n",
       "  padding-top: 4px;\n",
       "  padding-bottom: 4px;\n",
       "}\n",
       "\n",
       ".xr-section-inline-details {\n",
       "  grid-column: 2 / -1;\n",
       "}\n",
       "\n",
       ".xr-section-details {\n",
       "  display: none;\n",
       "  grid-column: 1 / -1;\n",
       "  margin-bottom: 5px;\n",
       "}\n",
       "\n",
       ".xr-section-summary-in:checked ~ .xr-section-details {\n",
       "  display: contents;\n",
       "}\n",
       "\n",
       ".xr-array-wrap {\n",
       "  grid-column: 1 / -1;\n",
       "  display: grid;\n",
       "  grid-template-columns: 20px auto;\n",
       "}\n",
       "\n",
       ".xr-array-wrap > label {\n",
       "  grid-column: 1;\n",
       "  vertical-align: top;\n",
       "}\n",
       "\n",
       ".xr-preview {\n",
       "  color: var(--xr-font-color3);\n",
       "}\n",
       "\n",
       ".xr-array-preview,\n",
       ".xr-array-data {\n",
       "  padding: 0 5px !important;\n",
       "  grid-column: 2;\n",
       "}\n",
       "\n",
       ".xr-array-data,\n",
       ".xr-array-in:checked ~ .xr-array-preview {\n",
       "  display: none;\n",
       "}\n",
       "\n",
       ".xr-array-in:checked ~ .xr-array-data,\n",
       ".xr-array-preview {\n",
       "  display: inline-block;\n",
       "}\n",
       "\n",
       ".xr-dim-list {\n",
       "  display: inline-block !important;\n",
       "  list-style: none;\n",
       "  padding: 0 !important;\n",
       "  margin: 0;\n",
       "}\n",
       "\n",
       ".xr-dim-list li {\n",
       "  display: inline-block;\n",
       "  padding: 0;\n",
       "  margin: 0;\n",
       "}\n",
       "\n",
       ".xr-dim-list:before {\n",
       "  content: '(';\n",
       "}\n",
       "\n",
       ".xr-dim-list:after {\n",
       "  content: ')';\n",
       "}\n",
       "\n",
       ".xr-dim-list li:not(:last-child):after {\n",
       "  content: ',';\n",
       "  padding-right: 5px;\n",
       "}\n",
       "\n",
       ".xr-has-index {\n",
       "  font-weight: bold;\n",
       "}\n",
       "\n",
       ".xr-var-list,\n",
       ".xr-var-item {\n",
       "  display: contents;\n",
       "}\n",
       "\n",
       ".xr-var-item > div,\n",
       ".xr-var-item label,\n",
       ".xr-var-item > .xr-var-name span {\n",
       "  background-color: var(--xr-background-color-row-even);\n",
       "  margin-bottom: 0;\n",
       "}\n",
       "\n",
       ".xr-var-item > .xr-var-name:hover span {\n",
       "  padding-right: 5px;\n",
       "}\n",
       "\n",
       ".xr-var-list > li:nth-child(odd) > div,\n",
       ".xr-var-list > li:nth-child(odd) > label,\n",
       ".xr-var-list > li:nth-child(odd) > .xr-var-name span {\n",
       "  background-color: var(--xr-background-color-row-odd);\n",
       "}\n",
       "\n",
       ".xr-var-name {\n",
       "  grid-column: 1;\n",
       "}\n",
       "\n",
       ".xr-var-dims {\n",
       "  grid-column: 2;\n",
       "}\n",
       "\n",
       ".xr-var-dtype {\n",
       "  grid-column: 3;\n",
       "  text-align: right;\n",
       "  color: var(--xr-font-color2);\n",
       "}\n",
       "\n",
       ".xr-var-preview {\n",
       "  grid-column: 4;\n",
       "}\n",
       "\n",
       ".xr-var-name,\n",
       ".xr-var-dims,\n",
       ".xr-var-dtype,\n",
       ".xr-preview,\n",
       ".xr-attrs dt {\n",
       "  white-space: nowrap;\n",
       "  overflow: hidden;\n",
       "  text-overflow: ellipsis;\n",
       "  padding-right: 10px;\n",
       "}\n",
       "\n",
       ".xr-var-name:hover,\n",
       ".xr-var-dims:hover,\n",
       ".xr-var-dtype:hover,\n",
       ".xr-attrs dt:hover {\n",
       "  overflow: visible;\n",
       "  width: auto;\n",
       "  z-index: 1;\n",
       "}\n",
       "\n",
       ".xr-var-attrs,\n",
       ".xr-var-data {\n",
       "  display: none;\n",
       "  background-color: var(--xr-background-color) !important;\n",
       "  padding-bottom: 5px !important;\n",
       "}\n",
       "\n",
       ".xr-var-attrs-in:checked ~ .xr-var-attrs,\n",
       ".xr-var-data-in:checked ~ .xr-var-data {\n",
       "  display: block;\n",
       "}\n",
       "\n",
       ".xr-var-data > table {\n",
       "  float: right;\n",
       "}\n",
       "\n",
       ".xr-var-name span,\n",
       ".xr-var-data,\n",
       ".xr-attrs {\n",
       "  padding-left: 25px !important;\n",
       "}\n",
       "\n",
       ".xr-attrs,\n",
       ".xr-var-attrs,\n",
       ".xr-var-data {\n",
       "  grid-column: 1 / -1;\n",
       "}\n",
       "\n",
       "dl.xr-attrs {\n",
       "  padding: 0;\n",
       "  margin: 0;\n",
       "  display: grid;\n",
       "  grid-template-columns: 125px auto;\n",
       "}\n",
       "\n",
       ".xr-attrs dt, dd {\n",
       "  padding: 0;\n",
       "  margin: 0;\n",
       "  float: left;\n",
       "  padding-right: 10px;\n",
       "  width: auto;\n",
       "}\n",
       "\n",
       ".xr-attrs dt {\n",
       "  font-weight: normal;\n",
       "  grid-column: 1;\n",
       "}\n",
       "\n",
       ".xr-attrs dt:hover span {\n",
       "  display: inline-block;\n",
       "  background: var(--xr-background-color);\n",
       "  padding-right: 10px;\n",
       "}\n",
       "\n",
       ".xr-attrs dd {\n",
       "  grid-column: 2;\n",
       "  white-space: pre-wrap;\n",
       "  word-break: break-all;\n",
       "}\n",
       "\n",
       ".xr-icon-database,\n",
       ".xr-icon-file-text2 {\n",
       "  display: inline-block;\n",
       "  vertical-align: middle;\n",
       "  width: 1em;\n",
       "  height: 1.5em !important;\n",
       "  stroke-width: 0;\n",
       "  stroke: currentColor;\n",
       "  fill: currentColor;\n",
       "}\n",
       "</style><pre class='xr-text-repr-fallback'>&lt;xarray.Dataset&gt;\n",
       "Dimensions:  (lat: 81, lon: 113, time: 43824)\n",
       "Coordinates:\n",
       "  * lat      (lat) float64 -20.0 -19.5 -19.0 -18.5 -18.0 ... 18.5 19.0 19.5 20.0\n",
       "  * lon      (lon) float64 30.0 30.62 31.25 31.88 ... 98.12 98.75 99.38 100.0\n",
       "  * time     (time) datetime64[ns] 2014-01-01 ... 2018-12-31T23:00:00\n",
       "Data variables:\n",
       "    TQV      (time, lat, lon) float32 ...</pre><div class='xr-wrap' hidden><div class='xr-header'><div class='xr-obj-type'>xarray.Dataset</div></div><ul class='xr-sections'><li class='xr-section-item'><input id='section-39c023d9-ccee-4b1d-a348-eba59c2a1d20' class='xr-section-summary-in' type='checkbox' disabled ><label for='section-39c023d9-ccee-4b1d-a348-eba59c2a1d20' class='xr-section-summary'  title='Expand/collapse section'>Dimensions:</label><div class='xr-section-inline-details'><ul class='xr-dim-list'><li><span class='xr-has-index'>lat</span>: 81</li><li><span class='xr-has-index'>lon</span>: 113</li><li><span class='xr-has-index'>time</span>: 43824</li></ul></div><div class='xr-section-details'></div></li><li class='xr-section-item'><input id='section-397a111d-6d87-40de-aedb-a5b23e31e188' class='xr-section-summary-in' type='checkbox'  checked><label for='section-397a111d-6d87-40de-aedb-a5b23e31e188' class='xr-section-summary' >Coordinates: <span>(3)</span></label><div class='xr-section-inline-details'></div><div class='xr-section-details'><ul class='xr-var-list'><li class='xr-var-item'><div class='xr-var-name'><span class='xr-has-index'>lat</span></div><div class='xr-var-dims'>(lat)</div><div class='xr-var-dtype'>float64</div><div class='xr-var-preview xr-preview'>-20.0 -19.5 -19.0 ... 19.5 20.0</div><input id='attrs-08aa7f6f-16b4-4f69-8b5a-9908333dade3' class='xr-var-attrs-in' type='checkbox' ><label for='attrs-08aa7f6f-16b4-4f69-8b5a-9908333dade3' title='Show/Hide attributes'><svg class='icon xr-icon-file-text2'><use xlink:href='#icon-file-text2'></use></svg></label><input id='data-77edf604-a708-436f-9904-f6202eb8e83d' class='xr-var-data-in' type='checkbox'><label for='data-77edf604-a708-436f-9904-f6202eb8e83d' title='Show/Hide data repr'><svg class='icon xr-icon-database'><use xlink:href='#icon-database'></use></svg></label><div class='xr-var-attrs'><dl class='xr-attrs'><dt><span>standard_name :</span></dt><dd>latitude</dd><dt><span>long_name :</span></dt><dd>latitude</dd><dt><span>units :</span></dt><dd>degrees_north</dd><dt><span>axis :</span></dt><dd>Y</dd></dl></div><div class='xr-var-data'><pre>array([-2.00000e+01, -1.95000e+01, -1.90000e+01, -1.85000e+01, -1.80000e+01,\n",
       "       -1.75000e+01, -1.70000e+01, -1.65000e+01, -1.60000e+01, -1.55000e+01,\n",
       "       -1.50000e+01, -1.45000e+01, -1.40000e+01, -1.35000e+01, -1.30000e+01,\n",
       "       -1.25000e+01, -1.20000e+01, -1.15000e+01, -1.10000e+01, -1.05000e+01,\n",
       "       -1.00000e+01, -9.50000e+00, -9.00000e+00, -8.50000e+00, -8.00000e+00,\n",
       "       -7.50000e+00, -7.00000e+00, -6.50000e+00, -6.00000e+00, -5.50000e+00,\n",
       "       -5.00000e+00, -4.50000e+00, -4.00000e+00, -3.50000e+00, -3.00000e+00,\n",
       "       -2.50000e+00, -2.00000e+00, -1.50000e+00, -1.00000e+00, -5.00000e-01,\n",
       "       -1.79751e-13,  5.00000e-01,  1.00000e+00,  1.50000e+00,  2.00000e+00,\n",
       "        2.50000e+00,  3.00000e+00,  3.50000e+00,  4.00000e+00,  4.50000e+00,\n",
       "        5.00000e+00,  5.50000e+00,  6.00000e+00,  6.50000e+00,  7.00000e+00,\n",
       "        7.50000e+00,  8.00000e+00,  8.50000e+00,  9.00000e+00,  9.50000e+00,\n",
       "        1.00000e+01,  1.05000e+01,  1.10000e+01,  1.15000e+01,  1.20000e+01,\n",
       "        1.25000e+01,  1.30000e+01,  1.35000e+01,  1.40000e+01,  1.45000e+01,\n",
       "        1.50000e+01,  1.55000e+01,  1.60000e+01,  1.65000e+01,  1.70000e+01,\n",
       "        1.75000e+01,  1.80000e+01,  1.85000e+01,  1.90000e+01,  1.95000e+01,\n",
       "        2.00000e+01])</pre></div></li><li class='xr-var-item'><div class='xr-var-name'><span class='xr-has-index'>lon</span></div><div class='xr-var-dims'>(lon)</div><div class='xr-var-dtype'>float64</div><div class='xr-var-preview xr-preview'>30.0 30.62 31.25 ... 99.38 100.0</div><input id='attrs-0406e887-5cff-407e-b6f0-288ab079218a' class='xr-var-attrs-in' type='checkbox' ><label for='attrs-0406e887-5cff-407e-b6f0-288ab079218a' title='Show/Hide attributes'><svg class='icon xr-icon-file-text2'><use xlink:href='#icon-file-text2'></use></svg></label><input id='data-b9aeec2c-3e83-4564-abdf-98ed693dc1cb' class='xr-var-data-in' type='checkbox'><label for='data-b9aeec2c-3e83-4564-abdf-98ed693dc1cb' title='Show/Hide data repr'><svg class='icon xr-icon-database'><use xlink:href='#icon-database'></use></svg></label><div class='xr-var-attrs'><dl class='xr-attrs'><dt><span>standard_name :</span></dt><dd>longitude</dd><dt><span>long_name :</span></dt><dd>longitude</dd><dt><span>units :</span></dt><dd>degrees_east</dd><dt><span>axis :</span></dt><dd>X</dd></dl></div><div class='xr-var-data'><pre>array([ 30.   ,  30.625,  31.25 ,  31.875,  32.5  ,  33.125,  33.75 ,  34.375,\n",
       "        35.   ,  35.625,  36.25 ,  36.875,  37.5  ,  38.125,  38.75 ,  39.375,\n",
       "        40.   ,  40.625,  41.25 ,  41.875,  42.5  ,  43.125,  43.75 ,  44.375,\n",
       "        45.   ,  45.625,  46.25 ,  46.875,  47.5  ,  48.125,  48.75 ,  49.375,\n",
       "        50.   ,  50.625,  51.25 ,  51.875,  52.5  ,  53.125,  53.75 ,  54.375,\n",
       "        55.   ,  55.625,  56.25 ,  56.875,  57.5  ,  58.125,  58.75 ,  59.375,\n",
       "        60.   ,  60.625,  61.25 ,  61.875,  62.5  ,  63.125,  63.75 ,  64.375,\n",
       "        65.   ,  65.625,  66.25 ,  66.875,  67.5  ,  68.125,  68.75 ,  69.375,\n",
       "        70.   ,  70.625,  71.25 ,  71.875,  72.5  ,  73.125,  73.75 ,  74.375,\n",
       "        75.   ,  75.625,  76.25 ,  76.875,  77.5  ,  78.125,  78.75 ,  79.375,\n",
       "        80.   ,  80.625,  81.25 ,  81.875,  82.5  ,  83.125,  83.75 ,  84.375,\n",
       "        85.   ,  85.625,  86.25 ,  86.875,  87.5  ,  88.125,  88.75 ,  89.375,\n",
       "        90.   ,  90.625,  91.25 ,  91.875,  92.5  ,  93.125,  93.75 ,  94.375,\n",
       "        95.   ,  95.625,  96.25 ,  96.875,  97.5  ,  98.125,  98.75 ,  99.375,\n",
       "       100.   ])</pre></div></li><li class='xr-var-item'><div class='xr-var-name'><span class='xr-has-index'>time</span></div><div class='xr-var-dims'>(time)</div><div class='xr-var-dtype'>datetime64[ns]</div><div class='xr-var-preview xr-preview'>2014-01-01 ... 2018-12-31T23:00:00</div><input id='attrs-7ba2d1fb-fe74-4910-90a1-6823ce50d5b8' class='xr-var-attrs-in' type='checkbox' ><label for='attrs-7ba2d1fb-fe74-4910-90a1-6823ce50d5b8' title='Show/Hide attributes'><svg class='icon xr-icon-file-text2'><use xlink:href='#icon-file-text2'></use></svg></label><input id='data-fc5a43ef-c336-4f5f-a600-0705948c8512' class='xr-var-data-in' type='checkbox'><label for='data-fc5a43ef-c336-4f5f-a600-0705948c8512' title='Show/Hide data repr'><svg class='icon xr-icon-database'><use xlink:href='#icon-database'></use></svg></label><div class='xr-var-attrs'><dl class='xr-attrs'><dt><span>standard_name :</span></dt><dd>time</dd><dt><span>long_name :</span></dt><dd>time</dd></dl></div><div class='xr-var-data'><pre>array([&#x27;2014-01-01T00:00:00.000000000&#x27;, &#x27;2014-01-01T01:00:00.000000000&#x27;,\n",
       "       &#x27;2014-01-01T02:00:00.000000000&#x27;, ..., &#x27;2018-12-31T21:00:00.000000000&#x27;,\n",
       "       &#x27;2018-12-31T22:00:00.000000000&#x27;, &#x27;2018-12-31T23:00:00.000000000&#x27;],\n",
       "      dtype=&#x27;datetime64[ns]&#x27;)</pre></div></li></ul></div></li><li class='xr-section-item'><input id='section-0d3dae43-4bd2-47bc-8938-d09cf7e488e1' class='xr-section-summary-in' type='checkbox'  checked><label for='section-0d3dae43-4bd2-47bc-8938-d09cf7e488e1' class='xr-section-summary' >Data variables: <span>(1)</span></label><div class='xr-section-inline-details'></div><div class='xr-section-details'><ul class='xr-var-list'><li class='xr-var-item'><div class='xr-var-name'><span>TQV</span></div><div class='xr-var-dims'>(time, lat, lon)</div><div class='xr-var-dtype'>float32</div><div class='xr-var-preview xr-preview'>...</div><input id='attrs-10d3166b-11e1-4fde-b2ab-84fc1adc00e5' class='xr-var-attrs-in' type='checkbox' ><label for='attrs-10d3166b-11e1-4fde-b2ab-84fc1adc00e5' title='Show/Hide attributes'><svg class='icon xr-icon-file-text2'><use xlink:href='#icon-file-text2'></use></svg></label><input id='data-4e6192b4-b032-49b3-a0b8-e1803df40985' class='xr-var-data-in' type='checkbox'><label for='data-4e6192b4-b032-49b3-a0b8-e1803df40985' title='Show/Hide data repr'><svg class='icon xr-icon-database'><use xlink:href='#icon-database'></use></svg></label><div class='xr-var-attrs'><dl class='xr-attrs'><dt><span>standard_name :</span></dt><dd>total_precipitable_water_vapor</dd><dt><span>long_name :</span></dt><dd>total_precipitable_water_vapor</dd><dt><span>units :</span></dt><dd>kg m-2</dd><dt><span>fmissing_value :</span></dt><dd>1000000000000000.0</dd><dt><span>vmax :</span></dt><dd>1000000000000000.0</dd><dt><span>vmin :</span></dt><dd>-1000000000000000.0</dd></dl></div><div class='xr-var-data'><pre>[401121072 values with dtype=float32]</pre></div></li></ul></div></li><li class='xr-section-item'><input id='section-ed7f4045-74d8-486a-9fb8-d44d1628745d' class='xr-section-summary-in' type='checkbox' disabled ><label for='section-ed7f4045-74d8-486a-9fb8-d44d1628745d' class='xr-section-summary'  title='Expand/collapse section'>Attributes: <span>(0)</span></label><div class='xr-section-inline-details'></div><div class='xr-section-details'><dl class='xr-attrs'></dl></div></li></ul></div></div>"
      ],
      "text/plain": [
       "<xarray.Dataset>\n",
       "Dimensions:  (lat: 81, lon: 113, time: 43824)\n",
       "Coordinates:\n",
       "  * lat      (lat) float64 -20.0 -19.5 -19.0 -18.5 -18.0 ... 18.5 19.0 19.5 20.0\n",
       "  * lon      (lon) float64 30.0 30.62 31.25 31.88 ... 98.12 98.75 99.38 100.0\n",
       "  * time     (time) datetime64[ns] 2014-01-01 ... 2018-12-31T23:00:00\n",
       "Data variables:\n",
       "    TQV      (time, lat, lon) float32 ..."
      ]
     },
     "execution_count": 7,
     "metadata": {},
     "output_type": "execute_result"
    }
   ],
   "source": [
    "TQV_WEIO = xr.open_dataset('/data2/brian/WEIO_30-100_20S-20N_2014-8.nc')\n",
    "TQV_WEIO"
   ]
  },
  {
   "cell_type": "code",
   "execution_count": null,
   "id": "hollow-there",
   "metadata": {},
   "outputs": [],
   "source": []
  },
  {
   "cell_type": "code",
   "execution_count": 4,
   "id": "light-residence",
   "metadata": {},
   "outputs": [
    {
     "data": {
      "text/plain": [
       "{0.34: 'dog'}"
      ]
     },
     "execution_count": 4,
     "metadata": {},
     "output_type": "execute_result"
    }
   ],
   "source": [
    "# playing with dictionaries for syntax test \n",
    "str1 = '2020030123'\n",
    "str2 = 'dog'\n",
    "\n",
    "dict = {}\n",
    "dict.update({0.34 : str2})\n",
    "\n",
    "dict\n",
    "# print(dict[str1])\n"
   ]
  },
  {
   "cell_type": "code",
   "execution_count": null,
   "id": "abroad-destination",
   "metadata": {},
   "outputs": [],
   "source": []
  }
 ],
 "metadata": {
  "kernelspec": {
   "display_name": "Python 3 (ipykernel)",
   "language": "python",
   "name": "python3"
  },
  "language_info": {
   "codemirror_mode": {
    "name": "ipython",
    "version": 3
   },
   "file_extension": ".py",
   "mimetype": "text/x-python",
   "name": "python",
   "nbconvert_exporter": "python",
   "pygments_lexer": "ipython3",
   "version": "3.10.12"
  }
 },
 "nbformat": 4,
 "nbformat_minor": 5
}
